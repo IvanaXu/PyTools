{
 "cells": [
  {
   "cell_type": "code",
   "execution_count": 1,
   "metadata": {},
   "outputs": [],
   "source": [
    "import numpy as np\n",
    "from tqdm import tqdm"
   ]
  },
  {
   "cell_type": "code",
   "execution_count": 2,
   "metadata": {},
   "outputs": [],
   "source": [
    "X, N = 1000, 500000"
   ]
  },
  {
   "cell_type": "code",
   "execution_count": 3,
   "metadata": {},
   "outputs": [],
   "source": [
    "data = np.random.randint(-X, X, size=(N))"
   ]
  },
  {
   "cell_type": "code",
   "execution_count": 4,
   "metadata": {},
   "outputs": [],
   "source": [
    "data1 = np.random.randint(-X, X, size=(N))\n",
    "data2 = np.random.randint(-X, X, size=(N))\n",
    "data3 = np.random.randint(-X, X, size=(N))"
   ]
  },
  {
   "cell_type": "code",
   "execution_count": 5,
   "metadata": {},
   "outputs": [
    {
     "name": "stderr",
     "output_type": "stream",
     "text": [
      "100%|██████████| 500000/500000 [01:33<00:00, 5374.23it/s]\n"
     ]
    }
   ],
   "source": [
    "\n",
    "_r1 = []\n",
    "for idata in tqdm(data):\n",
    "    _r1.append(1 if idata in data1 else 1 if idata in data2 else 1 if idata in data3 else 0)\n"
   ]
  },
  {
   "cell_type": "code",
   "execution_count": 6,
   "metadata": {},
   "outputs": [
    {
     "name": "stderr",
     "output_type": "stream",
     "text": [
      "100%|██████████| 500000/500000 [01:50<00:00, 4529.29it/s]\n"
     ]
    }
   ],
   "source": [
    "\n",
    "_r2 = []\n",
    "cmd = \"\"\"\n",
    "1 if idata in data1 else 1 if idata in data2 else 1 if idata in data3 else 0\n",
    "\"\"\"\n",
    "for idata in tqdm(data):\n",
    "    _r2.append(eval(cmd))\n"
   ]
  },
  {
   "cell_type": "code",
   "execution_count": 7,
   "metadata": {},
   "outputs": [],
   "source": [
    "assert _r1 == _r2"
   ]
  },
  {
   "cell_type": "code",
   "execution_count": 8,
   "metadata": {},
   "outputs": [
    {
     "name": "stdout",
     "output_type": "stream",
     "text": [
      "Help on built-in function eval in module builtins:\n",
      "\n",
      "eval(source, globals=None, locals=None, /)\n",
      "    Evaluate the given source in the context of globals and locals.\n",
      "    \n",
      "    The source may be a string representing a Python expression\n",
      "    or a code object as returned by compile().\n",
      "    The globals must be a dictionary and locals can be any mapping,\n",
      "    defaulting to the current globals and locals.\n",
      "    If only globals is given, locals defaults to it.\n",
      "\n"
     ]
    }
   ],
   "source": [
    "help(eval)"
   ]
  },
  {
   "cell_type": "code",
   "execution_count": 9,
   "metadata": {},
   "outputs": [
    {
     "name": "stdout",
     "output_type": "stream",
     "text": [
      "Help on built-in function __import__ in module builtins:\n",
      "\n",
      "__import__(...)\n",
      "    __import__(name, globals=None, locals=None, fromlist=(), level=0) -> module\n",
      "    \n",
      "    Import a module. Because this function is meant for use by the Python\n",
      "    interpreter and not for general use, it is better to use\n",
      "    importlib.import_module() to programmatically import a module.\n",
      "    \n",
      "    The globals argument is only used to determine the context;\n",
      "    they are not modified.  The locals argument is unused.  The fromlist\n",
      "    should be a list of names to emulate ``from name import ...'', or an\n",
      "    empty list to emulate ``import name''.\n",
      "    When importing a module from a package, note that __import__('A.B', ...)\n",
      "    returns package A when fromlist is empty, but its submodule B when\n",
      "    fromlist is not empty.  The level argument is used to determine whether to\n",
      "    perform absolute or relative imports: 0 is absolute, while a positive number\n",
      "    is the number of parent directories to search relative to the current module.\n",
      "\n"
     ]
    }
   ],
   "source": [
    "help(__import__)"
   ]
  },
  {
   "cell_type": "code",
   "execution_count": null,
   "metadata": {},
   "outputs": [],
   "source": []
  }
 ],
 "metadata": {
  "kernelspec": {
   "display_name": "Python 3",
   "language": "python",
   "name": "python3"
  },
  "language_info": {
   "codemirror_mode": {
    "name": "ipython",
    "version": 3
   },
   "file_extension": ".py",
   "mimetype": "text/x-python",
   "name": "python",
   "nbconvert_exporter": "python",
   "pygments_lexer": "ipython3",
   "version": "3.7.0"
  }
 },
 "nbformat": 4,
 "nbformat_minor": 2
}
