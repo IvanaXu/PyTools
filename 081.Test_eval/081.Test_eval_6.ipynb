{
 "cells": [
  {
   "cell_type": "code",
   "execution_count": 1,
   "metadata": {},
   "outputs": [
    {
     "name": "stdout",
     "output_type": "stream",
     "text": [
      "<code object <module> at 0x7f91b8462d20, file \"\", line 2>\n"
     ]
    }
   ],
   "source": [
    "# -*-coding:utf-8-*-\n",
    "# @auth ivan\n",
    "# @time 20201124 00:56:00\n",
    "# @goal Test eval\n",
    "cmd = \"\"\"\n",
    "import os\n",
    "os.system('ls -l')\n",
    "\"\"\"\n",
    "code_object = compile(cmd, \"\", \"exec\")\n",
    "print(code_object)\n",
    "eval(code_object)"
   ]
  },
  {
   "cell_type": "code",
   "execution_count": 2,
   "metadata": {},
   "outputs": [
    {
     "name": "stdout",
     "output_type": "stream",
     "text": [
      "Help on code object:\n",
      "\n",
      "class code(object)\n",
      " |  code(argcount, kwonlyargcount, nlocals, stacksize, flags, codestring,\n",
      " |        constants, names, varnames, filename, name, firstlineno,\n",
      " |        lnotab[, freevars[, cellvars]])\n",
      " |  \n",
      " |  Create a code object.  Not for the faint of heart.\n",
      " |  \n",
      " |  Methods defined here:\n",
      " |  \n",
      " |  __eq__(self, value, /)\n",
      " |      Return self==value.\n",
      " |  \n",
      " |  __ge__(self, value, /)\n",
      " |      Return self>=value.\n",
      " |  \n",
      " |  __getattribute__(self, name, /)\n",
      " |      Return getattr(self, name).\n",
      " |  \n",
      " |  __gt__(self, value, /)\n",
      " |      Return self>value.\n",
      " |  \n",
      " |  __hash__(self, /)\n",
      " |      Return hash(self).\n",
      " |  \n",
      " |  __le__(self, value, /)\n",
      " |      Return self<=value.\n",
      " |  \n",
      " |  __lt__(self, value, /)\n",
      " |      Return self<value.\n",
      " |  \n",
      " |  __ne__(self, value, /)\n",
      " |      Return self!=value.\n",
      " |  \n",
      " |  __repr__(self, /)\n",
      " |      Return repr(self).\n",
      " |  \n",
      " |  __sizeof__(...)\n",
      " |      Size of object in memory, in bytes.\n",
      " |  \n",
      " |  ----------------------------------------------------------------------\n",
      " |  Static methods defined here:\n",
      " |  \n",
      " |  __new__(*args, **kwargs) from builtins.type\n",
      " |      Create and return a new object.  See help(type) for accurate signature.\n",
      " |  \n",
      " |  ----------------------------------------------------------------------\n",
      " |  Data descriptors defined here:\n",
      " |  \n",
      " |  co_argcount\n",
      " |  \n",
      " |  co_cellvars\n",
      " |  \n",
      " |  co_code\n",
      " |  \n",
      " |  co_consts\n",
      " |  \n",
      " |  co_filename\n",
      " |  \n",
      " |  co_firstlineno\n",
      " |  \n",
      " |  co_flags\n",
      " |  \n",
      " |  co_freevars\n",
      " |  \n",
      " |  co_kwonlyargcount\n",
      " |  \n",
      " |  co_lnotab\n",
      " |  \n",
      " |  co_name\n",
      " |  \n",
      " |  co_names\n",
      " |  \n",
      " |  co_nlocals\n",
      " |  \n",
      " |  co_stacksize\n",
      " |  \n",
      " |  co_varnames\n",
      "\n"
     ]
    }
   ],
   "source": [
    "help(code_object)"
   ]
  },
  {
   "cell_type": "code",
   "execution_count": null,
   "metadata": {},
   "outputs": [],
   "source": []
  }
 ],
 "metadata": {
  "kernelspec": {
   "display_name": "Python 3",
   "language": "python",
   "name": "python3"
  },
  "language_info": {
   "codemirror_mode": {
    "name": "ipython",
    "version": 3
   },
   "file_extension": ".py",
   "mimetype": "text/x-python",
   "name": "python",
   "nbconvert_exporter": "python",
   "pygments_lexer": "ipython3",
   "version": "3.7.0"
  }
 },
 "nbformat": 4,
 "nbformat_minor": 2
}
