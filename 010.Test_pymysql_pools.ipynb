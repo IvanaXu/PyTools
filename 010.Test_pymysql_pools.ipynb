{
 "cells": [
  {
   "cell_type": "code",
   "execution_count": 1,
   "metadata": {},
   "outputs": [
    {
     "data": {
      "text/plain": [
       "((94,),)"
      ]
     },
     "execution_count": 1,
     "metadata": {},
     "output_type": "execute_result"
    }
   ],
   "source": [
    "import pymysql\n",
    "db = pymysql.connect(\"0.0.0.0\",\"root\",\"123456\",\"x\")\n",
    "cursor = db.cursor()\n",
    "cursor.execute('select count(*) from TIJJ_DEFAULTINFO')\n",
    "cursor.fetchall()\n"
   ]
  },
  {
   "cell_type": "code",
   "execution_count": 2,
   "metadata": {},
   "outputs": [
    {
     "name": "stdout",
     "output_type": "stream",
     "text": [
      "池子目前有 5\n",
      "池子目前有 4\n",
      "池子目前有 3\n"
     ]
    }
   ],
   "source": [
    "from DBUtils.PooledDB import PooledDB\n",
    "import pymysql\n",
    "c_mysql = '0.0.0.0,root,123456,x'\n",
    "[c1, c2, c3, c4] = c_mysql.split(',')\n",
    "pool2 = PooledDB(creator=pymysql, maxconnections=16, mincached=5, blocking=True, host=c1, user=c2, passwd=c3, db=c4, port=3306)\n",
    "\n",
    "print('池子目前有', len(pool2._idle_cache))\n",
    "\n",
    "db1 = pool2.connection()\n",
    "cursor1 = db1.cursor()\n",
    "cursor1.execute('show tables;')\n",
    "print('池子目前有', len(pool2._idle_cache))\n",
    "\n",
    "db2 = pool2.connection()\n",
    "cursor2 = db2.cursor()\n",
    "cursor2.execute('show tables;')\n",
    "print('池子目前有', len(pool2._idle_cache))\n"
   ]
  },
  {
   "cell_type": "code",
   "execution_count": 3,
   "metadata": {},
   "outputs": [
    {
     "name": "stdout",
     "output_type": "stream",
     "text": [
      "End\n",
      "End\n"
     ]
    }
   ],
   "source": [
    "from DBUtils.PersistentDB import PersistentDB\n",
    "import pymysql\n",
    "c_mysql = '0.0.0.0,root,123456,x'\n",
    "[c1, c2, c3, c4] = c_mysql.split(',')\n",
    "pool2 = PersistentDB(creator=pymysql, threadlocal=None, host=c1, user=c2, passwd=c3, db=c4, port=3306)\n",
    "\n",
    "db1 = pool2.connection()\n",
    "cursor1 = db1.cursor()\n",
    "cursor1.execute('show tables;')\n",
    "print('End')\n",
    "\n",
    "db2 = pool2.connection()\n",
    "cursor2 = db2.cursor()\n",
    "cursor2.execute('show tables;')\n",
    "print('End')\n"
   ]
  },
  {
   "cell_type": "code",
   "execution_count": null,
   "metadata": {},
   "outputs": [],
   "source": []
  }
 ],
 "metadata": {
  "kernelspec": {
   "display_name": "Python 3",
   "language": "python",
   "name": "python3"
  },
  "language_info": {
   "codemirror_mode": {
    "name": "ipython",
    "version": 3
   },
   "file_extension": ".py",
   "mimetype": "text/x-python",
   "name": "python",
   "nbconvert_exporter": "python",
   "pygments_lexer": "ipython3",
   "version": "3.7.0"
  }
 },
 "nbformat": 4,
 "nbformat_minor": 2
}
