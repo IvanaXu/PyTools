{
 "cells": [
  {
   "cell_type": "code",
   "execution_count": 2,
   "metadata": {},
   "outputs": [],
   "source": [
    "import numba as nb\n",
    "import numpy as np\n",
    "from math import sin\n"
   ]
  },
  {
   "cell_type": "code",
   "execution_count": 3,
   "metadata": {},
   "outputs": [],
   "source": [
    "\n",
    "# \n",
    "@nb.jit()\n",
    "def f1(d):\n",
    "    Sum = 0\n",
    "    for i in d:\n",
    "        Sum += i\n",
    "    return Sum\n",
    "\n",
    "\n",
    "# \n",
    "def f2(d):\n",
    "    Sum = 0\n",
    "    for i in d:\n",
    "        Sum += i\n",
    "    return Sum\n",
    "\n",
    "# \n",
    "f3 = lambda d: np.sum(d)\n",
    "\n",
    "# \n",
    "f4 = lambda d: sum(d)\n",
    "\n",
    "# \n",
    "f5 = lambda d: np.sin(d)\n",
    "\n",
    "#\n",
    "@nb.vectorize()\n",
    "def f6(d):\n",
    "    return sin(d)\n"
   ]
  },
  {
   "cell_type": "code",
   "execution_count": 3,
   "metadata": {},
   "outputs": [
    {
     "name": "stdout",
     "output_type": "stream",
     "text": [
      "313 ns ± 3.24 ns per loop (mean ± std. dev. of 7 runs, 1000000 loops each)\n",
      "17.9 µs ± 184 ns per loop (mean ± std. dev. of 7 runs, 100000 loops each)\n",
      "3.2 µs ± 52.6 ns per loop (mean ± std. dev. of 7 runs, 100000 loops each)\n",
      "13.9 µs ± 124 ns per loop (mean ± std. dev. of 7 runs, 100000 loops each)\n",
      "1.47 µs ± 7.03 ns per loop (mean ± std. dev. of 7 runs, 1000000 loops each)\n",
      "1.22 µs ± 14.9 ns per loop (mean ± std. dev. of 7 runs, 1000000 loops each)\n"
     ]
    }
   ],
   "source": [
    "data = np.linspace(0, 100, int(1e2))\n",
    "\n",
    "%timeit f1(data)\n",
    "%timeit f2(data)\n",
    "%timeit f3(data)\n",
    "%timeit f4(data)\n",
    "%timeit f5(data)\n",
    "%timeit f6(data)\n"
   ]
  },
  {
   "cell_type": "code",
   "execution_count": 4,
   "metadata": {},
   "outputs": [
    {
     "name": "stdout",
     "output_type": "stream",
     "text": [
      "1.02 ms ± 3.62 µs per loop (mean ± std. dev. of 7 runs, 1000 loops each)\n",
      "172 ms ± 1.14 ms per loop (mean ± std. dev. of 7 runs, 10 loops each)\n",
      "324 µs ± 27 µs per loop (mean ± std. dev. of 7 runs, 1000 loops each)\n",
      "129 ms ± 772 µs per loop (mean ± std. dev. of 7 runs, 10 loops each)\n",
      "10.6 ms ± 92.4 µs per loop (mean ± std. dev. of 7 runs, 100 loops each)\n",
      "9.64 ms ± 70.5 µs per loop (mean ± std. dev. of 7 runs, 100 loops each)\n"
     ]
    }
   ],
   "source": [
    "data = np.linspace(0, 100, int(1e6))\n",
    "\n",
    "%timeit f1(data)\n",
    "%timeit f2(data)\n",
    "%timeit f3(data)\n",
    "%timeit f4(data)\n",
    "%timeit f5(data)\n",
    "%timeit f6(data)\n"
   ]
  },
  {
   "cell_type": "code",
   "execution_count": 5,
   "metadata": {},
   "outputs": [
    {
     "name": "stdout",
     "output_type": "stream",
     "text": [
      "107 ms ± 1.11 ms per loop (mean ± std. dev. of 7 runs, 10 loops each)\n",
      "17.1 s ± 62.8 ms per loop (mean ± std. dev. of 7 runs, 1 loop each)\n",
      "40.6 ms ± 383 µs per loop (mean ± std. dev. of 7 runs, 10 loops each)\n",
      "12.9 s ± 288 ms per loop (mean ± std. dev. of 7 runs, 1 loop each)\n",
      "1.33 s ± 7.67 ms per loop (mean ± std. dev. of 7 runs, 1 loop each)\n",
      "1.23 s ± 4.49 ms per loop (mean ± std. dev. of 7 runs, 1 loop each)\n"
     ]
    }
   ],
   "source": [
    "data = np.linspace(0, 100, int(1e8))\n",
    "\n",
    "%timeit f1(data)\n",
    "%timeit f2(data)\n",
    "%timeit f3(data)\n",
    "%timeit f4(data)\n",
    "%timeit f5(data)\n",
    "%timeit f6(data)\n"
   ]
  },
  {
   "cell_type": "code",
   "execution_count": 7,
   "metadata": {},
   "outputs": [
    {
     "name": "stdout",
     "output_type": "stream",
     "text": [
      "1.11 s ± 10.9 ms per loop (mean ± std. dev. of 7 runs, 1 loop each)\n",
      "3min 3s ± 3.44 s per loop (mean ± std. dev. of 7 runs, 1 loop each)\n",
      "528 ms ± 79.4 ms per loop (mean ± std. dev. of 7 runs, 1 loop each)\n",
      "2min 18s ± 6.63 s per loop (mean ± std. dev. of 7 runs, 1 loop each)\n",
      "20.1 s ± 3.24 s per loop (mean ± std. dev. of 7 runs, 1 loop each)\n",
      "17.2 s ± 2.25 s per loop (mean ± std. dev. of 7 runs, 1 loop each)\n"
     ]
    }
   ],
   "source": [
    "data = np.linspace(0, 100, int(1e9))\n",
    "\n",
    "%timeit f1(data)\n",
    "%timeit f2(data)\n",
    "%timeit f3(data)\n",
    "%timeit f4(data)\n",
    "%timeit f5(data)\n",
    "%timeit f6(data)\n"
   ]
  },
  {
   "cell_type": "code",
   "execution_count": null,
   "metadata": {},
   "outputs": [],
   "source": []
  }
 ],
 "metadata": {
  "kernelspec": {
   "display_name": "Python 3",
   "language": "python",
   "name": "python3"
  },
  "language_info": {
   "codemirror_mode": {
    "name": "ipython",
    "version": 3
   },
   "file_extension": ".py",
   "mimetype": "text/x-python",
   "name": "python",
   "nbconvert_exporter": "python",
   "pygments_lexer": "ipython3",
   "version": "3.7.0"
  }
 },
 "nbformat": 4,
 "nbformat_minor": 2
}
