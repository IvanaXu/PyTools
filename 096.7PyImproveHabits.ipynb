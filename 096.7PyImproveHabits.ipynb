{
 "cells": [
  {
   "cell_type": "code",
   "execution_count": 1,
   "metadata": {},
   "outputs": [],
   "source": [
    "# 1\n",
    "a = 1"
   ]
  },
  {
   "cell_type": "code",
   "execution_count": 2,
   "metadata": {},
   "outputs": [
    {
     "name": "stdout",
     "output_type": "stream",
     "text": [
      "True True True\n",
      "-\n",
      "-\n",
      "-\n",
      "-\n"
     ]
    }
   ],
   "source": [
    "# 2\n",
    "# Determine whether the variable num is an integer type\n",
    "num = 1\n",
    "print(\n",
    "    type(num) == type(0), #call the function three times\n",
    "    type(num) is type(0), #identity comparison\n",
    "    isinstance(num, (int)) #call the function once\n",
    ")\n",
    "\n",
    "a = \"12\"\n",
    "# Each loop needs to re-execute len(a)\n",
    "i = 0\n",
    "while i < len(a):\n",
    "    print(\"-\")\n",
    "    i += 1\n",
    "\n",
    "# Only execute len(a) once\n",
    "m = len(a)\n",
    "i = 0\n",
    "while i < m:\n",
    "    print(\"-\")\n",
    "    i += 1\n"
   ]
  },
  {
   "cell_type": "code",
   "execution_count": 3,
   "metadata": {},
   "outputs": [
    {
     "name": "stdout",
     "output_type": "stream",
     "text": [
      "1 10\n",
      "1 10\n"
     ]
    }
   ],
   "source": [
    "# 3\n",
    "# if each\n",
    "a = 1\n",
    "if a == 1:\n",
    "    b = 10\n",
    "elif a == 2:\n",
    "    b = 20\n",
    "print(a, b)\n",
    "\n",
    "# dict reach，better performance\n",
    "d = {1:10, 2:20}\n",
    "b = d[a]\n",
    "print(a, b)\n"
   ]
  },
  {
   "cell_type": "code",
   "execution_count": 4,
   "metadata": {},
   "outputs": [
    {
     "name": "stdout",
     "output_type": "stream",
     "text": [
      "1\n",
      "2\n",
      "3\n",
      "1\n",
      "2\n",
      "3\n"
     ]
    }
   ],
   "source": [
    "# 4\n",
    "a = [1,2,3]\n",
    "\n",
    "# Iterate elements \n",
    "for item in a:\n",
    "    print(item)\n",
    "\n",
    "# Iterate indexes\n",
    "for i in range(len(a)):\n",
    "    print(a[i])\n"
   ]
  },
  {
   "cell_type": "code",
   "execution_count": 5,
   "metadata": {},
   "outputs": [
    {
     "name": "stdout",
     "output_type": "stream",
     "text": [
      "CPU times: user 110 ms, sys: 5.99 ms, total: 116 ms\n",
      "Wall time: 116 ms\n",
      "2889507\n",
      "CPU times: user 132 ms, sys: 0 ns, total: 132 ms\n",
      "Wall time: 132 ms\n",
      "2889507\n"
     ]
    }
   ],
   "source": [
    "# 5\n",
    "# Calculate the number of non-null characters in file f\n",
    "\n",
    "import random\n",
    "f = [\n",
    "    \" \".join([str(random.randint(0,999)) for j in range(10)])\n",
    "    for i in range(100000)\n",
    "]\n",
    "# List analysis\n",
    "%time l = sum([len(word) for line in f for word in line.split()])\n",
    "print(l)\n",
    "\n",
    "# generator expression\n",
    "%time l = sum(len(word) for line in f for word in line.split())\n",
    "print(l)\n"
   ]
  },
  {
   "cell_type": "code",
   "execution_count": null,
   "metadata": {},
   "outputs": [],
   "source": []
  },
  {
   "cell_type": "code",
   "execution_count": null,
   "metadata": {},
   "outputs": [],
   "source": []
  }
 ],
 "metadata": {
  "kernelspec": {
   "display_name": "Python 3",
   "language": "python",
   "name": "python3"
  },
  "language_info": {
   "codemirror_mode": {
    "name": "ipython",
    "version": 3
   },
   "file_extension": ".py",
   "mimetype": "text/x-python",
   "name": "python",
   "nbconvert_exporter": "python",
   "pygments_lexer": "ipython3",
   "version": "3.6.5"
  }
 },
 "nbformat": 4,
 "nbformat_minor": 4
}
