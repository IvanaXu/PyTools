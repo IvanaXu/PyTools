{
 "cells": [
  {
   "cell_type": "code",
   "execution_count": 1,
   "metadata": {},
   "outputs": [
    {
     "name": "stderr",
     "output_type": "stream",
     "text": [
      "UserWarning: The Dask Engine for Modin is experimental.\n"
     ]
    }
   ],
   "source": [
    "import time\n",
    "import random\n",
    "import pandas as pd\n",
    "from tqdm import tqdm\n",
    "import modin.pandas as pm\n"
   ]
  },
  {
   "cell_type": "code",
   "execution_count": 2,
   "metadata": {},
   "outputs": [
    {
     "name": "stderr",
     "output_type": "stream",
     "text": [
      "  0%|          | 0/4 [00:00<?, ?it/s]"
     ]
    },
    {
     "name": "stdout",
     "output_type": "stream",
     "text": [
      "0\n",
      "1\n",
      "2\n",
      "0\n",
      "1\n"
     ]
    },
    {
     "name": "stderr",
     "output_type": "stream",
     "text": [
      "UserWarning: User-defined function verification is still under development in Modin. The function provided is not verified.\n",
      " 25%|██▌       | 1/4 [03:17<09:53, 197.77s/it]"
     ]
    },
    {
     "name": "stdout",
     "output_type": "stream",
     "text": [
      "2\n",
      "0\n",
      "1\n",
      "2\n",
      "0\n",
      "1\n"
     ]
    },
    {
     "name": "stderr",
     "output_type": "stream",
     "text": [
      " 50%|█████     | 2/4 [03:21<02:47, 83.73s/it] "
     ]
    },
    {
     "name": "stdout",
     "output_type": "stream",
     "text": [
      "2\n",
      "0\n",
      "1\n",
      "2\n",
      "0\n",
      "1\n"
     ]
    },
    {
     "name": "stderr",
     "output_type": "stream",
     "text": [
      " 75%|███████▌  | 3/4 [03:22<00:45, 45.84s/it]"
     ]
    },
    {
     "name": "stdout",
     "output_type": "stream",
     "text": [
      "2\n",
      "0\n",
      "1\n",
      "2\n",
      "0\n",
      "1\n"
     ]
    },
    {
     "name": "stderr",
     "output_type": "stream",
     "text": [
      "100%|██████████| 4/4 [03:22<00:00, 50.66s/it]"
     ]
    },
    {
     "name": "stdout",
     "output_type": "stream",
     "text": [
      "2\n"
     ]
    },
    {
     "name": "stderr",
     "output_type": "stream",
     "text": [
      "\n"
     ]
    }
   ],
   "source": [
    "\n",
    "csv = \"/track/119.Test_Modin.csv\"\n",
    "\n",
    "def calT(ptask):\n",
    "    calTr = []\n",
    "\n",
    "    time0 = time.time()\n",
    "    df = ptask.read_csv(csv)\n",
    "    calTr.append(time.time()-time0)\n",
    "    print(0)\n",
    "\n",
    "    time1 = time.time()\n",
    "    df.isnull()\n",
    "    calTr.append(time.time()-time1)\n",
    "    print(1)\n",
    "\n",
    "    time2 = time.time()\n",
    "    df.apply(lambda x: x/x.mean())\n",
    "    calTr.append(time.time()-time2)\n",
    "    print(2)\n",
    "\n",
    "    return calTr\n",
    "\n",
    "\n",
    "result = []\n",
    "for rows, cols in tqdm([\n",
    "    [10000, 10000],\n",
    "    [1000, 1000],\n",
    "    [100, 100],\n",
    "    [10, 10]\n",
    "]):\n",
    "    df = pd.DataFrame([\n",
    "        [\n",
    "            random.random() \n",
    "            for i in range(cols)\n",
    "        ]\n",
    "        for j in range(rows)\n",
    "    ])\n",
    "\n",
    "    df.to_csv(csv, index=None)\n",
    "\n",
    "    result.append([rows, cols] + calT(pd) + calT(pm))\n",
    "\n"
   ]
  },
  {
   "cell_type": "code",
   "execution_count": 3,
   "metadata": {},
   "outputs": [
    {
     "data": {
      "text/html": [
       "<div>\n",
       "<style scoped>\n",
       "    .dataframe tbody tr th:only-of-type {\n",
       "        vertical-align: middle;\n",
       "    }\n",
       "\n",
       "    .dataframe tbody tr th {\n",
       "        vertical-align: top;\n",
       "    }\n",
       "\n",
       "    .dataframe thead th {\n",
       "        text-align: right;\n",
       "    }\n",
       "</style>\n",
       "<table border=\"1\" class=\"dataframe\">\n",
       "  <thead>\n",
       "    <tr style=\"text-align: right;\">\n",
       "      <th></th>\n",
       "      <th>Rows</th>\n",
       "      <th>Cols</th>\n",
       "      <th>pdT1</th>\n",
       "      <th>pdT2</th>\n",
       "      <th>pdT3</th>\n",
       "      <th>pmT1</th>\n",
       "      <th>pmT2</th>\n",
       "      <th>pmT3</th>\n",
       "      <th>upT1</th>\n",
       "      <th>upT2</th>\n",
       "      <th>upT3</th>\n",
       "    </tr>\n",
       "  </thead>\n",
       "  <tbody>\n",
       "    <tr>\n",
       "      <th>0</th>\n",
       "      <td>10000</td>\n",
       "      <td>10000</td>\n",
       "      <td>38.013483</td>\n",
       "      <td>0.069456</td>\n",
       "      <td>3.416770</td>\n",
       "      <td>12.672273</td>\n",
       "      <td>0.127133</td>\n",
       "      <td>3.290792</td>\n",
       "      <td>0.333363</td>\n",
       "      <td>1.830416</td>\n",
       "      <td>0.963130</td>\n",
       "    </tr>\n",
       "    <tr>\n",
       "      <th>1</th>\n",
       "      <td>1000</td>\n",
       "      <td>1000</td>\n",
       "      <td>0.246920</td>\n",
       "      <td>0.000634</td>\n",
       "      <td>0.333674</td>\n",
       "      <td>0.933746</td>\n",
       "      <td>0.118438</td>\n",
       "      <td>0.792660</td>\n",
       "      <td>3.781579</td>\n",
       "      <td>186.753383</td>\n",
       "      <td>2.375554</td>\n",
       "    </tr>\n",
       "    <tr>\n",
       "      <th>2</th>\n",
       "      <td>100</td>\n",
       "      <td>100</td>\n",
       "      <td>0.010047</td>\n",
       "      <td>0.000320</td>\n",
       "      <td>0.025977</td>\n",
       "      <td>0.359767</td>\n",
       "      <td>0.034956</td>\n",
       "      <td>0.264576</td>\n",
       "      <td>35.809440</td>\n",
       "      <td>109.087798</td>\n",
       "      <td>10.185133</td>\n",
       "    </tr>\n",
       "    <tr>\n",
       "      <th>3</th>\n",
       "      <td>10</td>\n",
       "      <td>10</td>\n",
       "      <td>0.003814</td>\n",
       "      <td>0.000074</td>\n",
       "      <td>0.002991</td>\n",
       "      <td>0.080243</td>\n",
       "      <td>0.005882</td>\n",
       "      <td>0.105738</td>\n",
       "      <td>21.037817</td>\n",
       "      <td>79.076923</td>\n",
       "      <td>35.355230</td>\n",
       "    </tr>\n",
       "  </tbody>\n",
       "</table>\n",
       "</div>"
      ],
      "text/plain": [
       "    Rows   Cols       pdT1      pdT2      pdT3       pmT1      pmT2      pmT3  \\\n",
       "0  10000  10000  38.013483  0.069456  3.416770  12.672273  0.127133  3.290792   \n",
       "1   1000   1000   0.246920  0.000634  0.333674   0.933746  0.118438  0.792660   \n",
       "2    100    100   0.010047  0.000320  0.025977   0.359767  0.034956  0.264576   \n",
       "3     10     10   0.003814  0.000074  0.002991   0.080243  0.005882  0.105738   \n",
       "\n",
       "        upT1        upT2       upT3  \n",
       "0   0.333363    1.830416   0.963130  \n",
       "1   3.781579  186.753383   2.375554  \n",
       "2  35.809440  109.087798  10.185133  \n",
       "3  21.037817   79.076923  35.355230  "
      ]
     },
     "execution_count": 3,
     "metadata": {},
     "output_type": "execute_result"
    }
   ],
   "source": [
    "result = pd.DataFrame(\n",
    "    result, columns=[\"Rows\", \"Cols\", \"pdT1\", \"pdT2\", \"pdT3\", \"pmT1\", \"pmT2\", \"pmT3\"])\n",
    "for n in [1, 2, 3]:\n",
    "    result[f\"upT{n}\"] = result[f\"pmT{n}\"]/result[f\"pdT{n}\"]\n",
    "result\n"
   ]
  },
  {
   "cell_type": "code",
   "execution_count": null,
   "metadata": {},
   "outputs": [],
   "source": []
  }
 ],
 "metadata": {
  "kernelspec": {
   "display_name": "Python 3.6.9 64-bit",
   "language": "python",
   "name": "python3"
  },
  "language_info": {
   "codemirror_mode": {
    "name": "ipython",
    "version": 3
   },
   "file_extension": ".py",
   "mimetype": "text/x-python",
   "name": "python",
   "nbconvert_exporter": "python",
   "pygments_lexer": "ipython3",
   "version": "3.6.9"
  },
  "orig_nbformat": 4,
  "vscode": {
   "interpreter": {
    "hash": "31f2aee4e71d21fbe5cf8b01ff0e069b9275f58929596ceb00d14d90e3e16cd6"
   }
  }
 },
 "nbformat": 4,
 "nbformat_minor": 2
}
