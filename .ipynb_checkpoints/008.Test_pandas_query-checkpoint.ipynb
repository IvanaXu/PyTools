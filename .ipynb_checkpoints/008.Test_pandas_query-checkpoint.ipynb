{
 "cells": [
  {
   "cell_type": "code",
   "execution_count": 1,
   "metadata": {},
   "outputs": [],
   "source": [
    "import pandas as pd\n",
    "import numpy as np"
   ]
  },
  {
   "cell_type": "code",
   "execution_count": 2,
   "metadata": {},
   "outputs": [
    {
     "name": "stdout",
     "output_type": "stream",
     "text": [
      "CPU times: user 9.29 ms, sys: 3.84 ms, total: 13.1 ms\n",
      "Wall time: 11.7 ms\n",
      "CPU times: user 681 µs, sys: 0 ns, total: 681 µs\n",
      "Wall time: 637 µs\n"
     ]
    }
   ],
   "source": [
    "N = 10\n",
    "data = pd.DataFrame(np.random.uniform(1,9,(N,2)), columns=['A', 'B'])\n",
    "data1 = data.copy()\n",
    "data2 = data.copy()\n",
    "%time data1 = data.query('A > 4')\n",
    "%time data2 = data[data['A'] > 4]"
   ]
  },
  {
   "cell_type": "code",
   "execution_count": 3,
   "metadata": {},
   "outputs": [
    {
     "name": "stdout",
     "output_type": "stream",
     "text": [
      "CPU times: user 988 µs, sys: 2.53 ms, total: 3.52 ms\n",
      "Wall time: 2.64 ms\n",
      "CPU times: user 1.64 ms, sys: 0 ns, total: 1.64 ms\n",
      "Wall time: 1.18 ms\n"
     ]
    }
   ],
   "source": [
    "N = 1000\n",
    "data = pd.DataFrame(np.random.uniform(1,9,(N,2)), columns=['A', 'B'])\n",
    "data1 = data.copy()\n",
    "data2 = data.copy()\n",
    "%time data1 = data.query('A > 4')\n",
    "%time data2 = data[data['A'] > 4]"
   ]
  },
  {
   "cell_type": "code",
   "execution_count": 4,
   "metadata": {},
   "outputs": [
    {
     "name": "stdout",
     "output_type": "stream",
     "text": [
      "CPU times: user 5.78 ms, sys: 2.95 ms, total: 8.73 ms\n",
      "Wall time: 8.24 ms\n",
      "CPU times: user 3.11 ms, sys: 781 µs, total: 3.89 ms\n",
      "Wall time: 3.45 ms\n"
     ]
    }
   ],
   "source": [
    "N = 100000\n",
    "data = pd.DataFrame(np.random.uniform(1,9,(N,2)), columns=['A', 'B'])\n",
    "data1 = data.copy()\n",
    "data2 = data.copy()\n",
    "%time data1 = data.query('A > 4')\n",
    "%time data2 = data[data['A'] > 4]"
   ]
  },
  {
   "cell_type": "code",
   "execution_count": 5,
   "metadata": {},
   "outputs": [
    {
     "name": "stdout",
     "output_type": "stream",
     "text": [
      "CPU times: user 448 ms, sys: 416 ms, total: 864 ms\n",
      "Wall time: 568 ms\n",
      "CPU times: user 218 ms, sys: 173 ms, total: 391 ms\n",
      "Wall time: 390 ms\n"
     ]
    }
   ],
   "source": [
    "N = 10000000\n",
    "data = pd.DataFrame(np.random.uniform(1,9,(N,2)), columns=['A', 'B'])\n",
    "data1 = data.copy()\n",
    "data2 = data.copy()\n",
    "%time data1 = data.query('A > 4')\n",
    "%time data2 = data[data['A'] > 4]"
   ]
  },
  {
   "cell_type": "code",
   "execution_count": null,
   "metadata": {},
   "outputs": [],
   "source": []
  }
 ],
 "metadata": {
  "kernelspec": {
   "display_name": "Python 3",
   "language": "python",
   "name": "python3"
  },
  "language_info": {
   "codemirror_mode": {
    "name": "ipython",
    "version": 3
   },
   "file_extension": ".py",
   "mimetype": "text/x-python",
   "name": "python",
   "nbconvert_exporter": "python",
   "pygments_lexer": "ipython3",
   "version": "3.7.0"
  }
 },
 "nbformat": 4,
 "nbformat_minor": 2
}
