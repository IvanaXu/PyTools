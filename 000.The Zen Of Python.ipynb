{
 "cells": [
  {
   "cell_type": "markdown",
   "metadata": {
    "collapsed": true,
    "pycharm": {
     "name": "#%% md\n"
    }
   },
   "source": [
    "#### 000.The Zen Of Python\n",
    "\n",
    "```\n",
    "Beautiful is better than ugly.\n",
    "Explicit is better than implicit.\n",
    "Simple is better than complex.\n",
    "Complex is better than complicated.\n",
    "Flat is better than nested.\n",
    "Sparse is better than dense.\n",
    "Readability counts.\n",
    "Special cases aren't special enough to break the rules.\n",
    "Although practicality beats purity.\n",
    "Errors should never pass silently.\n",
    "Unless explicitly silenced.\n",
    "In the face of ambiguity, refuse the temptation to guess.\n",
    "There should be one-- and preferably only one --obvious way to do it.\n",
    "Although that way may not be obvious at first unless you're Dutch.\n",
    "Now is better than never.\n",
    "Although never is often better than *right* now.\n",
    "If the implementation is hard to explain, it's a bad idea.\n",
    "If the implementation is easy to explain, it may be a good idea.\n",
    "Namespaces are one honking great idea -- let's do more of those!\n",
    "\n",
    "•优美胜于丑陋(Python 以编写优美的代码为目标)\n",
    "•明了胜于晦涩(优美的代码应当是明了的，命名规范，风格相似)\n",
    "•简洁胜于复杂(优美的代码应当是简洁的，不要有复杂的内部实现)\n",
    "•复杂胜于凌乱(如果复杂不可避免，那代码间也不能有难懂的关系，要保持接口简洁)\n",
    "•扁平胜于嵌套(优美的代码应当是扁平的，不能有太多的嵌套)\n",
    "•间隔胜于紧凑(优美的代码有适当的间隔，不要奢望一行代码解决问题)\n",
    "•可读性很重要(优美的代码是可读的)\n",
    "•即便假借特例的实用性之名，也不可违背这些规则(这些规则至高无上)\n",
    "•不要包容所有错误，除非你确定需要这样做(精准地捕获异常，不写 except:pass 风格的代码)\n",
    "•当存在多种可能，不要尝试去猜测\n",
    "•而是尽量找一种，最好是唯一一种明显的解决方案(如果不确定，就用穷举法)\n",
    "•虽然这并不容易，因为你不是 Python 之父(这里的 Dutch 是指 Guido )\n",
    "•做也许好过不做，但不假思索就动手还不如不做(动手之前要细思量)\n",
    "•如果你无法向人描述你的方案，那肯定不是一个好方案；反之亦然(方案测评标准)\n",
    "•命名空间是一种绝妙的理念，我们应当多加利用(倡导与号召)\n",
    "```"
   ]
  },
  {
   "cell_type": "code",
   "execution_count": 1,
   "outputs": [
    {
     "name": "stdout",
     "text": [
      "The Zen of Python, by Tim Peters\n",
      "\n",
      "Beautiful is better than ugly.\n",
      "Explicit is better than implicit.\n",
      "Simple is better than complex.\n",
      "Complex is better than complicated.\n",
      "Flat is better than nested.\n",
      "Sparse is better than dense.\n",
      "Readability counts.\n",
      "Special cases aren't special enough to break the rules.\n",
      "Although practicality beats purity.\n",
      "Errors should never pass silently.\n",
      "Unless explicitly silenced.\n",
      "In the face of ambiguity, refuse the temptation to guess.\n",
      "There should be one-- and preferably only one --obvious way to do it.\n",
      "Although that way may not be obvious at first unless you're Dutch.\n",
      "Now is better than never.\n",
      "Although never is often better than *right* now.\n",
      "If the implementation is hard to explain, it's a bad idea.\n",
      "If the implementation is easy to explain, it may be a good idea.\n",
      "Namespaces are one honking great idea -- let's do more of those!\n"
     ],
     "output_type": "stream"
    }
   ],
   "source": [
    "import this\n"
   ],
   "metadata": {
    "collapsed": false,
    "pycharm": {
     "name": "#%%\n",
     "is_executing": false
    }
   }
  }
 ],
 "metadata": {
  "kernelspec": {
   "display_name": "Python 3",
   "language": "python",
   "name": "python3"
  },
  "language_info": {
   "codemirror_mode": {
    "name": "ipython",
    "version": 2
   },
   "file_extension": ".py",
   "mimetype": "text/x-python",
   "name": "python",
   "nbconvert_exporter": "python",
   "pygments_lexer": "ipython2",
   "version": "2.7.6"
  },
  "pycharm": {
   "stem_cell": {
    "cell_type": "raw",
    "source": [],
    "metadata": {
     "collapsed": false
    }
   }
  }
 },
 "nbformat": 4,
 "nbformat_minor": 0
}