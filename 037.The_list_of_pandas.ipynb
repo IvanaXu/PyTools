{
 "cells": [
  {
   "cell_type": "code",
   "execution_count": 1,
   "metadata": {
    "collapsed": true,
    "pycharm": {
     "is_executing": false
    }
   },
   "outputs": [],
   "source": [
    "import pandas as pd\n",
    "import numpy as np\n",
    "import matplotlib.pyplot as plt"
   ]
  },
  {
   "cell_type": "markdown",
   "source": [
    "(1) pd.read_csv/\n",
    "\n",
    "TEST 2017年5月10日20:06:14"
   ],
   "metadata": {
    "collapsed": false,
    "pycharm": {
     "name": "#%% md\n"
    }
   }
  },
  {
   "cell_type": "code",
   "execution_count": 2,
   "outputs": [
    {
     "name": "stdout",
     "text": [
      "a,b\r\n",
      "1,2\r\n",
      "1,2\r\n",
      "3,4\r\n",
      "2,4"
     ],
     "output_type": "stream"
    }
   ],
   "source": [
    "! cat \"/data/project/GitHubI/PyTools/037.The_list_of_pandas.csv\""
   ],
   "metadata": {
    "collapsed": false,
    "pycharm": {
     "name": "#%%\n",
     "is_executing": false
    }
   }
  },
  {
   "cell_type": "code",
   "execution_count": 3,
   "outputs": [
    {
     "data": {
      "text/plain": "a    1\nb    2\nName: 0, dtype: int64"
     },
     "metadata": {},
     "output_type": "execute_result",
     "execution_count": 3
    }
   ],
   "source": [
    "r = pd.read_csv('/data/project/GitHubI/PyTools/037.The_list_of_pandas.csv')\n",
    "row = next(r.iterrows())[1]\n",
    "row"
   ],
   "metadata": {
    "collapsed": false,
    "pycharm": {
     "name": "#%%\n",
     "is_executing": false
    }
   }
  },
  {
   "cell_type": "code",
   "execution_count": 4,
   "outputs": [
    {
     "name": "stdout",
     "text": [
      "Pandas(Index=0, a=1, b=2)\n",
      "Pandas(Index=1, a=1, b=2)\n",
      "Pandas(Index=2, a=3, b=4)\n",
      "Pandas(Index=3, a=2, b=4)\n"
     ],
     "output_type": "stream"
    }
   ],
   "source": [
    "for i in r.itertuples():\n",
    "    print(i)\n",
    "    "
   ],
   "metadata": {
    "collapsed": false,
    "pycharm": {
     "name": "#%%\n",
     "is_executing": false
    }
   }
  },
  {
   "cell_type": "code",
   "execution_count": 5,
   "outputs": [
    {
     "name": "stdout",
     "text": [
      "80\n",
      "32\n",
      "32\n"
     ],
     "output_type": "stream"
    }
   ],
   "source": [
    "for i in r.memory_usage():\n",
    "    print(i)\n",
    "    "
   ],
   "metadata": {
    "collapsed": false,
    "pycharm": {
     "name": "#%%\n",
     "is_executing": false
    }
   }
  },
  {
   "cell_type": "markdown",
   "source": [
    "(2) np.random.randn/ query/\n",
    "\n",
    "TEST 2017年5月10日20:06:14"
   ],
   "metadata": {
    "collapsed": false,
    "pycharm": {
     "name": "#%% md\n"
    }
   }
  },
  {
   "cell_type": "code",
   "execution_count": 6,
   "outputs": [
    {
     "data": {
      "text/plain": "          a         b\n0 -0.383886 -1.647527\n1  0.831821 -1.355180\n2  0.636969  0.261307\n3  0.092272 -1.322947\n4 -2.554606  0.324021\n5  1.361049 -0.510634\n6  0.450406  1.169965\n7 -0.113105 -0.613422\n8 -0.631325  0.677360\n9 -1.054822 -0.736196",
      "text/html": "<div>\n<style scoped>\n    .dataframe tbody tr th:only-of-type {\n        vertical-align: middle;\n    }\n\n    .dataframe tbody tr th {\n        vertical-align: top;\n    }\n\n    .dataframe thead th {\n        text-align: right;\n    }\n</style>\n<table border=\"1\" class=\"dataframe\">\n  <thead>\n    <tr style=\"text-align: right;\">\n      <th></th>\n      <th>a</th>\n      <th>b</th>\n    </tr>\n  </thead>\n  <tbody>\n    <tr>\n      <th>0</th>\n      <td>-0.383886</td>\n      <td>-1.647527</td>\n    </tr>\n    <tr>\n      <th>1</th>\n      <td>0.831821</td>\n      <td>-1.355180</td>\n    </tr>\n    <tr>\n      <th>2</th>\n      <td>0.636969</td>\n      <td>0.261307</td>\n    </tr>\n    <tr>\n      <th>3</th>\n      <td>0.092272</td>\n      <td>-1.322947</td>\n    </tr>\n    <tr>\n      <th>4</th>\n      <td>-2.554606</td>\n      <td>0.324021</td>\n    </tr>\n    <tr>\n      <th>5</th>\n      <td>1.361049</td>\n      <td>-0.510634</td>\n    </tr>\n    <tr>\n      <th>6</th>\n      <td>0.450406</td>\n      <td>1.169965</td>\n    </tr>\n    <tr>\n      <th>7</th>\n      <td>-0.113105</td>\n      <td>-0.613422</td>\n    </tr>\n    <tr>\n      <th>8</th>\n      <td>-0.631325</td>\n      <td>0.677360</td>\n    </tr>\n    <tr>\n      <th>9</th>\n      <td>-1.054822</td>\n      <td>-0.736196</td>\n    </tr>\n  </tbody>\n</table>\n</div>"
     },
     "metadata": {},
     "output_type": "execute_result",
     "execution_count": 6
    }
   ],
   "source": [
    "df = pd.DataFrame(np.random.randn(10, 2), columns=list('ab'))\n",
    "df"
   ],
   "metadata": {
    "collapsed": false,
    "pycharm": {
     "name": "#%%\n",
     "is_executing": false
    }
   }
  },
  {
   "cell_type": "code",
   "execution_count": 7,
   "outputs": [
    {
     "data": {
      "text/plain": "          a         b\n0 -0.383886 -1.647527\n1  0.831821 -1.355180\n2  0.636969  0.261307\n3  0.092272 -1.322947\n5  1.361049 -0.510634\n7 -0.113105 -0.613422",
      "text/html": "<div>\n<style scoped>\n    .dataframe tbody tr th:only-of-type {\n        vertical-align: middle;\n    }\n\n    .dataframe tbody tr th {\n        vertical-align: top;\n    }\n\n    .dataframe thead th {\n        text-align: right;\n    }\n</style>\n<table border=\"1\" class=\"dataframe\">\n  <thead>\n    <tr style=\"text-align: right;\">\n      <th></th>\n      <th>a</th>\n      <th>b</th>\n    </tr>\n  </thead>\n  <tbody>\n    <tr>\n      <th>0</th>\n      <td>-0.383886</td>\n      <td>-1.647527</td>\n    </tr>\n    <tr>\n      <th>1</th>\n      <td>0.831821</td>\n      <td>-1.355180</td>\n    </tr>\n    <tr>\n      <th>2</th>\n      <td>0.636969</td>\n      <td>0.261307</td>\n    </tr>\n    <tr>\n      <th>3</th>\n      <td>0.092272</td>\n      <td>-1.322947</td>\n    </tr>\n    <tr>\n      <th>5</th>\n      <td>1.361049</td>\n      <td>-0.510634</td>\n    </tr>\n    <tr>\n      <th>7</th>\n      <td>-0.113105</td>\n      <td>-0.613422</td>\n    </tr>\n  </tbody>\n</table>\n</div>"
     },
     "metadata": {},
     "output_type": "execute_result",
     "execution_count": 7
    }
   ],
   "source": [
    "df.query('a > b')"
   ],
   "metadata": {
    "collapsed": false,
    "pycharm": {
     "name": "#%%\n",
     "is_executing": false
    }
   }
  },
  {
   "cell_type": "code",
   "execution_count": 8,
   "outputs": [
    {
     "data": {
      "text/plain": "          a         b\n0 -0.383886 -1.647527\n1  0.831821 -1.355180\n2  0.636969  0.261307\n3  0.092272 -1.322947\n5  1.361049 -0.510634\n7 -0.113105 -0.613422",
      "text/html": "<div>\n<style scoped>\n    .dataframe tbody tr th:only-of-type {\n        vertical-align: middle;\n    }\n\n    .dataframe tbody tr th {\n        vertical-align: top;\n    }\n\n    .dataframe thead th {\n        text-align: right;\n    }\n</style>\n<table border=\"1\" class=\"dataframe\">\n  <thead>\n    <tr style=\"text-align: right;\">\n      <th></th>\n      <th>a</th>\n      <th>b</th>\n    </tr>\n  </thead>\n  <tbody>\n    <tr>\n      <th>0</th>\n      <td>-0.383886</td>\n      <td>-1.647527</td>\n    </tr>\n    <tr>\n      <th>1</th>\n      <td>0.831821</td>\n      <td>-1.355180</td>\n    </tr>\n    <tr>\n      <th>2</th>\n      <td>0.636969</td>\n      <td>0.261307</td>\n    </tr>\n    <tr>\n      <th>3</th>\n      <td>0.092272</td>\n      <td>-1.322947</td>\n    </tr>\n    <tr>\n      <th>5</th>\n      <td>1.361049</td>\n      <td>-0.510634</td>\n    </tr>\n    <tr>\n      <th>7</th>\n      <td>-0.113105</td>\n      <td>-0.613422</td>\n    </tr>\n  </tbody>\n</table>\n</div>"
     },
     "metadata": {},
     "output_type": "execute_result",
     "execution_count": 8
    }
   ],
   "source": [
    "df[df.a > df.b]\n"
   ],
   "metadata": {
    "collapsed": false,
    "pycharm": {
     "name": "#%%\n",
     "is_executing": false
    }
   }
  },
  {
   "cell_type": "markdown",
   "source": [
    "(3) pd.Series/\n",
    "\n",
    "TEST 2017年5月19日 20:43:58"
   ],
   "metadata": {
    "collapsed": false,
    "pycharm": {
     "name": "#%% md\n"
    }
   }
  },
  {
   "cell_type": "code",
   "execution_count": 9,
   "outputs": [
    {
     "data": {
      "text/plain": "London      20.0\nNew York    21.0\nHelsinki    12.0\na            NaN\ndtype: float64"
     },
     "metadata": {},
     "output_type": "execute_result",
     "execution_count": 9
    }
   ],
   "source": [
    "series = pd.Series([20, 21, 12, None], index=['London', 'New York', 'Helsinki', 'a'])\n",
    "series\n",
    "# print(series)\n",
    "# print(series.describe())\n",
    "# print(series.set_value('London', None))\n",
    "# print(series.dropna(how='all'))\n",
    "# print(series.dropna(how='all').describe())"
   ],
   "metadata": {
    "collapsed": false,
    "pycharm": {
     "name": "#%%\n",
     "is_executing": false
    }
   }
  },
  {
   "cell_type": "code",
   "execution_count": 10,
   "outputs": [
    {
     "data": {
      "text/plain": "count     3.000000\nmean     17.666667\nstd       4.932883\nmin      12.000000\n25%      16.000000\n50%      20.000000\n75%      20.500000\nmax      21.000000\ndtype: float64"
     },
     "metadata": {},
     "output_type": "execute_result",
     "execution_count": 10
    }
   ],
   "source": [
    "series.describe()\n"
   ],
   "metadata": {
    "collapsed": false,
    "pycharm": {
     "name": "#%%\n",
     "is_executing": false
    }
   }
  },
  {
   "cell_type": "code",
   "execution_count": 11,
   "outputs": [
    {
     "name": "stderr",
     "text": [
      "/data/soft/py3/lib/python3.6/site-packages/ipykernel_launcher.py:2: FutureWarning: set_value is deprecated and will be removed in a future release. Please use .at[] or .iat[] accessors instead\n",
      "  \n"
     ],
     "output_type": "stream"
    },
    {
     "data": {
      "text/plain": "London       NaN\nNew York    21.0\nHelsinki    12.0\na            NaN\ndtype: float64"
     },
     "metadata": {},
     "output_type": "execute_result",
     "execution_count": 11
    }
   ],
   "source": [
    "series.set_value('London', None)\n",
    "series"
   ],
   "metadata": {
    "collapsed": false,
    "pycharm": {
     "name": "#%%\n",
     "is_executing": false
    }
   }
  },
  {
   "cell_type": "code",
   "execution_count": 12,
   "outputs": [
    {
     "data": {
      "text/plain": "New York    21.0\nHelsinki    12.0\ndtype: float64"
     },
     "metadata": {},
     "output_type": "execute_result",
     "execution_count": 12
    }
   ],
   "source": [
    "series.dropna(how='all')"
   ],
   "metadata": {
    "collapsed": false,
    "pycharm": {
     "name": "#%%\n",
     "is_executing": false
    }
   }
  },
  {
   "cell_type": "code",
   "execution_count": 13,
   "outputs": [
    {
     "data": {
      "text/plain": "count     2.000000\nmean     16.500000\nstd       6.363961\nmin      12.000000\n25%      14.250000\n50%      16.500000\n75%      18.750000\nmax      21.000000\ndtype: float64"
     },
     "metadata": {},
     "output_type": "execute_result",
     "execution_count": 13
    }
   ],
   "source": [
    "series.dropna(how='all').describe()"
   ],
   "metadata": {
    "collapsed": false,
    "pycharm": {
     "name": "#%%\n",
     "is_executing": false
    }
   }
  },
  {
   "cell_type": "markdown",
   "source": [
    "(4) arg/ \n",
    "\n",
    "TEST 2017-5-19 22:40:58"
   ],
   "metadata": {
    "collapsed": false,
    "pycharm": {
     "name": "#%% md\n"
    }
   }
  },
  {
   "cell_type": "code",
   "execution_count": 14,
   "outputs": [
    {
     "name": "stdout",
     "text": [
      "1\n"
     ],
     "output_type": "stream"
    }
   ],
   "source": [
    "def a1(*args):\n",
    "    print(args[0])\n",
    "\n",
    "a1(1, 3)"
   ],
   "metadata": {
    "collapsed": false,
    "pycharm": {
     "name": "#%%\n",
     "is_executing": false
    }
   }
  },
  {
   "cell_type": "code",
   "execution_count": 15,
   "outputs": [
    {
     "name": "stdout",
     "text": [
      "1\n"
     ],
     "output_type": "stream"
    }
   ],
   "source": [
    "def a2(**kwargs):\n",
    "    if 'hi' in kwargs:\n",
    "        print(kwargs['hi'])\n",
    "    else:\n",
    "        print(1)\n",
    "\n",
    "a2()"
   ],
   "metadata": {
    "collapsed": false,
    "pycharm": {
     "name": "#%%\n",
     "is_executing": false
    }
   }
  },
  {
   "cell_type": "code",
   "execution_count": 16,
   "outputs": [
    {
     "name": "stdout",
     "text": [
      "1 3\n"
     ],
     "output_type": "stream"
    }
   ],
   "source": [
    "def a3(a, *args):\n",
    "    print(a, args[0])\n",
    "\n",
    "a3(1, 3)"
   ],
   "metadata": {
    "collapsed": false,
    "pycharm": {
     "name": "#%%\n",
     "is_executing": false
    }
   }
  },
  {
   "cell_type": "markdown",
   "source": [
    "(5) nan/"
   ],
   "metadata": {
    "collapsed": false,
    "pycharm": {
     "name": "#%% md\n"
    }
   }
  },
  {
   "cell_type": "code",
   "execution_count": 17,
   "outputs": [],
   "source": [
    "a = np.nan\n",
    "b = np.nan"
   ],
   "metadata": {
    "collapsed": false,
    "pycharm": {
     "name": "#%%\n",
     "is_executing": false
    }
   }
  },
  {
   "cell_type": "code",
   "execution_count": 18,
   "outputs": [
    {
     "data": {
      "text/plain": "(140484325988968, 140484325988968)"
     },
     "metadata": {},
     "output_type": "execute_result",
     "execution_count": 18
    }
   ],
   "source": [
    "id(a), id(b)"
   ],
   "metadata": {
    "collapsed": false,
    "pycharm": {
     "name": "#%%\n",
     "is_executing": false
    }
   }
  },
  {
   "cell_type": "code",
   "execution_count": 19,
   "outputs": [
    {
     "data": {
      "text/plain": "False"
     },
     "metadata": {},
     "output_type": "execute_result",
     "execution_count": 19
    }
   ],
   "source": [
    "a == b"
   ],
   "metadata": {
    "collapsed": false,
    "pycharm": {
     "name": "#%%\n",
     "is_executing": false
    }
   }
  },
  {
   "cell_type": "code",
   "execution_count": 20,
   "outputs": [
    {
     "data": {
      "text/plain": "True"
     },
     "metadata": {},
     "output_type": "execute_result",
     "execution_count": 20
    }
   ],
   "source": [
    "a is b"
   ],
   "metadata": {
    "collapsed": false,
    "pycharm": {
     "name": "#%%\n",
     "is_executing": false
    }
   }
  },
  {
   "cell_type": "code",
   "execution_count": 21,
   "outputs": [
    {
     "data": {
      "text/plain": "(True, True)"
     },
     "metadata": {},
     "output_type": "execute_result",
     "execution_count": 21
    }
   ],
   "source": [
    "'a' == 'a', 'a' is 'a'"
   ],
   "metadata": {
    "collapsed": false,
    "pycharm": {
     "name": "#%%\n",
     "is_executing": false
    }
   }
  },
  {
   "cell_type": "code",
   "execution_count": 22,
   "outputs": [
    {
     "data": {
      "text/plain": "(True, True)"
     },
     "metadata": {},
     "output_type": "execute_result",
     "execution_count": 22
    }
   ],
   "source": [
    "1.2 == 1.2, 1.2 is 1.2"
   ],
   "metadata": {
    "collapsed": false,
    "pycharm": {
     "name": "#%%\n",
     "is_executing": false
    }
   }
  },
  {
   "cell_type": "code",
   "execution_count": 23,
   "outputs": [
    {
     "name": "stdout",
     "text": [
      "1.0 False\n",
      "nan False\n"
     ],
     "output_type": "stream"
    }
   ],
   "source": [
    "a = pd.Series([1, np.nan])\n",
    "for i in a:\n",
    "    print(i, i is np.nan)"
   ],
   "metadata": {
    "collapsed": false,
    "pycharm": {
     "name": "#%%\n",
     "is_executing": false
    }
   }
  },
  {
   "cell_type": "code",
   "execution_count": 24,
   "outputs": [
    {
     "data": {
      "text/plain": "0    1.0\n1    NaN\ndtype: float64"
     },
     "metadata": {},
     "output_type": "execute_result",
     "execution_count": 24
    }
   ],
   "source": [
    "a"
   ],
   "metadata": {
    "collapsed": false,
    "pycharm": {
     "name": "#%%\n",
     "is_executing": false
    }
   }
  },
  {
   "cell_type": "code",
   "execution_count": 25,
   "outputs": [
    {
     "data": {
      "text/plain": "nan"
     },
     "metadata": {},
     "output_type": "execute_result",
     "execution_count": 25
    }
   ],
   "source": [
    "a[1]"
   ],
   "metadata": {
    "collapsed": false,
    "pycharm": {
     "name": "#%%\n",
     "is_executing": false
    }
   }
  },
  {
   "cell_type": "code",
   "execution_count": 26,
   "outputs": [
    {
     "data": {
      "text/plain": "(False, False)"
     },
     "metadata": {},
     "output_type": "execute_result",
     "execution_count": 26
    }
   ],
   "source": [
    "a[1] is np.nan, a[1] is np.NaN"
   ],
   "metadata": {
    "collapsed": false,
    "pycharm": {
     "name": "#%%\n",
     "is_executing": false
    }
   }
  },
  {
   "cell_type": "code",
   "execution_count": 27,
   "outputs": [],
   "source": [
    "b = np.nan"
   ],
   "metadata": {
    "collapsed": false,
    "pycharm": {
     "name": "#%%\n",
     "is_executing": false
    }
   }
  },
  {
   "cell_type": "code",
   "execution_count": 28,
   "outputs": [
    {
     "data": {
      "text/plain": "True"
     },
     "metadata": {},
     "output_type": "execute_result",
     "execution_count": 28
    }
   ],
   "source": [
    "b is np.nan"
   ],
   "metadata": {
    "collapsed": false,
    "pycharm": {
     "name": "#%%\n",
     "is_executing": false
    }
   }
  },
  {
   "cell_type": "markdown",
   "source": [
    "(6) isin?/"
   ],
   "metadata": {
    "collapsed": false,
    "pycharm": {
     "name": "#%% md\n"
    }
   }
  },
  {
   "cell_type": "code",
   "execution_count": 29,
   "outputs": [],
   "source": [
    "spe = [-999, 85, np.nan]\n",
    "a = pd.Series([1, -999, -999, 85, np.nan, 85])"
   ],
   "metadata": {
    "collapsed": false,
    "pycharm": {
     "name": "#%%\n",
     "is_executing": false
    }
   }
  },
  {
   "cell_type": "code",
   "execution_count": 30,
   "outputs": [
    {
     "name": "stdout",
     "text": [
      "CPU times: user 2.86 ms, sys: 972 µs, total: 3.84 ms\n",
      "Wall time: 3.06 ms\n"
     ],
     "output_type": "stream"
    },
    {
     "data": {
      "text/plain": " 85.0     2\n-999.0    2\nNaN       1\ndtype: int64"
     },
     "metadata": {},
     "output_type": "execute_result",
     "execution_count": 30
    }
   ],
   "source": [
    "%time pd.value_counts(a[[each in spe for each in a] + a.isnull()],dropna=False)"
   ],
   "metadata": {
    "collapsed": false,
    "pycharm": {
     "name": "#%%\n",
     "is_executing": false
    }
   }
  },
  {
   "cell_type": "code",
   "execution_count": 31,
   "outputs": [
    {
     "name": "stdout",
     "text": [
      "CPU times: user 1.8 ms, sys: 726 µs, total: 2.53 ms\n",
      "Wall time: 1.96 ms\n"
     ],
     "output_type": "stream"
    },
    {
     "data": {
      "text/plain": " 85.0     2\n-999.0    2\nNaN       1\ndtype: int64"
     },
     "metadata": {},
     "output_type": "execute_result",
     "execution_count": 31
    }
   ],
   "source": [
    "%time pd.value_counts(a[a.isin(spe)|(a.isnull())], dropna=False)"
   ],
   "metadata": {
    "collapsed": false,
    "pycharm": {
     "name": "#%%\n",
     "is_executing": false
    }
   }
  },
  {
   "cell_type": "markdown",
   "source": [
    "(7) matplotlib/ boxplot/\n",
    "\n",
    "箱形图"
   ],
   "metadata": {
    "collapsed": false,
    "pycharm": {
     "name": "#%% md\n"
    }
   }
  },
  {
   "cell_type": "code",
   "execution_count": 32,
   "outputs": [
    {
     "data": {
      "text/plain": "               1          2          3         4\ncount   4.000000   4.000000   4.000000   4.00000\nmean   11.000000  12.500000   6.500000  12.50000\nstd    10.392305   9.814955   6.350853   0.57735\nmin     2.000000   4.000000   1.000000  12.00000\n25%     2.000000   4.000000   1.000000  12.00000\n50%    11.000000  12.500000   6.500000  12.50000\n75%    20.000000  21.000000  12.000000  13.00000\nmax    20.000000  21.000000  12.000000  13.00000",
      "text/html": "<div>\n<style scoped>\n    .dataframe tbody tr th:only-of-type {\n        vertical-align: middle;\n    }\n\n    .dataframe tbody tr th {\n        vertical-align: top;\n    }\n\n    .dataframe thead th {\n        text-align: right;\n    }\n</style>\n<table border=\"1\" class=\"dataframe\">\n  <thead>\n    <tr style=\"text-align: right;\">\n      <th></th>\n      <th>1</th>\n      <th>2</th>\n      <th>3</th>\n      <th>4</th>\n    </tr>\n  </thead>\n  <tbody>\n    <tr>\n      <th>count</th>\n      <td>4.000000</td>\n      <td>4.000000</td>\n      <td>4.000000</td>\n      <td>4.00000</td>\n    </tr>\n    <tr>\n      <th>mean</th>\n      <td>11.000000</td>\n      <td>12.500000</td>\n      <td>6.500000</td>\n      <td>12.50000</td>\n    </tr>\n    <tr>\n      <th>std</th>\n      <td>10.392305</td>\n      <td>9.814955</td>\n      <td>6.350853</td>\n      <td>0.57735</td>\n    </tr>\n    <tr>\n      <th>min</th>\n      <td>2.000000</td>\n      <td>4.000000</td>\n      <td>1.000000</td>\n      <td>12.00000</td>\n    </tr>\n    <tr>\n      <th>25%</th>\n      <td>2.000000</td>\n      <td>4.000000</td>\n      <td>1.000000</td>\n      <td>12.00000</td>\n    </tr>\n    <tr>\n      <th>50%</th>\n      <td>11.000000</td>\n      <td>12.500000</td>\n      <td>6.500000</td>\n      <td>12.50000</td>\n    </tr>\n    <tr>\n      <th>75%</th>\n      <td>20.000000</td>\n      <td>21.000000</td>\n      <td>12.000000</td>\n      <td>13.00000</td>\n    </tr>\n    <tr>\n      <th>max</th>\n      <td>20.000000</td>\n      <td>21.000000</td>\n      <td>12.000000</td>\n      <td>13.00000</td>\n    </tr>\n  </tbody>\n</table>\n</div>"
     },
     "metadata": {},
     "output_type": "execute_result",
     "execution_count": 32
    }
   ],
   "source": [
    "ta = pd.DataFrame([\n",
    "    [20, 21, 12, 13],\n",
    "    [2, 4, 1, 12],\n",
    "    [20, 21, 12, 13],\n",
    "    [2, 4, 1, 12]\n",
    "], columns=['1', '2', '3', '4'])\n",
    "ta.describe()"
   ],
   "metadata": {
    "collapsed": false,
    "pycharm": {
     "name": "#%%\n",
     "is_executing": false
    }
   }
  },
  {
   "cell_type": "code",
   "execution_count": 33,
   "outputs": [
    {
     "data": {
      "text/plain": "<matplotlib.axes._subplots.AxesSubplot at 0x7fc4dbee5a90>"
     },
     "metadata": {},
     "output_type": "execute_result",
     "execution_count": 33
    },
    {
     "data": {
      "text/plain": "<Figure size 432x288 with 1 Axes>",
      "image/png": "[encoded data removed]"
     },
     "metadata": {},
     "output_type": "display_data"
    }
   ],
   "source": [
    "ta.boxplot(return_type='axes')"
   ],
   "metadata": {
    "collapsed": false,
    "pycharm": {
     "name": "#%%\n",
     "is_executing": false
    }
   }
  },
  {
   "cell_type": "markdown",
   "source": [
    "(8) get_dummies/"
   ],
   "metadata": {
    "collapsed": false,
    "pycharm": {
     "name": "#%% md\n"
    }
   }
  },
  {
   "cell_type": "code",
   "execution_count": 34,
   "outputs": [
    {
     "data": {
      "text/plain": "     A   B   C   D\n0   20  21  12  13\n1    2   4   1  12\n2   20  21  12  13\n3        4   1  12\n4  NaN   4   1  12",
      "text/html": "<div>\n<style scoped>\n    .dataframe tbody tr th:only-of-type {\n        vertical-align: middle;\n    }\n\n    .dataframe tbody tr th {\n        vertical-align: top;\n    }\n\n    .dataframe thead th {\n        text-align: right;\n    }\n</style>\n<table border=\"1\" class=\"dataframe\">\n  <thead>\n    <tr style=\"text-align: right;\">\n      <th></th>\n      <th>A</th>\n      <th>B</th>\n      <th>C</th>\n      <th>D</th>\n    </tr>\n  </thead>\n  <tbody>\n    <tr>\n      <th>0</th>\n      <td>20</td>\n      <td>21</td>\n      <td>12</td>\n      <td>13</td>\n    </tr>\n    <tr>\n      <th>1</th>\n      <td>2</td>\n      <td>4</td>\n      <td>1</td>\n      <td>12</td>\n    </tr>\n    <tr>\n      <th>2</th>\n      <td>20</td>\n      <td>21</td>\n      <td>12</td>\n      <td>13</td>\n    </tr>\n    <tr>\n      <th>3</th>\n      <td></td>\n      <td>4</td>\n      <td>1</td>\n      <td>12</td>\n    </tr>\n    <tr>\n      <th>4</th>\n      <td>NaN</td>\n      <td>4</td>\n      <td>1</td>\n      <td>12</td>\n    </tr>\n  </tbody>\n</table>\n</div>"
     },
     "metadata": {},
     "output_type": "execute_result",
     "execution_count": 34
    }
   ],
   "source": [
    "tb = pd.DataFrame([\n",
    "    [\"20\", 21, 12, 13],\n",
    "    [\"2\", 4, 1, 12],\n",
    "    [\"20\", 21, 12, 13],\n",
    "    [\"\", 4, 1, 12],\n",
    "    [np.nan, 4, 1, 12]\n",
    "], columns=list(\"ABCD\"))\n",
    "tb"
   ],
   "metadata": {
    "collapsed": false,
    "pycharm": {
     "name": "#%%\n",
     "is_executing": false
    }
   }
  },
  {
   "cell_type": "code",
   "execution_count": 35,
   "outputs": [
    {
     "name": "stdout",
     "text": [
      "20    2\n",
      "2     1\n",
      "      1\n",
      "Name: A, dtype: int64\n",
      "4     3\n",
      "21    2\n",
      "Name: B, dtype: int64\n",
      "1     3\n",
      "12    2\n",
      "Name: C, dtype: int64\n",
      "12    3\n",
      "13    2\n",
      "Name: D, dtype: int64\n"
     ],
     "output_type": "stream"
    }
   ],
   "source": [
    "for i in tb:\n",
    "    print(pd.value_counts(tb[i]))"
   ],
   "metadata": {
    "collapsed": false,
    "pycharm": {
     "name": "#%%\n",
     "is_executing": false
    }
   }
  },
  {
   "cell_type": "code",
   "execution_count": 36,
   "outputs": [
    {
     "data": {
      "text/plain": "    B   C   D  A_  A_2  A_20\n0  21  12  13   0    0     1\n1   4   1  12   0    1     0\n2  21  12  13   0    0     1\n3   4   1  12   1    0     0\n4   4   1  12   0    0     0",
      "text/html": "<div>\n<style scoped>\n    .dataframe tbody tr th:only-of-type {\n        vertical-align: middle;\n    }\n\n    .dataframe tbody tr th {\n        vertical-align: top;\n    }\n\n    .dataframe thead th {\n        text-align: right;\n    }\n</style>\n<table border=\"1\" class=\"dataframe\">\n  <thead>\n    <tr style=\"text-align: right;\">\n      <th></th>\n      <th>B</th>\n      <th>C</th>\n      <th>D</th>\n      <th>A_</th>\n      <th>A_2</th>\n      <th>A_20</th>\n    </tr>\n  </thead>\n  <tbody>\n    <tr>\n      <th>0</th>\n      <td>21</td>\n      <td>12</td>\n      <td>13</td>\n      <td>0</td>\n      <td>0</td>\n      <td>1</td>\n    </tr>\n    <tr>\n      <th>1</th>\n      <td>4</td>\n      <td>1</td>\n      <td>12</td>\n      <td>0</td>\n      <td>1</td>\n      <td>0</td>\n    </tr>\n    <tr>\n      <th>2</th>\n      <td>21</td>\n      <td>12</td>\n      <td>13</td>\n      <td>0</td>\n      <td>0</td>\n      <td>1</td>\n    </tr>\n    <tr>\n      <th>3</th>\n      <td>4</td>\n      <td>1</td>\n      <td>12</td>\n      <td>1</td>\n      <td>0</td>\n      <td>0</td>\n    </tr>\n    <tr>\n      <th>4</th>\n      <td>4</td>\n      <td>1</td>\n      <td>12</td>\n      <td>0</td>\n      <td>0</td>\n      <td>0</td>\n    </tr>\n  </tbody>\n</table>\n</div>"
     },
     "metadata": {},
     "output_type": "execute_result",
     "execution_count": 36
    }
   ],
   "source": [
    "pd.get_dummies(tb)"
   ],
   "metadata": {
    "collapsed": false,
    "pycharm": {
     "name": "#%%\n",
     "is_executing": false
    }
   }
  },
  {
   "cell_type": "code",
   "execution_count": 37,
   "outputs": [
    {
     "data": {
      "text/plain": "    B   C   D  A_  A_2  A_20  A_nan\n0  21  12  13   0    0     1      0\n1   4   1  12   0    1     0      0\n2  21  12  13   0    0     1      0\n3   4   1  12   1    0     0      0\n4   4   1  12   0    0     0      1",
      "text/html": "<div>\n<style scoped>\n    .dataframe tbody tr th:only-of-type {\n        vertical-align: middle;\n    }\n\n    .dataframe tbody tr th {\n        vertical-align: top;\n    }\n\n    .dataframe thead th {\n        text-align: right;\n    }\n</style>\n<table border=\"1\" class=\"dataframe\">\n  <thead>\n    <tr style=\"text-align: right;\">\n      <th></th>\n      <th>B</th>\n      <th>C</th>\n      <th>D</th>\n      <th>A_</th>\n      <th>A_2</th>\n      <th>A_20</th>\n      <th>A_nan</th>\n    </tr>\n  </thead>\n  <tbody>\n    <tr>\n      <th>0</th>\n      <td>21</td>\n      <td>12</td>\n      <td>13</td>\n      <td>0</td>\n      <td>0</td>\n      <td>1</td>\n      <td>0</td>\n    </tr>\n    <tr>\n      <th>1</th>\n      <td>4</td>\n      <td>1</td>\n      <td>12</td>\n      <td>0</td>\n      <td>1</td>\n      <td>0</td>\n      <td>0</td>\n    </tr>\n    <tr>\n      <th>2</th>\n      <td>21</td>\n      <td>12</td>\n      <td>13</td>\n      <td>0</td>\n      <td>0</td>\n      <td>1</td>\n      <td>0</td>\n    </tr>\n    <tr>\n      <th>3</th>\n      <td>4</td>\n      <td>1</td>\n      <td>12</td>\n      <td>1</td>\n      <td>0</td>\n      <td>0</td>\n      <td>0</td>\n    </tr>\n    <tr>\n      <th>4</th>\n      <td>4</td>\n      <td>1</td>\n      <td>12</td>\n      <td>0</td>\n      <td>0</td>\n      <td>0</td>\n      <td>1</td>\n    </tr>\n  </tbody>\n</table>\n</div>"
     },
     "metadata": {},
     "output_type": "execute_result",
     "execution_count": 37
    }
   ],
   "source": [
    "pd.get_dummies(tb, dummy_na=True)"
   ],
   "metadata": {
    "collapsed": false,
    "pycharm": {
     "name": "#%%\n",
     "is_executing": false
    }
   }
  },
  {
   "cell_type": "markdown",
   "source": [
    "(9) Series*/\n",
    "\n",
    "TEST 2017年5月23日08:10:09"
   ],
   "metadata": {
    "collapsed": false,
    "pycharm": {
     "name": "#%% md\n"
    }
   }
  },
  {
   "cell_type": "code",
   "execution_count": 38,
   "outputs": [
    {
     "data": {
      "text/plain": "    B   C   D  A_  A_2  A_20\n0  21  12  13   0    0     1\n1   4   1  12   0    1     0\n2  21  12  13   0    0     1\n3   4   1  12   1    0     0\n4   4   1  12   0    0     0",
      "text/html": "<div>\n<style scoped>\n    .dataframe tbody tr th:only-of-type {\n        vertical-align: middle;\n    }\n\n    .dataframe tbody tr th {\n        vertical-align: top;\n    }\n\n    .dataframe thead th {\n        text-align: right;\n    }\n</style>\n<table border=\"1\" class=\"dataframe\">\n  <thead>\n    <tr style=\"text-align: right;\">\n      <th></th>\n      <th>B</th>\n      <th>C</th>\n      <th>D</th>\n      <th>A_</th>\n      <th>A_2</th>\n      <th>A_20</th>\n    </tr>\n  </thead>\n  <tbody>\n    <tr>\n      <th>0</th>\n      <td>21</td>\n      <td>12</td>\n      <td>13</td>\n      <td>0</td>\n      <td>0</td>\n      <td>1</td>\n    </tr>\n    <tr>\n      <th>1</th>\n      <td>4</td>\n      <td>1</td>\n      <td>12</td>\n      <td>0</td>\n      <td>1</td>\n      <td>0</td>\n    </tr>\n    <tr>\n      <th>2</th>\n      <td>21</td>\n      <td>12</td>\n      <td>13</td>\n      <td>0</td>\n      <td>0</td>\n      <td>1</td>\n    </tr>\n    <tr>\n      <th>3</th>\n      <td>4</td>\n      <td>1</td>\n      <td>12</td>\n      <td>1</td>\n      <td>0</td>\n      <td>0</td>\n    </tr>\n    <tr>\n      <th>4</th>\n      <td>4</td>\n      <td>1</td>\n      <td>12</td>\n      <td>0</td>\n      <td>0</td>\n      <td>0</td>\n    </tr>\n  </tbody>\n</table>\n</div>"
     },
     "metadata": {},
     "output_type": "execute_result",
     "execution_count": 38
    }
   ],
   "source": [
    "tc = pd.get_dummies(tb)\n",
    "tc"
   ],
   "metadata": {
    "collapsed": false,
    "pycharm": {
     "name": "#%%\n",
     "is_executing": false
    }
   }
  },
  {
   "cell_type": "code",
   "execution_count": 39,
   "outputs": [],
   "source": [
    "tc1 = tc['B'] > 0\n",
    "tc2 = tc[['A_', 'A_2', 'A_20']]"
   ],
   "metadata": {
    "collapsed": false,
    "pycharm": {
     "name": "#%%\n",
     "is_executing": false
    }
   }
  },
  {
   "cell_type": "code",
   "execution_count": 40,
   "outputs": [
    {
     "name": "stdout",
     "text": [
      "0    0\n",
      "1    0\n",
      "2    0\n",
      "3    1\n",
      "4    0\n",
      "Name: B_A_, dtype: uint8\n",
      "0    0\n",
      "1    1\n",
      "2    0\n",
      "3    0\n",
      "4    0\n",
      "Name: B_A_2, dtype: uint8\n",
      "0    1\n",
      "1    0\n",
      "2    1\n",
      "3    0\n",
      "4    0\n",
      "Name: B_A_20, dtype: uint8\n"
     ],
     "output_type": "stream"
    }
   ],
   "source": [
    "for k in tc2:\n",
    "    name_n = str(tc1.name)+'_'+str(tc2[k].name)\n",
    "    print(pd.Series(tc1 * tc2[k], name=name_n))"
   ],
   "metadata": {
    "collapsed": false,
    "pycharm": {
     "name": "#%%\n",
     "is_executing": false
    }
   }
  },
  {
   "cell_type": "markdown",
   "source": [
    "(10) del/ drop/"
   ],
   "metadata": {
    "collapsed": false,
    "pycharm": {
     "name": "#%% md\n"
    }
   }
  },
  {
   "cell_type": "code",
   "execution_count": 41,
   "outputs": [
    {
     "data": {
      "text/plain": "   1  2  3  4  5\n0  1  1  1  1  1\n1  3  1  3  3  3\n2  4  4  1  4  4\n3  5  5  5  1  5\n4  6  6  6  6  1",
      "text/html": "<div>\n<style scoped>\n    .dataframe tbody tr th:only-of-type {\n        vertical-align: middle;\n    }\n\n    .dataframe tbody tr th {\n        vertical-align: top;\n    }\n\n    .dataframe thead th {\n        text-align: right;\n    }\n</style>\n<table border=\"1\" class=\"dataframe\">\n  <thead>\n    <tr style=\"text-align: right;\">\n      <th></th>\n      <th>1</th>\n      <th>2</th>\n      <th>3</th>\n      <th>4</th>\n      <th>5</th>\n    </tr>\n  </thead>\n  <tbody>\n    <tr>\n      <th>0</th>\n      <td>1</td>\n      <td>1</td>\n      <td>1</td>\n      <td>1</td>\n      <td>1</td>\n    </tr>\n    <tr>\n      <th>1</th>\n      <td>3</td>\n      <td>1</td>\n      <td>3</td>\n      <td>3</td>\n      <td>3</td>\n    </tr>\n    <tr>\n      <th>2</th>\n      <td>4</td>\n      <td>4</td>\n      <td>1</td>\n      <td>4</td>\n      <td>4</td>\n    </tr>\n    <tr>\n      <th>3</th>\n      <td>5</td>\n      <td>5</td>\n      <td>5</td>\n      <td>1</td>\n      <td>5</td>\n    </tr>\n    <tr>\n      <th>4</th>\n      <td>6</td>\n      <td>6</td>\n      <td>6</td>\n      <td>6</td>\n      <td>1</td>\n    </tr>\n  </tbody>\n</table>\n</div>"
     },
     "metadata": {},
     "output_type": "execute_result",
     "execution_count": 41
    }
   ],
   "source": [
    "td = pd.DataFrame(\n",
    "    {\n",
    "        1: [1, 3, 4, 5, 6],\n",
    "        2: [1, 1, 4, 5, 6],\n",
    "        3: [1, 3, 1, 5, 6],\n",
    "        4: [1, 3, 4, 1, 6],\n",
    "        5: [1, 3, 4, 5, 1]\n",
    "     }\n",
    ")\n",
    "td"
   ],
   "metadata": {
    "collapsed": false,
    "pycharm": {
     "name": "#%%\n",
     "is_executing": false
    }
   }
  },
  {
   "cell_type": "code",
   "execution_count": 42,
   "outputs": [
    {
     "data": {
      "text/plain": "   3  4  5\n0  1  1  1\n1  3  3  3\n2  1  4  4\n3  5  1  5\n4  6  6  1",
      "text/html": "<div>\n<style scoped>\n    .dataframe tbody tr th:only-of-type {\n        vertical-align: middle;\n    }\n\n    .dataframe tbody tr th {\n        vertical-align: top;\n    }\n\n    .dataframe thead th {\n        text-align: right;\n    }\n</style>\n<table border=\"1\" class=\"dataframe\">\n  <thead>\n    <tr style=\"text-align: right;\">\n      <th></th>\n      <th>3</th>\n      <th>4</th>\n      <th>5</th>\n    </tr>\n  </thead>\n  <tbody>\n    <tr>\n      <th>0</th>\n      <td>1</td>\n      <td>1</td>\n      <td>1</td>\n    </tr>\n    <tr>\n      <th>1</th>\n      <td>3</td>\n      <td>3</td>\n      <td>3</td>\n    </tr>\n    <tr>\n      <th>2</th>\n      <td>1</td>\n      <td>4</td>\n      <td>4</td>\n    </tr>\n    <tr>\n      <th>3</th>\n      <td>5</td>\n      <td>1</td>\n      <td>5</td>\n    </tr>\n    <tr>\n      <th>4</th>\n      <td>6</td>\n      <td>6</td>\n      <td>1</td>\n    </tr>\n  </tbody>\n</table>\n</div>"
     },
     "metadata": {},
     "output_type": "execute_result",
     "execution_count": 42
    }
   ],
   "source": [
    "# del td[1, 2]\n",
    "# td\n",
    "\n",
    "td = td.drop([1, 2], axis=1)\n",
    "td"
   ],
   "metadata": {
    "collapsed": false,
    "pycharm": {
     "name": "#%%\n",
     "is_executing": false
    }
   }
  },
  {
   "cell_type": "markdown",
   "source": [
    "(11) code/\n",
    "\n",
    "```\n",
    "import numpy as np\n",
    "\n",
    "def generate_clustered_data(seed=0, n_clusters=3, n_features=2,\n",
    "                            n_samples_per_cluster=20, std=.4):\n",
    "    prng = np.random.RandomState(seed)\n",
    "\n",
    "    # the data is voluntary shifted away from zero to check clustering\n",
    "    # algorithm robustness with regards to non centered data\n",
    "    means = np.array([[1, 1, 1, 0],\n",
    "                      [-1, -1, 0, 1],\n",
    "                      [1, -1, 1, 1],\n",
    "                      [-1, 1, 1, 0],\n",
    "                     ]) + 10\n",
    "    print(means)\n",
    "\n",
    "    X = np.empty((0, n_features))\n",
    "    print(X)\n",
    "\n",
    "    for i in range(n_clusters):\n",
    "        X = np.r_[X, means[i][:n_features]\n",
    "                  + std * prng.randn(n_samples_per_cluster, n_features)]\n",
    "        print(X)\n",
    "    return X\n",
    "generate_clustered_data()\n",
    "```\n",
    "\n",
    "```\n",
    "import numpy as np\n",
    "\n",
    "from sklearn.utils.testing import assert_equal\n",
    "from sklearn.utils.testing import assert_array_equal\n",
    "from sklearn.utils.testing import assert_raises\n",
    "\n",
    "from sklearn.cluster.affinity_propagation_ import AffinityPropagation\n",
    "from sklearn.cluster.affinity_propagation_ import affinity_propagation\n",
    "from sklearn.datasets.samples_generator import make_blobs\n",
    "from sklearn.metrics import euclidean_distances\n",
    "\n",
    "n_clusters = 3\n",
    "centers = np.array([[1, 1], [-1, -1], [1, -1]]) + 10\n",
    "print(centers)\n",
    "\n",
    "X, _ = make_blobs(n_samples=60, n_features=2, centers=centers,\n",
    "                  cluster_std=0.4, shuffle=True, random_state=0)\n",
    "# print(X)\n",
    "\n",
    "\n",
    "def test_affinity_propagation():\n",
    "    # Affinity Propagation algorithm\n",
    "    # Compute similarities\n",
    "    S = -euclidean_distances(X, squared=True)\n",
    "    print(S)\n",
    "\n",
    "    preference = np.median(S) * 10\n",
    "    print(preference)\n",
    "\n",
    "    cluster_centers_indices, labels = affinity_propagation(\n",
    "        S, preference=preference)\n",
    "    print(cluster_centers_indices, labels)\n",
    "\n",
    "    n_clusters_ = len(cluster_centers_indices)\n",
    "\n",
    "    assert_equal(n_clusters, n_clusters_)\n",
    "\n",
    "    af = AffinityPropagation(preference=preference, affinity=\"precomputed\")\n",
    "    labels_precomputed = af.fit(S).labels_\n",
    "    print(labels_precomputed)\n",
    "\n",
    "    af = AffinityPropagation(preference=preference, verbose=True)\n",
    "    labels = af.fit(X).labels_\n",
    "    print(labels)\n",
    "\n",
    "    assert_array_equal(labels, labels_precomputed)\n",
    "\n",
    "    cluster_centers_indices = af.cluster_centers_indices_\n",
    "    print(cluster_centers_indices)\n",
    "\n",
    "    n_clusters_ = len(cluster_centers_indices)\n",
    "    assert_equal(np.unique(labels).size, n_clusters_)\n",
    "    assert_equal(n_clusters, n_clusters_)\n",
    "\n",
    "    # Test also with no copy\n",
    "    _, labels_no_copy = affinity_propagation(S, preference=preference,\n",
    "                                             copy=False)\n",
    "    assert_array_equal(labels, labels_no_copy)\n",
    "\n",
    "    # Test input validation\n",
    "    assert_raises(ValueError, affinity_propagation, S[:, :-1])\n",
    "    assert_raises(ValueError, affinity_propagation, S, damping=0)\n",
    "    af = AffinityPropagation(affinity=\"unknown\")\n",
    "    assert_raises(ValueError, af.fit, X)\n",
    "test_affinity_propagation()\n",
    "\n",
    "\n",
    "def test_affinity_propagation_predict():\n",
    "    # Test AffinityPropagation.predict\n",
    "    af = AffinityPropagation(affinity=\"euclidean\")\n",
    "    labels = af.fit_predict(X)\n",
    "    labels2 = af.predict(X)\n",
    "    assert_array_equal(labels, labels2)\n",
    "\n",
    "\n",
    "def test_affinity_propagation_predict_error():\n",
    "    # Test exception in AffinityPropagation.predict\n",
    "    # Not fitted.\n",
    "    af = AffinityPropagation(affinity=\"euclidean\")\n",
    "    assert_raises(ValueError, af.predict, X)\n",
    "\n",
    "    # Predict not supported when affinity=\"precomputed\".\n",
    "    S = np.dot(X, X.T)\n",
    "    af = AffinityPropagation(affinity=\"precomputed\")\n",
    "    af.fit(S)\n",
    "    assert_raises(ValueError, af.predict, X)\n",
    "```"
   ],
   "metadata": {
    "collapsed": false,
    "pycharm": {
     "name": "#%% md\n"
    }
   }
  },
  {
   "cell_type": "markdown",
   "source": [
    "(12) ks/ \n",
    "\n",
    "TODO:"
   ],
   "metadata": {
    "collapsed": false,
    "pycharm": {
     "name": "#%% md\n"
    }
   }
  },
  {
   "cell_type": "code",
   "execution_count": 43,
   "outputs": [],
   "source": [
    "from scipy.stats import ks_2samp\n",
    "ta=[0, 0, 0, 0, 0, 0, 0, 0, 2, 0, 0, 0, 0, 0, 0, 0, 0, 0, 2, 0, 0, 0, 2, 0, 0, 0, 1, 0, 0, 2, 0, 0, 0, 0, 0, 0, 2, 0,\n",
    "      0, 0, 0, 0, 0, 2, 0, 1, 2, 0, 0, 0, 0, 0, 0, 0, 0, 0, 0, 0, 0, 0, 0, 0, 0, 0, 1, 0]\n",
    "a0=[0, 0, 0, 0, 0, 0, 0, 0, 0, 0, 0, 0, 0, 0, 0, 0, 0, 0, 1, 0, 0, 0, 0, 0, 0, 0, 0, 1, 0, 0, 0, 0, 0, 0, 0, 0, 0, 0,\n",
    "      0, 0, 1, 0, 0, 0, 0, 1, 0, 0, 0, 0, 0, 0, 1, 0, 0, 0, 0, 0, 0, 0, 0, 0, 1, 0, 1, 0]\n",
    "a1=[2, 0, 2, 2, 2, 0, 0, 0, 0, 2, 0, 0, 0, 0, 0, 0, 0, 2, 1, 0, 1, 2, 0, 0, 0, 0, 1, 0, 0, 2, 0, 0, 0, 2, 0, 2, 0, 0,\n",
    "      0, 0, 0, 0, 2, 2, 0, 1, 0, 0, 0, 0, 2, 0, 1, 0, 0, 2, 0, 0, 0, 0, 0, 2, 0, 0, 1, 0]\n",
    "a2=[0, 0, 0, 0, 0, 0, 0, 0, 0, 0, 0, 0, 0, 0, 0, 0, 0, 0, 0, 0, 1, 0, 0, 0, 0, 0, 1, 0, 1, 0, 0, 0, 0, 0, 0, 0, 0, 0,\n",
    "      0, 0, 0, 0, 0, 0, 0, 1, 0, 0, 0, 0, 0, 0, 0, 0, 0, 0, 0, 0, 0, 0, 0, 0, 0, 0, 1, 0]\n",
    "a3=[0, 0, 0, 0, 0, 0, 0, 0, 0, 0, 0, 0, 0, 0, 0, 0, 0, 0, 0, 0, 0, 0, 0, 0, 0, 0, 0, 0, 0, 0, 0, 0, 0, 0, 0, 0, 0, 0,\n",
    "      0, 0, 0, 0, 0, 0, 0, 0, 0, 0, 0, 0, 0, 0, 0, 0, 0, 0, 0, 0, 0, 0, 0, 0, 0, 0, 0, 0]\n",
    "a4=[0, 2, 0, 0, 0, 0, 0, 0, 2, 0, 0, 0, 0, 2, 0, 0, 0, 1, 1, 0, 1, 0, 0, 0, 0, 0, 0, 2, 0, 0, 0, 0, 0, 2, 0, 0, 0, 0,\n",
    "      0, 0, 0, 0, 0, 0, 0, 1, 0, 0, 0, 0, 0, 0, 0, 0, 0, 0, 0, 0, 0, 0, 0, 0, 0, 0, 1, 0]\n",
    "a5=[0, 2, 0, 0, 0, 0, 0, 0, 2, 0, 0, 0, 0, 2, 0, 0, 0, 1, 1, 0, 1, 0, 0, 0, 0, 0, 0, 2, 0, 0, 0, 0, 0, 2, 0, 0, 0, 0,\n",
    "      0, 0, 0, 0, 0, 0, 0, 1, 0, 0, 0, 0, 0, 0, 0, 0, 0, 0, 0, 0, 0, 0, 0, 0, 0, 0, 1, 0]\n",
    "a6=[0, 0, 0, 0, 0, 0, 0, 0, 0, 2, 0, 0, 0, 0, 0, 0, 0, 0, 1, 0, 1, 0, 0, 0, 0, 0, 1, 0, 0, 0, 0, 0, 0, 0, 0, 0, 0, 0,\n",
    "      0, 0, 0, 0, 0, 2, 0, 1, 0, 0, 0, 0, 0, 0, 1, 0, 0, 0, 0, 0, 0, 0, 0, 0, 0, 0, 1, 0]\n",
    "\n",
    "ta = pd.Series(ta)\n",
    "a0 = pd.Series(a0)\n",
    "a1 = pd.Series(a1)\n",
    "a2 = pd.Series(a2)\n",
    "a3 = pd.Series(a3)\n",
    "a4 = pd.Series(a4)\n",
    "a5 = pd.Series(a5)\n",
    "a6 = pd.Series(a6)\n",
    "\n",
    "get_ks = lambda y1, y2: ks_2samp(y1[y2 == y1], y1[y2 != y1]).statistic"
   ],
   "metadata": {
    "collapsed": false,
    "pycharm": {
     "name": "#%%\n",
     "is_executing": false
    }
   }
  },
  {
   "cell_type": "code",
   "execution_count": 44,
   "outputs": [
    {
     "name": "stdout",
     "text": [
      "a0 0.6296296296296295\n",
      "a1 0.2065217391304348\n",
      "a2 0.7777777777777778\n",
      "a3 1.0\n",
      "a4 0.4818577648766328\n",
      "a5 0.4818577648766328\n",
      "a6 0.6491228070175439\n"
     ],
     "output_type": "stream"
    }
   ],
   "source": [
    "print('a0', get_ks(ta, a0))\n",
    "print('a1', get_ks(ta, a1))\n",
    "print('a2', get_ks(ta, a2))\n",
    "print('a3', get_ks(ta, a3))\n",
    "print('a4', get_ks(ta, a4))\n",
    "print('a5', get_ks(ta, a5))\n",
    "print('a6', get_ks(ta, a6))"
   ],
   "metadata": {
    "collapsed": false,
    "pycharm": {
     "name": "#%%\n",
     "is_executing": false
    }
   }
  },
  {
   "cell_type": "markdown",
   "source": [
    "(13) stats.norm.rvs/"
   ],
   "metadata": {
    "collapsed": false,
    "pycharm": {
     "name": "#%% md\n"
    }
   }
  },
  {
   "cell_type": "code",
   "execution_count": 47,
   "outputs": [
    {
     "name": "stdout",
     "text": [
      "Ks_2sampResult(statistic=0.20833333333333337, pvalue=4.667497551580699e-05)\n",
      "Ks_2sampResult(statistic=0.10333333333333333, pvalue=0.14498781825751686)\n",
      "Ks_2sampResult(statistic=0.07999999999999996, pvalue=0.4112694972985972)\n"
     ],
     "output_type": "stream"
    }
   ],
   "source": [
    "from scipy import stats\n",
    "np.random.seed(12345678)\n",
    "n1 = 200\n",
    "n2 = 300\n",
    "rvs1 = stats.norm.rvs(size=n1, loc=0., scale=1)\n",
    "rvs2 = stats.norm.rvs(size=n2, loc=0.5, scale=1.5)\n",
    "rvs3 = stats.norm.rvs(size=n2, loc=0.01, scale=1.0)\n",
    "rvs4 = stats.norm.rvs(size=n2, loc=0.0, scale=1.0)\n",
    "\n",
    "print(stats.ks_2samp(rvs1, rvs2))\n",
    "print(stats.ks_2samp(rvs1, rvs3))\n",
    "print(stats.ks_2samp(rvs1, rvs4))"
   ],
   "metadata": {
    "collapsed": false,
    "pycharm": {
     "name": "#%%\n",
     "is_executing": false
    }
   }
  },
  {
   "cell_type": "markdown",
   "source": [
    "(14) np.unique/ np.percentile/"
   ],
   "metadata": {
    "collapsed": false,
    "pycharm": {
     "name": "#%% md\n"
    }
   }
  },
  {
   "cell_type": "code",
   "execution_count": 48,
   "outputs": [
    {
     "data": {
      "text/plain": "[0.03148661, 0.79341859, 0.82668202, 0.84745973, 0.86047191]"
     },
     "metadata": {},
     "output_type": "execute_result",
     "execution_count": 48
    }
   ],
   "source": [
    "score = [0.03148661,  0.79341859,  0.82668202,  0.84745973, 0.86047191]\n",
    "score\n"
   ],
   "metadata": {
    "collapsed": false,
    "pycharm": {
     "name": "#%%\n",
     "is_executing": false
    }
   }
  },
  {
   "cell_type": "code",
   "execution_count": 50,
   "outputs": [
    {
     "name": "stdout",
     "text": [
      "linear:\n",
      " [0.03148661 0.3362594  0.64103219 0.80007128 0.81337665 0.82668202\n",
      " 0.8349931  0.84330419 0.85006217 0.85526704 0.86047191]\n",
      "lower:\n",
      " [0.03148661 0.79341859 0.82668202 0.84745973 0.86047191]\n",
      "higher:\n",
      " [0.03148661 0.79341859 0.82668202 0.84745973 0.86047191]\n",
      "midpoint:\n",
      " [0.03148661 0.4124526  0.81005031 0.82668202 0.83707087 0.85396582\n",
      " 0.86047191]\n",
      "nearest:\n",
      " [0.03148661 0.79341859 0.82668202 0.84745973 0.86047191]\n"
     ],
     "output_type": "stream"
    }
   ],
   "source": [
    "l = [0, 10, 20, 30, 40, 50, 60, 70, 80, 90, 100]\n",
    "\n",
    "cut0 = np.unique(\n",
    "    np.percentile(score, l, interpolation='linear')\n",
    ")\n",
    "print('linear:\\n', cut0)\n",
    "\n",
    "cut0 = np.unique(\n",
    "    np.percentile(score, l, interpolation='lower')\n",
    ")\n",
    "print('lower:\\n', cut0)\n",
    "\n",
    "cut0 = np.unique(\n",
    "    np.percentile(score, l, interpolation='higher')\n",
    ")\n",
    "print('higher:\\n', cut0)\n",
    "\n",
    "cut0 = np.unique(\n",
    "    np.percentile(score, l, interpolation='midpoint')\n",
    ")\n",
    "print('midpoint:\\n', cut0)\n",
    "\n",
    "cut0 = np.unique(\n",
    "    np.percentile(score, l, interpolation='nearest')\n",
    ")\n",
    "print('nearest:\\n', cut0)\n"
   ],
   "metadata": {
    "collapsed": false,
    "pycharm": {
     "name": "#%%\n",
     "is_executing": false
    }
   }
  },
  {
   "cell_type": "code",
   "execution_count": 51,
   "outputs": [
    {
     "name": "stdout",
     "text": [
      "[0.03148661 0.11438514 0.19728367 0.2801822  0.36308073 0.44597926\n",
      " 0.52887779 0.61177632 0.69467485 0.77757338 0.86047191]\n"
     ],
     "output_type": "stream"
    }
   ],
   "source": [
    "s_max = np.max(score)\n",
    "s_min = np.min(score)\n",
    "s_t = (s_max - s_min) / 10.0\n",
    "cut1 = np.unique([s_min, s_min + s_t, s_min + 2 * s_t, s_min + 3 * s_t,\n",
    "                  s_min + 4 * s_t, s_min + 5 * s_t,\n",
    "                  s_min + 6 * s_t, s_min + 7 * s_t,\n",
    "                  s_min + 8 * s_t, s_min + 9 * s_t,\n",
    "                  s_max])\n",
    "print(cut1)"
   ],
   "metadata": {
    "collapsed": false,
    "pycharm": {
     "name": "#%%\n",
     "is_executing": false
    }
   }
  },
  {
   "cell_type": "markdown",
   "source": [
    "(15) svm/ model/"
   ],
   "metadata": {
    "collapsed": false,
    "pycharm": {
     "name": "#%% md\n"
    }
   }
  },
  {
   "cell_type": "code",
   "execution_count": 52,
   "outputs": [
    {
     "name": "stdout",
     "text": [
      "_____________________________________\n",
      "[0 0 0 0 0 0 0 0 0 0 0 0 0 0 0 0 0 0 1 1 1 1 1 1 1 1 1 1 1 1 1 2 2 2 2 2 2\n",
      " 2 2 2 2 2 2 2 2 1 2 2 2 2]\n",
      "[[0.94181269 0.03337091 0.0248164 ]\n",
      " [0.95034266 0.0264007  0.02325664]\n",
      " [0.9318445  0.040796   0.0273595 ]\n",
      " [0.95292066 0.02477846 0.02230087]\n",
      " [0.94349118 0.02411791 0.03239091]\n",
      " [0.93794199 0.03793135 0.02412666]\n",
      " [0.92680504 0.04284621 0.03034875]\n",
      " [0.95502197 0.02359041 0.02138762]\n",
      " [0.94584703 0.02889113 0.02526184]\n",
      " [0.94595538 0.02982778 0.02421684]\n",
      " [0.94681412 0.0305773  0.02260859]\n",
      " [0.94202441 0.02950341 0.02847219]\n",
      " [0.95034266 0.0264007  0.02325664]\n",
      " [0.95689979 0.02108073 0.02201948]\n",
      " [0.9494898  0.02647541 0.02403479]\n",
      " [0.944058   0.03160865 0.02433335]\n",
      " [0.95063291 0.02419359 0.02517349]\n",
      " [0.9523077  0.0252902  0.0224021 ]\n",
      " [0.01303468 0.96028392 0.0266814 ]\n",
      " [0.01049014 0.93940867 0.05010119]\n",
      " [0.04901375 0.89629456 0.05469169]\n",
      " [0.01238594 0.96026722 0.02734684]\n",
      " [0.03185087 0.89197854 0.07617059]\n",
      " [0.0124184  0.90100151 0.08658009]\n",
      " [0.01377677 0.80295655 0.18326669]\n",
      " [0.01494798 0.87506182 0.10999021]\n",
      " [0.01041901 0.9322049  0.0573761 ]\n",
      " [0.01425867 0.91872401 0.06701732]\n",
      " [0.01003034 0.97929933 0.01067033]\n",
      " [0.01070036 0.97376312 0.01553652]\n",
      " [0.08924028 0.85972691 0.0510328 ]\n",
      " [0.02222935 0.00702817 0.97074248]\n",
      " [0.01444542 0.00628524 0.97926935]\n",
      " [0.02080349 0.01944986 0.95974666]\n",
      " [0.01588683 0.01197196 0.97214121]\n",
      " [0.01711785 0.16970195 0.8131802 ]\n",
      " [0.01641823 0.01524994 0.96833183]\n",
      " [0.03880494 0.04531845 0.9158766 ]\n",
      " [0.03297285 0.02724766 0.93977949]\n",
      " [0.01499512 0.10999915 0.87500572]\n",
      " [0.01569166 0.02576044 0.9585479 ]\n",
      " [0.01459605 0.46952686 0.51587709]\n",
      " [0.03917885 0.0608379  0.89998325]\n",
      " [0.01796526 0.06360631 0.91842843]\n",
      " [0.01436152 0.05187491 0.93376357]\n",
      " [0.01505532 0.52049467 0.46445   ]\n",
      " [0.01470082 0.04055597 0.94474322]\n",
      " [0.01750388 0.00930856 0.97318756]\n",
      " [0.01592334 0.10948096 0.8745957 ]\n",
      " [0.01509609 0.1763062  0.80859771]]\n",
      "_____________________________________\n",
      "[0 0 0 0 0 0 0 0 0 0 0 0 0 0 0 0 0 0 1 1 1 1 1 1 1 1 1 1 1 1 1 2 2 2 2 2 2\n",
      " 2 2 2 2 2 2 2 2 1 2 2 2 2]\n",
      "[[0.94061397 0.03322943 0.0261566 ]\n",
      " [0.94944692 0.02617267 0.02438041]\n",
      " [0.9304833  0.04064067 0.02887603]\n",
      " [0.95201451 0.02458777 0.02339772]\n",
      " [0.94259554 0.02374098 0.03366349]\n",
      " [0.93667308 0.0378279  0.02549902]\n",
      " [0.92522703 0.04272994 0.03204302]\n",
      " [0.95421015 0.02337939 0.02241046]\n",
      " [0.94482578 0.02866677 0.02650745]\n",
      " [0.94494844 0.02961394 0.02543762]\n",
      " [0.9457966  0.03040401 0.02379939]\n",
      " [0.94117484 0.02912623 0.02969893]\n",
      " [0.94944692 0.02617267 0.02438041]\n",
      " [0.95619252 0.02082538 0.0229821 ]\n",
      " [0.9486574  0.02619897 0.02514363]\n",
      " [0.94291886 0.03145511 0.02562604]\n",
      " [0.94977177 0.02392472 0.02630351]\n",
      " [0.95141948 0.02508458 0.02349594]\n",
      " [0.01287045 0.95566139 0.03146816]\n",
      " [0.01034957 0.93127921 0.05837122]\n",
      " [0.04895611 0.88891605 0.06212785]\n",
      " [0.01223431 0.9555165  0.03224918]\n",
      " [0.03184465 0.88113124 0.08702411]\n",
      " [0.01223876 0.88848414 0.0992771 ]\n",
      " [0.01392545 0.78183858 0.20423597]\n",
      " [0.0156835  0.8593196  0.1249969 ]\n",
      " [0.01028423 0.92310666 0.0666091 ]\n",
      " [0.01405616 0.90854925 0.07739459]\n",
      " [0.00994952 0.97731713 0.01273334]\n",
      " [0.01058913 0.97090878 0.01850209]\n",
      " [0.08852417 0.85494349 0.05653234]\n",
      " [0.02154456 0.006898   0.97155744]\n",
      " [0.01399816 0.00620135 0.97980048]\n",
      " [0.02015265 0.01890847 0.96093888]\n",
      " [0.01539823 0.01170989 0.97289188]\n",
      " [0.01661074 0.15927388 0.82411538]\n",
      " [0.01591783 0.01485329 0.96922889]\n",
      " [0.03758453 0.04346738 0.91894809]\n",
      " [0.03196167 0.02636564 0.9416727 ]\n",
      " [0.01446405 0.10370897 0.88182698]\n",
      " [0.01520785 0.02487621 0.95991593]\n",
      " [0.01432272 0.44388871 0.54178857]\n",
      " [0.03791127 0.05802885 0.90405988]\n",
      " [0.01742779 0.06046257 0.92210964]\n",
      " [0.01392273 0.04945874 0.93661853]\n",
      " [0.01476974 0.4937978  0.49143246]\n",
      " [0.01425662 0.03883093 0.94691245]\n",
      " [0.01696374 0.00913717 0.97389909]\n",
      " [0.01538421 0.10322724 0.88138855]\n",
      " [0.0146456  0.16541654 0.81993786]]\n",
      "_____________________________________\n"
     ],
     "output_type": "stream"
    }
   ],
   "source": [
    "# Import Library\n",
    "from sklearn import svm\n",
    "from sklearn.datasets import load_iris\n",
    "import random\n",
    "\n",
    "# SVM Classifier\n",
    "def svm_classifier(train_x, train_y):\n",
    "    from sklearn.svm import SVC\n",
    "    model = SVC(probability=True)\n",
    "    model.fit(train_x, train_y)\n",
    "    return model\n",
    "\n",
    "# 导入IRIS数据集\n",
    "iris = load_iris()\n",
    "sample_range = range(0, 150)\n",
    "train_range = random.sample(sample_range, 100)\n",
    "test_range = [e for e in sample_range if e not in train_range]\n",
    "train_x = iris.data[train_range]\n",
    "test_x = iris.data[test_range]\n",
    "\n",
    "train_y = iris.target[train_range]\n",
    "test_y = iris.target[test_range]\n",
    "# print(train_y)\n",
    "# print(test_y)\n",
    "\n",
    "print('_____________________________________')\n",
    "model = svm.SVC(probability=True)\n",
    "model.fit(train_x, train_y)\n",
    "predict = model.predict(test_x)\n",
    "print(predict)\n",
    "predict = model.predict_proba(test_x)\n",
    "print(predict)\n",
    "print('_____________________________________')\n",
    "model = svm_classifier(train_x, train_y)\n",
    "predict = model.predict(test_x)\n",
    "print(predict)\n",
    "predict = model.predict_proba(test_x)\n",
    "print(predict)\n",
    "print('_____________________________________')\n",
    "\n",
    "#\n",
    "# 测试结果一致,说明是数据集的问题\n",
    "# 一种可能是因为占多数的类占比的比重太大了，SVM只找到了使损失函数最小化的方法\n",
    "# 另一种可能是因为不平衡性并不严重，但是特征并不好，svm从你的特征之间学不到有用信息。\n",
    "# 修改损失函数\n",
    "#"
   ],
   "metadata": {
    "collapsed": false,
    "pycharm": {
     "name": "#%%\n",
     "is_executing": false
    }
   }
  },
  {
   "cell_type": "markdown",
   "source": [
    "(16) sort/"
   ],
   "metadata": {
    "collapsed": false,
    "pycharm": {
     "name": "#%% md\n"
    }
   }
  },
  {
   "cell_type": "code",
   "execution_count": 53,
   "outputs": [
    {
     "name": "stdout",
     "text": [
      "[0.33148661, 0.6051739, 0.79341859, 0.82668202, 0.84745973, 0.86047191, 0.88178507, 0.89047246, 0.89916648, 0.90969703, 0.93082141]\n",
      "[0.33148661]\n",
      "[0.6051739]\n",
      "[0.79341859]\n",
      "[0.82668202]\n",
      "[0.84745973]\n",
      "[0.86047191]\n",
      "[0.88178507]\n",
      "[0.89047246]\n",
      "[0.89916648]\n",
      "[0.90969703, 0.93082141]\n"
     ],
     "output_type": "stream"
    }
   ],
   "source": [
    "score = [0.33148661, 0.82668202, 0.84745973, 0.86047191,\n",
    "         0.88178507, 0.89047246, 0.89916648, 0.90969703,\n",
    "         0.93082141, 0.6051739, 0.79341859]\n",
    "score.sort()\n",
    "print(score)\n",
    "index = len(score)//10\n",
    "for i in range(0, 10):\n",
    "    if i == 9:\n",
    "        print(score[i:])\n",
    "    else:\n",
    "        print(score[i:i+index])"
   ],
   "metadata": {
    "collapsed": false,
    "pycharm": {
     "name": "#%%\n",
     "is_executing": false
    }
   }
  },
  {
   "cell_type": "markdown",
   "source": [
    "(17) type/"
   ],
   "metadata": {
    "collapsed": false,
    "pycharm": {
     "name": "#%% md\n"
    }
   }
  },
  {
   "cell_type": "code",
   "execution_count": 55,
   "outputs": [
    {
     "name": "stdout",
     "text": [
      "1\n",
      "1\n",
      "1\n"
     ],
     "output_type": "stream"
    }
   ],
   "source": [
    "a = pd.DataFrame(['a'])\n",
    "if isinstance(a, pd.DataFrame):\n",
    "    print(1)\n",
    "if type(a) == type(pd.DataFrame([])):\n",
    "    print(1)\n",
    "if type(a) == pd.core.frame.DataFrame:\n",
    "    print(1)"
   ],
   "metadata": {
    "collapsed": false,
    "pycharm": {
     "name": "#%%\n",
     "is_executing": false
    }
   }
  },
  {
   "cell_type": "markdown",
   "source": [
    "(18) index/"
   ],
   "metadata": {
    "collapsed": false,
    "pycharm": {
     "name": "#%% md\n"
    }
   }
  },
  {
   "cell_type": "code",
   "execution_count": 57,
   "outputs": [
    {
     "name": "stdout",
     "text": [
      "    0\n",
      "4a  3\n",
      "1a  1\n",
      "2b  2\n",
      "3c  3\n",
      "    0\n",
      "4a  3\n",
      "1a  1\n",
      "2b  2\n",
      "3c  3\n",
      "    0\n",
      "1a  1\n",
      "2b  2\n",
      "3c  3\n",
      "4a  3\n"
     ],
     "output_type": "stream"
    }
   ],
   "source": [
    "a = pd.DataFrame([3, 1, 2, 3], index=['4a', '1a', '2b', '3c'])\n",
    "print(a)\n",
    "a.sort_index()\n",
    "print(a)\n",
    "a.sort_index(inplace=True)\n",
    "print(a)"
   ],
   "metadata": {
    "collapsed": false,
    "pycharm": {
     "name": "#%%\n",
     "is_executing": false
    }
   }
  },
  {
   "cell_type": "markdown",
   "source": [
    "(19) WOE/ IV/\n",
    "\n",
    "```\n",
    "# # -*-coding:utf-8-*-\n",
    "# # @auth patrick201(YP) ivan\n",
    "# # @time 2017年6月8日18:12:29\n",
    "# # @goal WOE/IV Information_Value\n",
    "# \"\"\"\n",
    "# V1.0 Github\n",
    "# V1.1 Ivan\n",
    "# \"\"\"\n",
    "# import numpy as np\n",
    "# import math\n",
    "# from scipy import stats\n",
    "# from sklearn.utils.multiclass import type_of_target\n",
    "#\n",
    "#\n",
    "# class WOE:\n",
    "#     def __init__(self):\n",
    "#         self._WOE_MIN = -20\n",
    "#         self._WOE_MAX = 20\n",
    "#\n",
    "#     def woe(self, X, y, event=1):\n",
    "#         \"\"\"\n",
    "#         Calculate woe of each feature category and information value\n",
    "#         :param X: 2-D numpy array explanatory features which should be discreted already\n",
    "#         :param y: 1-D numpy array target variable which should be binary\n",
    "#         :param event: value of binary stands for the event to predict\n",
    "#         :return: numpy array of woe dictionaries, each dictionary contains woe values\n",
    "#                  for categories of each feature\n",
    "#                  numpy array of information value of each feature\n",
    "#         \"\"\"\n",
    "#         self.check_target_binary(y)\n",
    "#         X1 = self.feature_discretion(X)\n",
    "#\n",
    "#         res_woe = []\n",
    "#         res_iv = []\n",
    "#         for i in range(0, X1.shape[-1]):\n",
    "#             x = X1[:, i]\n",
    "#             woe_dict, iv1 = self.woe_single_x(x, y, event)\n",
    "#             res_woe.append(woe_dict)\n",
    "#             res_iv.append(iv1)\n",
    "#         return np.array(res_woe), np.array(res_iv)\n",
    "#\n",
    "#     def woe_single_x(self, x, y, event=1):\n",
    "#         \"\"\"\n",
    "#         calculate woe and information for a single feature\n",
    "#         :param x: 1-D numpy starnds for single feature\n",
    "#         :param y: 1-D numpy array target variable\n",
    "#         :param event: value of binary stands for the event to predict\n",
    "#         :return: dictionary contains woe values for categories of this feature\n",
    "#                  information value of this feature\n",
    "#         \"\"\"\n",
    "#         self.check_target_binary(y)\n",
    "#\n",
    "#         event_total, non_event_total = self.count_binary(y, event=event)\n",
    "#         # print(event_total, non_event_total)\n",
    "#\n",
    "#         x_labels = np.unique(x)\n",
    "#         # print(x_labels)\n",
    "#\n",
    "#         woe_dict = {}\n",
    "#         iv = 0\n",
    "#         for x1 in x_labels:\n",
    "#             y1 = y[np.where(x == x1)[0]]\n",
    "#             event_count, non_event_count = self.count_binary(y1, event=event)\n",
    "#             rate_event = 1.0 * event_count / event_total\n",
    "#             rate_non_event = 1.0 * non_event_count / non_event_total\n",
    "#             if rate_event == 0:\n",
    "#                 woe1 = self._WOE_MIN\n",
    "#             elif rate_non_event == 0:\n",
    "#                 woe1 = self._WOE_MAX\n",
    "#             else:\n",
    "#                 woe1 = math.log(rate_event / rate_non_event)\n",
    "#             woe_dict[x1] = woe1\n",
    "#             iv += (rate_event - rate_non_event) * woe1\n",
    "#         return woe_dict, iv\n",
    "#\n",
    "#     def woe_replace(self, X, woe_arr):\n",
    "#         \"\"\"\n",
    "#         replace the explanatory feature categories with its woe value\n",
    "#         :param X: 2-D numpy array explanatory features which should be discreted already\n",
    "#         :param woe_arr: numpy array of woe dictionaries, each dictionary contains\n",
    "#                woe values for categories of each feature\n",
    "#         :return: the new numpy array in which woe values filled\n",
    "#         \"\"\"\n",
    "#         if X.shape[-1] != woe_arr.shape[-1]:\n",
    "#             raise ValueError('WOE dict array length must be equal with features length')\n",
    "#\n",
    "#         res = np.copy(X).astype(float)\n",
    "#         idx = 0\n",
    "#         for woe_dict in woe_arr:\n",
    "#             for k in woe_dict.keys():\n",
    "#                 woe = woe_dict[k]\n",
    "#                 res[:, idx][np.where(res[:, idx] == k)[0]] = woe * 1.0\n",
    "#             idx += 1\n",
    "#\n",
    "#         return res\n",
    "#\n",
    "#     def combined_iv(self, X, y, masks, event=1):\n",
    "#         \"\"\"\n",
    "#         calcute the information vlaue of combination features\n",
    "#         :param X: 2-D numpy array explanatory features which should be discreted already\n",
    "#         :param y: 1-D numpy array target variable\n",
    "#         :param masks: 1-D numpy array of masks stands for which features\n",
    "#                are included in combination,\n",
    "#                e.g. np.array([0,0,1,1,1,0,0,0,0,0,1]), the length should be same as features length\n",
    "#         :param event: value of binary stands for the event to predict\n",
    "#         :return: woe dictionary and information value of combined features\n",
    "#         \"\"\"\n",
    "#         if masks.shape[-1] != X.shape[-1]:\n",
    "#             raise ValueError('Masks array length must be equal with features length')\n",
    "#\n",
    "#         x = X[:, np.where(masks == 1)[0]]\n",
    "#         tmp = []\n",
    "#         for i in range(x.shape[0]):\n",
    "#             tmp.append(self.combine(x[i, :]))\n",
    "#\n",
    "#         dumy = np.array(tmp)\n",
    "#         # dumy_labels = np.unique(dumy)\n",
    "#         woe, iv = self.woe_single_x(dumy, y, event)\n",
    "#         return woe, iv\n",
    "#\n",
    "#     def combine(self, list):\n",
    "#         res = ''\n",
    "#         for item in list:\n",
    "#             res += str(item)\n",
    "#         return res\n",
    "#\n",
    "#     def count_binary(self, a, event=1):\n",
    "#         event_count = (a == event).sum()\n",
    "#         non_event_count = a.shape[-1] - event_count\n",
    "#         return event_count, non_event_count\n",
    "#\n",
    "#     def check_target_binary(self, y):\n",
    "#         \"\"\"\n",
    "#         check if the target variable is binary, raise error if not.\n",
    "#         :param y:\n",
    "#         :return:\n",
    "#         \"\"\"\n",
    "#         y_type = type_of_target(y)\n",
    "#         if y_type not in ['binary']:\n",
    "#             raise ValueError('Label type must be binary')\n",
    "#\n",
    "#     def feature_discretion(self, X):\n",
    "#         \"\"\"\n",
    "#         Discrete the continuous features of input data X,\n",
    "#         and keep other features unchanged.\n",
    "#         :param X : numpy array\n",
    "#         :return: the numpy array in which all continuous features are discreted\n",
    "#         \"\"\"\n",
    "#         temp = []\n",
    "#         for i in range(0, X.shape[-1]):\n",
    "#             x = X[:, i]\n",
    "#             x_type = type_of_target(x)\n",
    "#\n",
    "#             if x_type == 'continuous':\n",
    "#                 x1 = self.discrete(x)\n",
    "#                 temp.append(x1)\n",
    "#             else:\n",
    "#                 temp.append(x)\n",
    "#         return np.array(temp).T\n",
    "#\n",
    "#     def discrete(self, x):\n",
    "#         \"\"\"\n",
    "#         Discrete the input 1-D numpy array using 5 equal percentiles\n",
    "#         :param x: 1-D numpy array\n",
    "#         :return: discreted 1-D numpy array\n",
    "#         \"\"\"\n",
    "#         res = np.array([0] * x.shape[-1], dtype=int)\n",
    "#         for i in range(5):\n",
    "#             point1 = stats.scoreatpercentile(x, i * 20)\n",
    "#             point2 = stats.scoreatpercentile(x, (i + 1) * 20)\n",
    "#             x1 = x[np.where((x >= point1) & (x <= point2))]\n",
    "#             mask = np.in1d(x, x1)\n",
    "#             res[mask] = (i + 1)\n",
    "#         return res\n",
    "#\n",
    "#     @property\n",
    "#     def WOE_MIN(self):\n",
    "#         return self._WOE_MIN\n",
    "#\n",
    "#     @WOE_MIN.setter\n",
    "#     def WOE_MIN(self, woe_min):\n",
    "#         self._WOE_MIN = woe_min\n",
    "#\n",
    "#     @property\n",
    "#     def WOE_MAX(self):\n",
    "#         return self._WOE_MAX\n",
    "#\n",
    "#     @WOE_MAX.setter\n",
    "#     def WOE_MAX(self, woe_max):\n",
    "#         self._WOE_MAX = woe_max\n",
    "#\n",
    "```"
   ],
   "metadata": {
    "collapsed": false,
    "pycharm": {
     "name": "#%% md\n"
    }
   }
  },
  {
   "cell_type": "markdown",
   "source": [
    "(20) inf/"
   ],
   "metadata": {
    "collapsed": false,
    "pycharm": {
     "name": "#%% md\n"
    }
   }
  },
  {
   "cell_type": "code",
   "execution_count": 61,
   "outputs": [
    {
     "name": "stderr",
     "text": [
      "/data/soft/py3/lib/python3.6/site-packages/ipykernel_launcher.py:1: RuntimeWarning: divide by zero encountered in true_divide\n",
      "  \"\"\"Entry point for launching an IPython kernel.\n"
     ],
     "output_type": "stream"
    },
    {
     "data": {
      "text/plain": "(-inf, inf, array([inf]))"
     },
     "metadata": {},
     "output_type": "execute_result",
     "execution_count": 61
    }
   ],
   "source": [
    "-np.inf, np.inf, np.array([1])/np.array([0])\n"
   ],
   "metadata": {
    "collapsed": false,
    "pycharm": {
     "name": "#%%\n",
     "is_executing": false
    }
   }
  },
  {
   "cell_type": "markdown",
   "source": [
    "(21) sum/\n",
    "\n",
    "Test 2017年6月14日08:54:20"
   ],
   "metadata": {
    "collapsed": false,
    "pycharm": {
     "name": "#%% md\n"
    }
   }
  },
  {
   "cell_type": "code",
   "execution_count": 62,
   "outputs": [
    {
     "data": {
      "text/plain": "   a1  a2  a3\n0   1   3   4\n1   3   6   4",
      "text/html": "<div>\n<style scoped>\n    .dataframe tbody tr th:only-of-type {\n        vertical-align: middle;\n    }\n\n    .dataframe tbody tr th {\n        vertical-align: top;\n    }\n\n    .dataframe thead th {\n        text-align: right;\n    }\n</style>\n<table border=\"1\" class=\"dataframe\">\n  <thead>\n    <tr style=\"text-align: right;\">\n      <th></th>\n      <th>a1</th>\n      <th>a2</th>\n      <th>a3</th>\n    </tr>\n  </thead>\n  <tbody>\n    <tr>\n      <th>0</th>\n      <td>1</td>\n      <td>3</td>\n      <td>4</td>\n    </tr>\n    <tr>\n      <th>1</th>\n      <td>3</td>\n      <td>6</td>\n      <td>4</td>\n    </tr>\n  </tbody>\n</table>\n</div>"
     },
     "metadata": {},
     "output_type": "execute_result",
     "execution_count": 62
    }
   ],
   "source": [
    "a = pd.DataFrame([[1, 3, 4], [3, 6, 4]], columns=['a1', 'a2', 'a3'])\n",
    "a\n"
   ],
   "metadata": {
    "collapsed": false,
    "pycharm": {
     "name": "#%%\n",
     "is_executing": false
    }
   }
  },
  {
   "cell_type": "code",
   "execution_count": 63,
   "outputs": [
    {
     "data": {
      "text/plain": "   a1  a2  a3  s1  a1/s1  s2     a2/s2  s3  a3/s3\n0   1   3   4   4   0.25   9  0.333333   8    0.5\n1   3   6   4   4   0.75   9  0.666667   8    0.5",
      "text/html": "<div>\n<style scoped>\n    .dataframe tbody tr th:only-of-type {\n        vertical-align: middle;\n    }\n\n    .dataframe tbody tr th {\n        vertical-align: top;\n    }\n\n    .dataframe thead th {\n        text-align: right;\n    }\n</style>\n<table border=\"1\" class=\"dataframe\">\n  <thead>\n    <tr style=\"text-align: right;\">\n      <th></th>\n      <th>a1</th>\n      <th>a2</th>\n      <th>a3</th>\n      <th>s1</th>\n      <th>a1/s1</th>\n      <th>s2</th>\n      <th>a2/s2</th>\n      <th>s3</th>\n      <th>a3/s3</th>\n    </tr>\n  </thead>\n  <tbody>\n    <tr>\n      <th>0</th>\n      <td>1</td>\n      <td>3</td>\n      <td>4</td>\n      <td>4</td>\n      <td>0.25</td>\n      <td>9</td>\n      <td>0.333333</td>\n      <td>8</td>\n      <td>0.5</td>\n    </tr>\n    <tr>\n      <th>1</th>\n      <td>3</td>\n      <td>6</td>\n      <td>4</td>\n      <td>4</td>\n      <td>0.75</td>\n      <td>9</td>\n      <td>0.666667</td>\n      <td>8</td>\n      <td>0.5</td>\n    </tr>\n  </tbody>\n</table>\n</div>"
     },
     "metadata": {},
     "output_type": "execute_result",
     "execution_count": 63
    }
   ],
   "source": [
    "a['s1'] = sum(a['a1'])\n",
    "a['a1/s1'] = a['a1']/a['s1']\n",
    "a['s2'] = sum(a['a2'])\n",
    "a['a2/s2'] = a['a2']/a['s2']\n",
    "a['s3'] = sum(a['a3'])\n",
    "a['a3/s3'] = a['a3']/a['s3']\n",
    "a"
   ],
   "metadata": {
    "collapsed": false,
    "pycharm": {
     "name": "#%%\n",
     "is_executing": false
    }
   }
  },
  {
   "cell_type": "code",
   "execution_count": 64,
   "outputs": [
    {
     "data": {
      "text/plain": "a1        4.0\na2        9.0\na3        8.0\ns1        8.0\na1/s1     1.0\ns2       18.0\na2/s2     1.0\ns3       16.0\na3/s3     1.0\ndtype: float64"
     },
     "metadata": {},
     "output_type": "execute_result",
     "execution_count": 64
    }
   ],
   "source": [
    "a.sum()"
   ],
   "metadata": {
    "collapsed": false,
    "pycharm": {
     "name": "#%%\n",
     "is_executing": false
    }
   }
  },
  {
   "cell_type": "markdown",
   "source": [
    "(22) argwhere/ argmax/"
   ],
   "metadata": {
    "collapsed": false,
    "pycharm": {
     "name": "#%% md\n",
     "is_executing": false
    }
   }
  },
  {
   "cell_type": "code",
   "execution_count": 67,
   "outputs": [
    {
     "data": {
      "text/plain": "(array([[3]]), array([[2]]), 2)"
     },
     "metadata": {},
     "output_type": "execute_result",
     "execution_count": 67
    }
   ],
   "source": [
    "a = np.array([1, 2, 4, 8])\n",
    "b = np.array([3, 2, 5, 3])\n",
    "\n",
    "a1 = np.argwhere(a == max(a))\n",
    "b1 = np.argwhere(b == max(b))\n",
    "b2 = np.argmax(b)\n",
    "\n",
    "a1, b1, b2"
   ],
   "metadata": {
    "collapsed": false,
    "pycharm": {
     "name": "#%%\n",
     "is_executing": false
    }
   }
  },
  {
   "cell_type": "code",
   "execution_count": 68,
   "outputs": [
    {
     "name": "stdout",
     "text": [
      "1\n",
      "[3, 4]\n",
      "[122, 3, 4]\n"
     ],
     "output_type": "stream"
    }
   ],
   "source": [
    "aa = [1, 3, 4]\n",
    "print(aa.pop(0))\n",
    "print(aa)\n",
    "aa.insert(0, 122)\n",
    "print(aa)"
   ],
   "metadata": {
    "collapsed": false,
    "pycharm": {
     "name": "#%%\n",
     "is_executing": false
    }
   }
  },
  {
   "cell_type": "code",
   "execution_count": 70,
   "outputs": [
    {
     "name": "stdout",
     "text": [
      "{1: 5, 2: 20}\n",
      "20\n",
      "2 20\n",
      "[20, 20]\n"
     ],
     "output_type": "stream"
    }
   ],
   "source": [
    "a = {\n",
    "    1: 5,\n",
    "    2: 20\n",
    "}\n",
    "print(a)\n",
    "print(max(a.values()))\n",
    "\n",
    "max_a = 0\n",
    "max_i = 0\n",
    "for i in a:\n",
    "    if a[i] > max_a:\n",
    "        max_a = a[i]\n",
    "        max_i = i\n",
    "print(max_i, max_a)\n",
    "\n",
    "b = [a[i] if a[i] > max_a else max_a for i in a]\n",
    "print(b)"
   ],
   "metadata": {
    "collapsed": false,
    "pycharm": {
     "name": "#%%\n",
     "is_executing": false
    }
   }
  },
  {
   "cell_type": "markdown",
   "source": [
    "(23) corr().ix/"
   ],
   "metadata": {
    "collapsed": false,
    "pycharm": {
     "name": "#%% md\n"
    }
   }
  },
  {
   "cell_type": "code",
   "execution_count": 73,
   "outputs": [
    {
     "data": {
      "text/plain": "   a   b  c\n0  1   2  4\n1  2   6  3\n2  3  10  1",
      "text/html": "<div>\n<style scoped>\n    .dataframe tbody tr th:only-of-type {\n        vertical-align: middle;\n    }\n\n    .dataframe tbody tr th {\n        vertical-align: top;\n    }\n\n    .dataframe thead th {\n        text-align: right;\n    }\n</style>\n<table border=\"1\" class=\"dataframe\">\n  <thead>\n    <tr style=\"text-align: right;\">\n      <th></th>\n      <th>a</th>\n      <th>b</th>\n      <th>c</th>\n    </tr>\n  </thead>\n  <tbody>\n    <tr>\n      <th>0</th>\n      <td>1</td>\n      <td>2</td>\n      <td>4</td>\n    </tr>\n    <tr>\n      <th>1</th>\n      <td>2</td>\n      <td>6</td>\n      <td>3</td>\n    </tr>\n    <tr>\n      <th>2</th>\n      <td>3</td>\n      <td>10</td>\n      <td>1</td>\n    </tr>\n  </tbody>\n</table>\n</div>"
     },
     "metadata": {},
     "output_type": "execute_result",
     "execution_count": 73
    }
   ],
   "source": [
    "a = pd.DataFrame([[1, 2, 4], [2, 6, 3], [3, 10, 1]], columns=['a', 'b', 'c'])\n",
    "a"
   ],
   "metadata": {
    "collapsed": false,
    "pycharm": {
     "name": "#%%\n",
     "is_executing": false
    }
   }
  },
  {
   "cell_type": "code",
   "execution_count": 74,
   "outputs": [
    {
     "name": "stderr",
     "text": [
      "/data/soft/py3/lib/python3.6/site-packages/ipykernel_launcher.py:2: DeprecationWarning: \n",
      ".ix is deprecated. Please use\n",
      ".loc for label based indexing or\n",
      ".iloc for positional indexing\n",
      "\n",
      "See the documentation here:\n",
      "http://pandas.pydata.org/pandas-docs/stable/indexing.html#ix-indexer-is-deprecated\n",
      "  \n"
     ],
     "output_type": "stream"
    },
    {
     "data": {
      "text/plain": "1.0"
     },
     "metadata": {},
     "output_type": "execute_result",
     "execution_count": 74
    }
   ],
   "source": [
    "a[['a', 'b']].corr().ix[0, 1]"
   ],
   "metadata": {
    "collapsed": false,
    "pycharm": {
     "name": "#%%\n",
     "is_executing": false
    }
   }
  },
  {
   "cell_type": "markdown",
   "source": [
    "(24) r_/"
   ],
   "metadata": {
    "collapsed": false,
    "pycharm": {
     "name": "#%% md\n"
    }
   }
  },
  {
   "cell_type": "code",
   "execution_count": 76,
   "outputs": [
    {
     "name": "stdout",
     "text": [
      "[1 2 1 3]\n",
      "[1 2 1 3] [1 2] [1 3]\n"
     ],
     "output_type": "stream"
    }
   ],
   "source": [
    "a1 = [1, 2]\n",
    "a2 = [1, 3]\n",
    "print(np.r_[a1, a2])\n",
    "\n",
    "a = a1 + a2\n",
    "b = np.array(a)\n",
    "b1 = np.array(a1)\n",
    "b2 = np.array(a2)\n",
    "print(b, b1, b2)"
   ],
   "metadata": {
    "collapsed": false,
    "pycharm": {
     "name": "#%%\n",
     "is_executing": false
    }
   }
  },
  {
   "cell_type": "markdown",
   "source": [
    "(25) date holiday/\n",
    "\n",
    "```\n",
    "# bugs\n",
    "import datetime\n",
    "date = []\n",
    "holiday = {\n",
    "    ['0101-0102']: 2,\n",
    "    ['0402-0404', '0429-0501', '0528-0530']: 3,\n",
    "    ['0127-0202']: 7,\n",
    "    ['1001-1008']: 8\n",
    "}\n",
    "\n",
    "live_day = {\n",
    "    u'元宵节': '0211',\n",
    "    u'情人节': '0214',\n",
    "    u'妇女节': '0308',\n",
    "    u'植树节': '0312',\n",
    "    u'愚人节': '0401',\n",
    "    u'青年节': '0504',\n",
    "    u'母亲节': '0514',\n",
    "    u'儿童节': '0601',\n",
    "    u'父亲节': '0618',\n",
    "    u'七夕节': '0828',\n",
    "    u'中元节': '0905',\n",
    "    u'教师节': '0910',\n",
    "    u'重阳节': '1028',\n",
    "    u'感恩节': '1123',\n",
    "    u'冬至节': '1222',\n",
    "    u'平安夜': '1224',\n",
    "    u'圣诞节': '1225',\n",
    "}\n",
    "\n",
    "\n",
    "def get_tomorr(i):\n",
    "    now = datetime.datetime.strptime('20170101', '%Y%m%d')\n",
    "    yes = now + datetime.timedelta(hours=24*(i-1))\n",
    "    return yes.strftime('%m%d')\n",
    "\n",
    "\n",
    "def get_tomorr1(i):\n",
    "    r = i.split('-')\n",
    "    i0, i1 = r[0], r[1]\n",
    "    t = i0\n",
    "    r1 = []\n",
    "    while t <= i1:\n",
    "        r1.append(t)\n",
    "        now = datetime.datetime.strptime('2017'+t, '%Y%m%d')\n",
    "        yes = now + datetime.timedelta(hours=24)\n",
    "        t = yes.strftime('%m%d')\n",
    "    return r1\n",
    "\n",
    "\n",
    "for i in range(1, 366):\n",
    "    d1 = get_tomorr(i)\n",
    "    d2 = 0\n",
    "    d3 = 0\n",
    "    if d1 in live_day.values():\n",
    "        d3 = 1\n",
    "    print('2017'+d1+','+str(d2)+','+str(d3))\n",
    "```"
   ],
   "metadata": {
    "collapsed": false,
    "pycharm": {
     "name": "#%% md\n"
    }
   }
  },
  {
   "cell_type": "markdown",
   "source": [
    "(26) -isin/"
   ],
   "metadata": {
    "collapsed": false,
    "pycharm": {
     "name": "#%% md\n"
    }
   }
  },
  {
   "cell_type": "code",
   "execution_count": 81,
   "outputs": [
    {
     "name": "stdout",
     "text": [
      "0    1\n",
      "1    2\n",
      "2    3\n",
      "dtype: int64\n",
      "0    2\n",
      "1    1\n",
      "dtype: int64\n",
      "2    3\n",
      "dtype: int64\n"
     ],
     "output_type": "stream"
    }
   ],
   "source": [
    "a = [1, 2, 3]\n",
    "b = [2, 1]\n",
    "a1 = pd.Series(a)\n",
    "b1 = pd.Series(b)\n",
    "print(a1)\n",
    "print(b1)\n",
    "print(a1[-a1.isin(b1)])"
   ],
   "metadata": {
    "collapsed": false,
    "pycharm": {
     "name": "#%%\n",
     "is_executing": false
    }
   }
  },
  {
   "cell_type": "code",
   "execution_count": null,
   "outputs": [],
   "source": [
    "\n"
   ],
   "metadata": {
    "collapsed": false,
    "pycharm": {
     "name": "#%%\n"
    }
   }
  }
 ],
 "metadata": {
  "kernelspec": {
   "display_name": "Python 3",
   "language": "python",
   "name": "python3"
  },
  "language_info": {
   "codemirror_mode": {
    "name": "ipython",
    "version": 2
   },
   "file_extension": ".py",
   "mimetype": "text/x-python",
   "name": "python",
   "nbconvert_exporter": "python",
   "pygments_lexer": "ipython2",
   "version": "2.7.6"
  },
  "pycharm": {
   "stem_cell": {
    "cell_type": "raw",
    "source": [],
    "metadata": {
     "collapsed": false
    }
   }
  }
 },
 "nbformat": 4,
 "nbformat_minor": 0
}