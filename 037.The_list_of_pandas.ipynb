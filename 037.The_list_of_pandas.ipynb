{
 "cells": [
  {
   "cell_type": "code",
   "execution_count": 1,
   "metadata": {
    "collapsed": true,
    "pycharm": {
     "is_executing": false
    }
   },
   "outputs": [],
   "source": [
    "import pandas as pd\n",
    "import numpy as np\n",
    "import matplotlib.pyplot as plt"
   ]
  },
  {
   "cell_type": "markdown",
   "source": [
    "(1) pd.read_csv/\n",
    "\n",
    "TEST 2017年5月10日20:06:14"
   ],
   "metadata": {
    "collapsed": false,
    "pycharm": {
     "name": "#%% md\n"
    }
   }
  },
  {
   "cell_type": "code",
   "execution_count": 2,
   "outputs": [
    {
     "name": "stdout",
     "text": [
      "a,b\r\n",
      "1,2\r\n",
      "1,2\r\n",
      "3,4\r\n",
      "2,4"
     ],
     "output_type": "stream"
    }
   ],
   "source": [
    "! cat \"/data/project/GitHubI/PyTools/037.The_list_of_pandas.csv\""
   ],
   "metadata": {
    "collapsed": false,
    "pycharm": {
     "name": "#%%\n",
     "is_executing": false
    }
   }
  },
  {
   "cell_type": "code",
   "execution_count": 3,
   "outputs": [
    {
     "data": {
      "text/plain": "a    1\nb    2\nName: 0, dtype: int64"
     },
     "metadata": {},
     "output_type": "execute_result",
     "execution_count": 3
    }
   ],
   "source": [
    "r = pd.read_csv('/data/project/GitHubI/PyTools/037.The_list_of_pandas.csv')\n",
    "row = next(r.iterrows())[1]\n",
    "row"
   ],
   "metadata": {
    "collapsed": false,
    "pycharm": {
     "name": "#%%\n",
     "is_executing": false
    }
   }
  },
  {
   "cell_type": "code",
   "execution_count": 4,
   "outputs": [
    {
     "name": "stdout",
     "text": [
      "Pandas(Index=0, a=1, b=2)\n",
      "Pandas(Index=1, a=1, b=2)\n",
      "Pandas(Index=2, a=3, b=4)\n",
      "Pandas(Index=3, a=2, b=4)\n"
     ],
     "output_type": "stream"
    }
   ],
   "source": [
    "for i in r.itertuples():\n",
    "    print(i)\n",
    "    "
   ],
   "metadata": {
    "collapsed": false,
    "pycharm": {
     "name": "#%%\n",
     "is_executing": false
    }
   }
  },
  {
   "cell_type": "code",
   "execution_count": 5,
   "outputs": [
    {
     "name": "stdout",
     "text": [
      "80\n",
      "32\n",
      "32\n"
     ],
     "output_type": "stream"
    }
   ],
   "source": [
    "for i in r.memory_usage():\n",
    "    print(i)\n",
    "    "
   ],
   "metadata": {
    "collapsed": false,
    "pycharm": {
     "name": "#%%\n",
     "is_executing": false
    }
   }
  },
  {
   "cell_type": "markdown",
   "source": [
    "(2) np.random.randn/ query/\n",
    "\n",
    "TEST 2017年5月10日20:06:14"
   ],
   "metadata": {
    "collapsed": false,
    "pycharm": {
     "name": "#%% md\n"
    }
   }
  },
  {
   "cell_type": "code",
   "execution_count": 6,
   "outputs": [
    {
     "data": {
      "text/plain": "          a         b\n0 -0.383886 -1.647527\n1  0.831821 -1.355180\n2  0.636969  0.261307\n3  0.092272 -1.322947\n4 -2.554606  0.324021\n5  1.361049 -0.510634\n6  0.450406  1.169965\n7 -0.113105 -0.613422\n8 -0.631325  0.677360\n9 -1.054822 -0.736196",
      "text/html": "<div>\n<style scoped>\n    .dataframe tbody tr th:only-of-type {\n        vertical-align: middle;\n    }\n\n    .dataframe tbody tr th {\n        vertical-align: top;\n    }\n\n    .dataframe thead th {\n        text-align: right;\n    }\n</style>\n<table border=\"1\" class=\"dataframe\">\n  <thead>\n    <tr style=\"text-align: right;\">\n      <th></th>\n      <th>a</th>\n      <th>b</th>\n    </tr>\n  </thead>\n  <tbody>\n    <tr>\n      <th>0</th>\n      <td>-0.383886</td>\n      <td>-1.647527</td>\n    </tr>\n    <tr>\n      <th>1</th>\n      <td>0.831821</td>\n      <td>-1.355180</td>\n    </tr>\n    <tr>\n      <th>2</th>\n      <td>0.636969</td>\n      <td>0.261307</td>\n    </tr>\n    <tr>\n      <th>3</th>\n      <td>0.092272</td>\n      <td>-1.322947</td>\n    </tr>\n    <tr>\n      <th>4</th>\n      <td>-2.554606</td>\n      <td>0.324021</td>\n    </tr>\n    <tr>\n      <th>5</th>\n      <td>1.361049</td>\n      <td>-0.510634</td>\n    </tr>\n    <tr>\n      <th>6</th>\n      <td>0.450406</td>\n      <td>1.169965</td>\n    </tr>\n    <tr>\n      <th>7</th>\n      <td>-0.113105</td>\n      <td>-0.613422</td>\n    </tr>\n    <tr>\n      <th>8</th>\n      <td>-0.631325</td>\n      <td>0.677360</td>\n    </tr>\n    <tr>\n      <th>9</th>\n      <td>-1.054822</td>\n      <td>-0.736196</td>\n    </tr>\n  </tbody>\n</table>\n</div>"
     },
     "metadata": {},
     "output_type": "execute_result",
     "execution_count": 6
    }
   ],
   "source": [
    "df = pd.DataFrame(np.random.randn(10, 2), columns=list('ab'))\n",
    "df"
   ],
   "metadata": {
    "collapsed": false,
    "pycharm": {
     "name": "#%%\n",
     "is_executing": false
    }
   }
  },
  {
   "cell_type": "code",
   "execution_count": 7,
   "outputs": [
    {
     "data": {
      "text/plain": "          a         b\n0 -0.383886 -1.647527\n1  0.831821 -1.355180\n2  0.636969  0.261307\n3  0.092272 -1.322947\n5  1.361049 -0.510634\n7 -0.113105 -0.613422",
      "text/html": "<div>\n<style scoped>\n    .dataframe tbody tr th:only-of-type {\n        vertical-align: middle;\n    }\n\n    .dataframe tbody tr th {\n        vertical-align: top;\n    }\n\n    .dataframe thead th {\n        text-align: right;\n    }\n</style>\n<table border=\"1\" class=\"dataframe\">\n  <thead>\n    <tr style=\"text-align: right;\">\n      <th></th>\n      <th>a</th>\n      <th>b</th>\n    </tr>\n  </thead>\n  <tbody>\n    <tr>\n      <th>0</th>\n      <td>-0.383886</td>\n      <td>-1.647527</td>\n    </tr>\n    <tr>\n      <th>1</th>\n      <td>0.831821</td>\n      <td>-1.355180</td>\n    </tr>\n    <tr>\n      <th>2</th>\n      <td>0.636969</td>\n      <td>0.261307</td>\n    </tr>\n    <tr>\n      <th>3</th>\n      <td>0.092272</td>\n      <td>-1.322947</td>\n    </tr>\n    <tr>\n      <th>5</th>\n      <td>1.361049</td>\n      <td>-0.510634</td>\n    </tr>\n    <tr>\n      <th>7</th>\n      <td>-0.113105</td>\n      <td>-0.613422</td>\n    </tr>\n  </tbody>\n</table>\n</div>"
     },
     "metadata": {},
     "output_type": "execute_result",
     "execution_count": 7
    }
   ],
   "source": [
    "df.query('a > b')"
   ],
   "metadata": {
    "collapsed": false,
    "pycharm": {
     "name": "#%%\n",
     "is_executing": false
    }
   }
  },
  {
   "cell_type": "code",
   "execution_count": 8,
   "outputs": [
    {
     "data": {
      "text/plain": "          a         b\n0 -0.383886 -1.647527\n1  0.831821 -1.355180\n2  0.636969  0.261307\n3  0.092272 -1.322947\n5  1.361049 -0.510634\n7 -0.113105 -0.613422",
      "text/html": "<div>\n<style scoped>\n    .dataframe tbody tr th:only-of-type {\n        vertical-align: middle;\n    }\n\n    .dataframe tbody tr th {\n        vertical-align: top;\n    }\n\n    .dataframe thead th {\n        text-align: right;\n    }\n</style>\n<table border=\"1\" class=\"dataframe\">\n  <thead>\n    <tr style=\"text-align: right;\">\n      <th></th>\n      <th>a</th>\n      <th>b</th>\n    </tr>\n  </thead>\n  <tbody>\n    <tr>\n      <th>0</th>\n      <td>-0.383886</td>\n      <td>-1.647527</td>\n    </tr>\n    <tr>\n      <th>1</th>\n      <td>0.831821</td>\n      <td>-1.355180</td>\n    </tr>\n    <tr>\n      <th>2</th>\n      <td>0.636969</td>\n      <td>0.261307</td>\n    </tr>\n    <tr>\n      <th>3</th>\n      <td>0.092272</td>\n      <td>-1.322947</td>\n    </tr>\n    <tr>\n      <th>5</th>\n      <td>1.361049</td>\n      <td>-0.510634</td>\n    </tr>\n    <tr>\n      <th>7</th>\n      <td>-0.113105</td>\n      <td>-0.613422</td>\n    </tr>\n  </tbody>\n</table>\n</div>"
     },
     "metadata": {},
     "output_type": "execute_result",
     "execution_count": 8
    }
   ],
   "source": [
    "df[df.a > df.b]\n"
   ],
   "metadata": {
    "collapsed": false,
    "pycharm": {
     "name": "#%%\n",
     "is_executing": false
    }
   }
  },
  {
   "cell_type": "markdown",
   "source": [
    "(3) pd.Series/\n",
    "\n",
    "TEST 2017年5月19日 20:43:58"
   ],
   "metadata": {
    "collapsed": false,
    "pycharm": {
     "name": "#%% md\n"
    }
   }
  },
  {
   "cell_type": "code",
   "execution_count": 9,
   "outputs": [
    {
     "data": {
      "text/plain": "London      20.0\nNew York    21.0\nHelsinki    12.0\na            NaN\ndtype: float64"
     },
     "metadata": {},
     "output_type": "execute_result",
     "execution_count": 9
    }
   ],
   "source": [
    "series = pd.Series([20, 21, 12, None], index=['London', 'New York', 'Helsinki', 'a'])\n",
    "series\n",
    "# print(series)\n",
    "# print(series.describe())\n",
    "# print(series.set_value('London', None))\n",
    "# print(series.dropna(how='all'))\n",
    "# print(series.dropna(how='all').describe())"
   ],
   "metadata": {
    "collapsed": false,
    "pycharm": {
     "name": "#%%\n",
     "is_executing": false
    }
   }
  },
  {
   "cell_type": "code",
   "execution_count": 10,
   "outputs": [
    {
     "data": {
      "text/plain": "count     3.000000\nmean     17.666667\nstd       4.932883\nmin      12.000000\n25%      16.000000\n50%      20.000000\n75%      20.500000\nmax      21.000000\ndtype: float64"
     },
     "metadata": {},
     "output_type": "execute_result",
     "execution_count": 10
    }
   ],
   "source": [
    "series.describe()\n"
   ],
   "metadata": {
    "collapsed": false,
    "pycharm": {
     "name": "#%%\n",
     "is_executing": false
    }
   }
  },
  {
   "cell_type": "code",
   "execution_count": 11,
   "outputs": [
    {
     "name": "stderr",
     "text": [
      "/data/soft/py3/lib/python3.6/site-packages/ipykernel_launcher.py:2: FutureWarning: set_value is deprecated and will be removed in a future release. Please use .at[] or .iat[] accessors instead\n",
      "  \n"
     ],
     "output_type": "stream"
    },
    {
     "data": {
      "text/plain": "London       NaN\nNew York    21.0\nHelsinki    12.0\na            NaN\ndtype: float64"
     },
     "metadata": {},
     "output_type": "execute_result",
     "execution_count": 11
    }
   ],
   "source": [
    "series.set_value('London', None)\n",
    "series"
   ],
   "metadata": {
    "collapsed": false,
    "pycharm": {
     "name": "#%%\n",
     "is_executing": false
    }
   }
  },
  {
   "cell_type": "code",
   "execution_count": 12,
   "outputs": [
    {
     "data": {
      "text/plain": "New York    21.0\nHelsinki    12.0\ndtype: float64"
     },
     "metadata": {},
     "output_type": "execute_result",
     "execution_count": 12
    }
   ],
   "source": [
    "series.dropna(how='all')"
   ],
   "metadata": {
    "collapsed": false,
    "pycharm": {
     "name": "#%%\n",
     "is_executing": false
    }
   }
  },
  {
   "cell_type": "code",
   "execution_count": 13,
   "outputs": [
    {
     "data": {
      "text/plain": "count     2.000000\nmean     16.500000\nstd       6.363961\nmin      12.000000\n25%      14.250000\n50%      16.500000\n75%      18.750000\nmax      21.000000\ndtype: float64"
     },
     "metadata": {},
     "output_type": "execute_result",
     "execution_count": 13
    }
   ],
   "source": [
    "series.dropna(how='all').describe()"
   ],
   "metadata": {
    "collapsed": false,
    "pycharm": {
     "name": "#%%\n",
     "is_executing": false
    }
   }
  },
  {
   "cell_type": "markdown",
   "source": [
    "(4) arg/ \n",
    "\n",
    "TEST 2017-5-19 22:40:58"
   ],
   "metadata": {
    "collapsed": false,
    "pycharm": {
     "name": "#%% md\n"
    }
   }
  },
  {
   "cell_type": "code",
   "execution_count": 14,
   "outputs": [
    {
     "name": "stdout",
     "text": [
      "1\n"
     ],
     "output_type": "stream"
    }
   ],
   "source": [
    "def a1(*args):\n",
    "    print(args[0])\n",
    "\n",
    "a1(1, 3)"
   ],
   "metadata": {
    "collapsed": false,
    "pycharm": {
     "name": "#%%\n",
     "is_executing": false
    }
   }
  },
  {
   "cell_type": "code",
   "execution_count": 15,
   "outputs": [
    {
     "name": "stdout",
     "text": [
      "1\n"
     ],
     "output_type": "stream"
    }
   ],
   "source": [
    "def a2(**kwargs):\n",
    "    if 'hi' in kwargs:\n",
    "        print(kwargs['hi'])\n",
    "    else:\n",
    "        print(1)\n",
    "\n",
    "a2()"
   ],
   "metadata": {
    "collapsed": false,
    "pycharm": {
     "name": "#%%\n",
     "is_executing": false
    }
   }
  },
  {
   "cell_type": "code",
   "execution_count": 16,
   "outputs": [
    {
     "name": "stdout",
     "text": [
      "1 3\n"
     ],
     "output_type": "stream"
    }
   ],
   "source": [
    "def a3(a, *args):\n",
    "    print(a, args[0])\n",
    "\n",
    "a3(1, 3)"
   ],
   "metadata": {
    "collapsed": false,
    "pycharm": {
     "name": "#%%\n",
     "is_executing": false
    }
   }
  },
  {
   "cell_type": "markdown",
   "source": [
    "(5) nan/"
   ],
   "metadata": {
    "collapsed": false,
    "pycharm": {
     "name": "#%% md\n"
    }
   }
  },
  {
   "cell_type": "code",
   "execution_count": 17,
   "outputs": [],
   "source": [
    "a = np.nan\n",
    "b = np.nan"
   ],
   "metadata": {
    "collapsed": false,
    "pycharm": {
     "name": "#%%\n",
     "is_executing": false
    }
   }
  },
  {
   "cell_type": "code",
   "execution_count": 18,
   "outputs": [
    {
     "data": {
      "text/plain": "(140484325988968, 140484325988968)"
     },
     "metadata": {},
     "output_type": "execute_result",
     "execution_count": 18
    }
   ],
   "source": [
    "id(a), id(b)"
   ],
   "metadata": {
    "collapsed": false,
    "pycharm": {
     "name": "#%%\n",
     "is_executing": false
    }
   }
  },
  {
   "cell_type": "code",
   "execution_count": 19,
   "outputs": [
    {
     "data": {
      "text/plain": "False"
     },
     "metadata": {},
     "output_type": "execute_result",
     "execution_count": 19
    }
   ],
   "source": [
    "a == b"
   ],
   "metadata": {
    "collapsed": false,
    "pycharm": {
     "name": "#%%\n",
     "is_executing": false
    }
   }
  },
  {
   "cell_type": "code",
   "execution_count": 20,
   "outputs": [
    {
     "data": {
      "text/plain": "True"
     },
     "metadata": {},
     "output_type": "execute_result",
     "execution_count": 20
    }
   ],
   "source": [
    "a is b"
   ],
   "metadata": {
    "collapsed": false,
    "pycharm": {
     "name": "#%%\n",
     "is_executing": false
    }
   }
  },
  {
   "cell_type": "code",
   "execution_count": 21,
   "outputs": [
    {
     "data": {
      "text/plain": "(True, True)"
     },
     "metadata": {},
     "output_type": "execute_result",
     "execution_count": 21
    }
   ],
   "source": [
    "'a' == 'a', 'a' is 'a'"
   ],
   "metadata": {
    "collapsed": false,
    "pycharm": {
     "name": "#%%\n",
     "is_executing": false
    }
   }
  },
  {
   "cell_type": "code",
   "execution_count": 22,
   "outputs": [
    {
     "data": {
      "text/plain": "(True, True)"
     },
     "metadata": {},
     "output_type": "execute_result",
     "execution_count": 22
    }
   ],
   "source": [
    "1.2 == 1.2, 1.2 is 1.2"
   ],
   "metadata": {
    "collapsed": false,
    "pycharm": {
     "name": "#%%\n",
     "is_executing": false
    }
   }
  },
  {
   "cell_type": "code",
   "execution_count": 23,
   "outputs": [
    {
     "name": "stdout",
     "text": [
      "1.0 False\n",
      "nan False\n"
     ],
     "output_type": "stream"
    }
   ],
   "source": [
    "a = pd.Series([1, np.nan])\n",
    "for i in a:\n",
    "    print(i, i is np.nan)"
   ],
   "metadata": {
    "collapsed": false,
    "pycharm": {
     "name": "#%%\n",
     "is_executing": false
    }
   }
  },
  {
   "cell_type": "code",
   "execution_count": 24,
   "outputs": [
    {
     "data": {
      "text/plain": "0    1.0\n1    NaN\ndtype: float64"
     },
     "metadata": {},
     "output_type": "execute_result",
     "execution_count": 24
    }
   ],
   "source": [
    "a"
   ],
   "metadata": {
    "collapsed": false,
    "pycharm": {
     "name": "#%%\n",
     "is_executing": false
    }
   }
  },
  {
   "cell_type": "code",
   "execution_count": 25,
   "outputs": [
    {
     "data": {
      "text/plain": "nan"
     },
     "metadata": {},
     "output_type": "execute_result",
     "execution_count": 25
    }
   ],
   "source": [
    "a[1]"
   ],
   "metadata": {
    "collapsed": false,
    "pycharm": {
     "name": "#%%\n",
     "is_executing": false
    }
   }
  },
  {
   "cell_type": "code",
   "execution_count": 26,
   "outputs": [
    {
     "data": {
      "text/plain": "(False, False)"
     },
     "metadata": {},
     "output_type": "execute_result",
     "execution_count": 26
    }
   ],
   "source": [
    "a[1] is np.nan, a[1] is np.NaN"
   ],
   "metadata": {
    "collapsed": false,
    "pycharm": {
     "name": "#%%\n",
     "is_executing": false
    }
   }
  },
  {
   "cell_type": "code",
   "execution_count": 27,
   "outputs": [],
   "source": [
    "b = np.nan"
   ],
   "metadata": {
    "collapsed": false,
    "pycharm": {
     "name": "#%%\n",
     "is_executing": false
    }
   }
  },
  {
   "cell_type": "code",
   "execution_count": 28,
   "outputs": [
    {
     "data": {
      "text/plain": "True"
     },
     "metadata": {},
     "output_type": "execute_result",
     "execution_count": 28
    }
   ],
   "source": [
    "b is np.nan"
   ],
   "metadata": {
    "collapsed": false,
    "pycharm": {
     "name": "#%%\n",
     "is_executing": false
    }
   }
  },
  {
   "cell_type": "markdown",
   "source": [
    "(6) isin?/"
   ],
   "metadata": {
    "collapsed": false,
    "pycharm": {
     "name": "#%% md\n"
    }
   }
  },
  {
   "cell_type": "code",
   "execution_count": 29,
   "outputs": [],
   "source": [
    "spe = [-999, 85, np.nan]\n",
    "a = pd.Series([1, -999, -999, 85, np.nan, 85])"
   ],
   "metadata": {
    "collapsed": false,
    "pycharm": {
     "name": "#%%\n",
     "is_executing": false
    }
   }
  },
  {
   "cell_type": "code",
   "execution_count": 30,
   "outputs": [
    {
     "name": "stdout",
     "text": [
      "CPU times: user 2.86 ms, sys: 972 µs, total: 3.84 ms\n",
      "Wall time: 3.06 ms\n"
     ],
     "output_type": "stream"
    },
    {
     "data": {
      "text/plain": " 85.0     2\n-999.0    2\nNaN       1\ndtype: int64"
     },
     "metadata": {},
     "output_type": "execute_result",
     "execution_count": 30
    }
   ],
   "source": [
    "%time pd.value_counts(a[[each in spe for each in a] + a.isnull()],dropna=False)"
   ],
   "metadata": {
    "collapsed": false,
    "pycharm": {
     "name": "#%%\n",
     "is_executing": false
    }
   }
  },
  {
   "cell_type": "code",
   "execution_count": 31,
   "outputs": [
    {
     "name": "stdout",
     "text": [
      "CPU times: user 1.8 ms, sys: 726 µs, total: 2.53 ms\n",
      "Wall time: 1.96 ms\n"
     ],
     "output_type": "stream"
    },
    {
     "data": {
      "text/plain": " 85.0     2\n-999.0    2\nNaN       1\ndtype: int64"
     },
     "metadata": {},
     "output_type": "execute_result",
     "execution_count": 31
    }
   ],
   "source": [
    "%time pd.value_counts(a[a.isin(spe)|(a.isnull())], dropna=False)"
   ],
   "metadata": {
    "collapsed": false,
    "pycharm": {
     "name": "#%%\n",
     "is_executing": false
    }
   }
  },
  {
   "cell_type": "markdown",
   "source": [
    "(7) matplotlib/ boxplot/\n",
    "\n",
    "箱形图"
   ],
   "metadata": {
    "collapsed": false,
    "pycharm": {
     "name": "#%% md\n"
    }
   }
  },
  {
   "cell_type": "code",
   "execution_count": 32,
   "outputs": [
    {
     "data": {
      "text/plain": "               1          2          3         4\ncount   4.000000   4.000000   4.000000   4.00000\nmean   11.000000  12.500000   6.500000  12.50000\nstd    10.392305   9.814955   6.350853   0.57735\nmin     2.000000   4.000000   1.000000  12.00000\n25%     2.000000   4.000000   1.000000  12.00000\n50%    11.000000  12.500000   6.500000  12.50000\n75%    20.000000  21.000000  12.000000  13.00000\nmax    20.000000  21.000000  12.000000  13.00000",
      "text/html": "<div>\n<style scoped>\n    .dataframe tbody tr th:only-of-type {\n        vertical-align: middle;\n    }\n\n    .dataframe tbody tr th {\n        vertical-align: top;\n    }\n\n    .dataframe thead th {\n        text-align: right;\n    }\n</style>\n<table border=\"1\" class=\"dataframe\">\n  <thead>\n    <tr style=\"text-align: right;\">\n      <th></th>\n      <th>1</th>\n      <th>2</th>\n      <th>3</th>\n      <th>4</th>\n    </tr>\n  </thead>\n  <tbody>\n    <tr>\n      <th>count</th>\n      <td>4.000000</td>\n      <td>4.000000</td>\n      <td>4.000000</td>\n      <td>4.00000</td>\n    </tr>\n    <tr>\n      <th>mean</th>\n      <td>11.000000</td>\n      <td>12.500000</td>\n      <td>6.500000</td>\n      <td>12.50000</td>\n    </tr>\n    <tr>\n      <th>std</th>\n      <td>10.392305</td>\n      <td>9.814955</td>\n      <td>6.350853</td>\n      <td>0.57735</td>\n    </tr>\n    <tr>\n      <th>min</th>\n      <td>2.000000</td>\n      <td>4.000000</td>\n      <td>1.000000</td>\n      <td>12.00000</td>\n    </tr>\n    <tr>\n      <th>25%</th>\n      <td>2.000000</td>\n      <td>4.000000</td>\n      <td>1.000000</td>\n      <td>12.00000</td>\n    </tr>\n    <tr>\n      <th>50%</th>\n      <td>11.000000</td>\n      <td>12.500000</td>\n      <td>6.500000</td>\n      <td>12.50000</td>\n    </tr>\n    <tr>\n      <th>75%</th>\n      <td>20.000000</td>\n      <td>21.000000</td>\n      <td>12.000000</td>\n      <td>13.00000</td>\n    </tr>\n    <tr>\n      <th>max</th>\n      <td>20.000000</td>\n      <td>21.000000</td>\n      <td>12.000000</td>\n      <td>13.00000</td>\n    </tr>\n  </tbody>\n</table>\n</div>"
     },
     "metadata": {},
     "output_type": "execute_result",
     "execution_count": 32
    }
   ],
   "source": [
    "ta = pd.DataFrame([\n",
    "    [20, 21, 12, 13],\n",
    "    [2, 4, 1, 12],\n",
    "    [20, 21, 12, 13],\n",
    "    [2, 4, 1, 12]\n",
    "], columns=['1', '2', '3', '4'])\n",
    "ta.describe()"
   ],
   "metadata": {
    "collapsed": false,
    "pycharm": {
     "name": "#%%\n",
     "is_executing": false
    }
   }
  },
  {
   "cell_type": "code",
   "execution_count": 33,
   "outputs": [
    {
     "data": {
      "text/plain": "<matplotlib.axes._subplots.AxesSubplot at 0x7fc4dbee5a90>"
     },
     "metadata": {},
     "output_type": "execute_result",
     "execution_count": 33
    },
    {
     "data": {
      "text/plain": "<Figure size 432x288 with 1 Axes>",
      "image/png": "[encoded data removed]"
     },
     "metadata": {},
     "output_type": "display_data"
    }
   ],
   "source": [
    "ta.boxplot(return_type='axes')"
   ],
   "metadata": {
    "collapsed": false,
    "pycharm": {
     "name": "#%%\n",
     "is_executing": false
    }
   }
  },
  {
   "cell_type": "markdown",
   "source": [
    "(8) get_dummies/"
   ],
   "metadata": {
    "collapsed": false,
    "pycharm": {
     "name": "#%% md\n"
    }
   }
  },
  {
   "cell_type": "code",
   "execution_count": 34,
   "outputs": [
    {
     "data": {
      "text/plain": "     A   B   C   D\n0   20  21  12  13\n1    2   4   1  12\n2   20  21  12  13\n3        4   1  12\n4  NaN   4   1  12",
      "text/html": "<div>\n<style scoped>\n    .dataframe tbody tr th:only-of-type {\n        vertical-align: middle;\n    }\n\n    .dataframe tbody tr th {\n        vertical-align: top;\n    }\n\n    .dataframe thead th {\n        text-align: right;\n    }\n</style>\n<table border=\"1\" class=\"dataframe\">\n  <thead>\n    <tr style=\"text-align: right;\">\n      <th></th>\n      <th>A</th>\n      <th>B</th>\n      <th>C</th>\n      <th>D</th>\n    </tr>\n  </thead>\n  <tbody>\n    <tr>\n      <th>0</th>\n      <td>20</td>\n      <td>21</td>\n      <td>12</td>\n      <td>13</td>\n    </tr>\n    <tr>\n      <th>1</th>\n      <td>2</td>\n      <td>4</td>\n      <td>1</td>\n      <td>12</td>\n    </tr>\n    <tr>\n      <th>2</th>\n      <td>20</td>\n      <td>21</td>\n      <td>12</td>\n      <td>13</td>\n    </tr>\n    <tr>\n      <th>3</th>\n      <td></td>\n      <td>4</td>\n      <td>1</td>\n      <td>12</td>\n    </tr>\n    <tr>\n      <th>4</th>\n      <td>NaN</td>\n      <td>4</td>\n      <td>1</td>\n      <td>12</td>\n    </tr>\n  </tbody>\n</table>\n</div>"
     },
     "metadata": {},
     "output_type": "execute_result",
     "execution_count": 34
    }
   ],
   "source": [
    "tb = pd.DataFrame([\n",
    "    [\"20\", 21, 12, 13],\n",
    "    [\"2\", 4, 1, 12],\n",
    "    [\"20\", 21, 12, 13],\n",
    "    [\"\", 4, 1, 12],\n",
    "    [np.nan, 4, 1, 12]\n",
    "], columns=list(\"ABCD\"))\n",
    "tb"
   ],
   "metadata": {
    "collapsed": false,
    "pycharm": {
     "name": "#%%\n",
     "is_executing": false
    }
   }
  },
  {
   "cell_type": "code",
   "execution_count": 35,
   "outputs": [
    {
     "name": "stdout",
     "text": [
      "20    2\n",
      "2     1\n",
      "      1\n",
      "Name: A, dtype: int64\n",
      "4     3\n",
      "21    2\n",
      "Name: B, dtype: int64\n",
      "1     3\n",
      "12    2\n",
      "Name: C, dtype: int64\n",
      "12    3\n",
      "13    2\n",
      "Name: D, dtype: int64\n"
     ],
     "output_type": "stream"
    }
   ],
   "source": [
    "for i in tb:\n",
    "    print(pd.value_counts(tb[i]))"
   ],
   "metadata": {
    "collapsed": false,
    "pycharm": {
     "name": "#%%\n",
     "is_executing": false
    }
   }
  },
  {
   "cell_type": "code",
   "execution_count": 36,
   "outputs": [
    {
     "data": {
      "text/plain": "    B   C   D  A_  A_2  A_20\n0  21  12  13   0    0     1\n1   4   1  12   0    1     0\n2  21  12  13   0    0     1\n3   4   1  12   1    0     0\n4   4   1  12   0    0     0",
      "text/html": "<div>\n<style scoped>\n    .dataframe tbody tr th:only-of-type {\n        vertical-align: middle;\n    }\n\n    .dataframe tbody tr th {\n        vertical-align: top;\n    }\n\n    .dataframe thead th {\n        text-align: right;\n    }\n</style>\n<table border=\"1\" class=\"dataframe\">\n  <thead>\n    <tr style=\"text-align: right;\">\n      <th></th>\n      <th>B</th>\n      <th>C</th>\n      <th>D</th>\n      <th>A_</th>\n      <th>A_2</th>\n      <th>A_20</th>\n    </tr>\n  </thead>\n  <tbody>\n    <tr>\n      <th>0</th>\n      <td>21</td>\n      <td>12</td>\n      <td>13</td>\n      <td>0</td>\n      <td>0</td>\n      <td>1</td>\n    </tr>\n    <tr>\n      <th>1</th>\n      <td>4</td>\n      <td>1</td>\n      <td>12</td>\n      <td>0</td>\n      <td>1</td>\n      <td>0</td>\n    </tr>\n    <tr>\n      <th>2</th>\n      <td>21</td>\n      <td>12</td>\n      <td>13</td>\n      <td>0</td>\n      <td>0</td>\n      <td>1</td>\n    </tr>\n    <tr>\n      <th>3</th>\n      <td>4</td>\n      <td>1</td>\n      <td>12</td>\n      <td>1</td>\n      <td>0</td>\n      <td>0</td>\n    </tr>\n    <tr>\n      <th>4</th>\n      <td>4</td>\n      <td>1</td>\n      <td>12</td>\n      <td>0</td>\n      <td>0</td>\n      <td>0</td>\n    </tr>\n  </tbody>\n</table>\n</div>"
     },
     "metadata": {},
     "output_type": "execute_result",
     "execution_count": 36
    }
   ],
   "source": [
    "pd.get_dummies(tb)"
   ],
   "metadata": {
    "collapsed": false,
    "pycharm": {
     "name": "#%%\n",
     "is_executing": false
    }
   }
  },
  {
   "cell_type": "code",
   "execution_count": 37,
   "outputs": [
    {
     "data": {
      "text/plain": "    B   C   D  A_  A_2  A_20  A_nan\n0  21  12  13   0    0     1      0\n1   4   1  12   0    1     0      0\n2  21  12  13   0    0     1      0\n3   4   1  12   1    0     0      0\n4   4   1  12   0    0     0      1",
      "text/html": "<div>\n<style scoped>\n    .dataframe tbody tr th:only-of-type {\n        vertical-align: middle;\n    }\n\n    .dataframe tbody tr th {\n        vertical-align: top;\n    }\n\n    .dataframe thead th {\n        text-align: right;\n    }\n</style>\n<table border=\"1\" class=\"dataframe\">\n  <thead>\n    <tr style=\"text-align: right;\">\n      <th></th>\n      <th>B</th>\n      <th>C</th>\n      <th>D</th>\n      <th>A_</th>\n      <th>A_2</th>\n      <th>A_20</th>\n      <th>A_nan</th>\n    </tr>\n  </thead>\n  <tbody>\n    <tr>\n      <th>0</th>\n      <td>21</td>\n      <td>12</td>\n      <td>13</td>\n      <td>0</td>\n      <td>0</td>\n      <td>1</td>\n      <td>0</td>\n    </tr>\n    <tr>\n      <th>1</th>\n      <td>4</td>\n      <td>1</td>\n      <td>12</td>\n      <td>0</td>\n      <td>1</td>\n      <td>0</td>\n      <td>0</td>\n    </tr>\n    <tr>\n      <th>2</th>\n      <td>21</td>\n      <td>12</td>\n      <td>13</td>\n      <td>0</td>\n      <td>0</td>\n      <td>1</td>\n      <td>0</td>\n    </tr>\n    <tr>\n      <th>3</th>\n      <td>4</td>\n      <td>1</td>\n      <td>12</td>\n      <td>1</td>\n      <td>0</td>\n      <td>0</td>\n      <td>0</td>\n    </tr>\n    <tr>\n      <th>4</th>\n      <td>4</td>\n      <td>1</td>\n      <td>12</td>\n      <td>0</td>\n      <td>0</td>\n      <td>0</td>\n      <td>1</td>\n    </tr>\n  </tbody>\n</table>\n</div>"
     },
     "metadata": {},
     "output_type": "execute_result",
     "execution_count": 37
    }
   ],
   "source": [
    "pd.get_dummies(tb, dummy_na=True)"
   ],
   "metadata": {
    "collapsed": false,
    "pycharm": {
     "name": "#%%\n",
     "is_executing": false
    }
   }
  },
  {
   "cell_type": "markdown",
   "source": [
    "(9) Series*/\n",
    "\n",
    "TEST 2017年5月23日08:10:09"
   ],
   "metadata": {
    "collapsed": false,
    "pycharm": {
     "name": "#%% md\n"
    }
   }
  },
  {
   "cell_type": "code",
   "execution_count": 38,
   "outputs": [
    {
     "data": {
      "text/plain": "    B   C   D  A_  A_2  A_20\n0  21  12  13   0    0     1\n1   4   1  12   0    1     0\n2  21  12  13   0    0     1\n3   4   1  12   1    0     0\n4   4   1  12   0    0     0",
      "text/html": "<div>\n<style scoped>\n    .dataframe tbody tr th:only-of-type {\n        vertical-align: middle;\n    }\n\n    .dataframe tbody tr th {\n        vertical-align: top;\n    }\n\n    .dataframe thead th {\n        text-align: right;\n    }\n</style>\n<table border=\"1\" class=\"dataframe\">\n  <thead>\n    <tr style=\"text-align: right;\">\n      <th></th>\n      <th>B</th>\n      <th>C</th>\n      <th>D</th>\n      <th>A_</th>\n      <th>A_2</th>\n      <th>A_20</th>\n    </tr>\n  </thead>\n  <tbody>\n    <tr>\n      <th>0</th>\n      <td>21</td>\n      <td>12</td>\n      <td>13</td>\n      <td>0</td>\n      <td>0</td>\n      <td>1</td>\n    </tr>\n    <tr>\n      <th>1</th>\n      <td>4</td>\n      <td>1</td>\n      <td>12</td>\n      <td>0</td>\n      <td>1</td>\n      <td>0</td>\n    </tr>\n    <tr>\n      <th>2</th>\n      <td>21</td>\n      <td>12</td>\n      <td>13</td>\n      <td>0</td>\n      <td>0</td>\n      <td>1</td>\n    </tr>\n    <tr>\n      <th>3</th>\n      <td>4</td>\n      <td>1</td>\n      <td>12</td>\n      <td>1</td>\n      <td>0</td>\n      <td>0</td>\n    </tr>\n    <tr>\n      <th>4</th>\n      <td>4</td>\n      <td>1</td>\n      <td>12</td>\n      <td>0</td>\n      <td>0</td>\n      <td>0</td>\n    </tr>\n  </tbody>\n</table>\n</div>"
     },
     "metadata": {},
     "output_type": "execute_result",
     "execution_count": 38
    }
   ],
   "source": [
    "tc = pd.get_dummies(tb)\n",
    "tc"
   ],
   "metadata": {
    "collapsed": false,
    "pycharm": {
     "name": "#%%\n",
     "is_executing": false
    }
   }
  },
  {
   "cell_type": "code",
   "execution_count": 39,
   "outputs": [],
   "source": [
    "tc1 = tc['B'] > 0\n",
    "tc2 = tc[['A_', 'A_2', 'A_20']]"
   ],
   "metadata": {
    "collapsed": false,
    "pycharm": {
     "name": "#%%\n",
     "is_executing": false
    }
   }
  },
  {
   "cell_type": "code",
   "execution_count": 40,
   "outputs": [
    {
     "name": "stdout",
     "text": [
      "0    0\n",
      "1    0\n",
      "2    0\n",
      "3    1\n",
      "4    0\n",
      "Name: B_A_, dtype: uint8\n",
      "0    0\n",
      "1    1\n",
      "2    0\n",
      "3    0\n",
      "4    0\n",
      "Name: B_A_2, dtype: uint8\n",
      "0    1\n",
      "1    0\n",
      "2    1\n",
      "3    0\n",
      "4    0\n",
      "Name: B_A_20, dtype: uint8\n"
     ],
     "output_type": "stream"
    }
   ],
   "source": [
    "for k in tc2:\n",
    "    name_n = str(tc1.name)+'_'+str(tc2[k].name)\n",
    "    print(pd.Series(tc1 * tc2[k], name=name_n))"
   ],
   "metadata": {
    "collapsed": false,
    "pycharm": {
     "name": "#%%\n",
     "is_executing": false
    }
   }
  },
  {
   "cell_type": "markdown",
   "source": [
    "(10) del/ drop/"
   ],
   "metadata": {
    "collapsed": false,
    "pycharm": {
     "name": "#%% md\n"
    }
   }
  },
  {
   "cell_type": "code",
   "execution_count": 41,
   "outputs": [
    {
     "data": {
      "text/plain": "   1  2  3  4  5\n0  1  1  1  1  1\n1  3  1  3  3  3\n2  4  4  1  4  4\n3  5  5  5  1  5\n4  6  6  6  6  1",
      "text/html": "<div>\n<style scoped>\n    .dataframe tbody tr th:only-of-type {\n        vertical-align: middle;\n    }\n\n    .dataframe tbody tr th {\n        vertical-align: top;\n    }\n\n    .dataframe thead th {\n        text-align: right;\n    }\n</style>\n<table border=\"1\" class=\"dataframe\">\n  <thead>\n    <tr style=\"text-align: right;\">\n      <th></th>\n      <th>1</th>\n      <th>2</th>\n      <th>3</th>\n      <th>4</th>\n      <th>5</th>\n    </tr>\n  </thead>\n  <tbody>\n    <tr>\n      <th>0</th>\n      <td>1</td>\n      <td>1</td>\n      <td>1</td>\n      <td>1</td>\n      <td>1</td>\n    </tr>\n    <tr>\n      <th>1</th>\n      <td>3</td>\n      <td>1</td>\n      <td>3</td>\n      <td>3</td>\n      <td>3</td>\n    </tr>\n    <tr>\n      <th>2</th>\n      <td>4</td>\n      <td>4</td>\n      <td>1</td>\n      <td>4</td>\n      <td>4</td>\n    </tr>\n    <tr>\n      <th>3</th>\n      <td>5</td>\n      <td>5</td>\n      <td>5</td>\n      <td>1</td>\n      <td>5</td>\n    </tr>\n    <tr>\n      <th>4</th>\n      <td>6</td>\n      <td>6</td>\n      <td>6</td>\n      <td>6</td>\n      <td>1</td>\n    </tr>\n  </tbody>\n</table>\n</div>"
     },
     "metadata": {},
     "output_type": "execute_result",
     "execution_count": 41
    }
   ],
   "source": [
    "td = pd.DataFrame(\n",
    "    {\n",
    "        1: [1, 3, 4, 5, 6],\n",
    "        2: [1, 1, 4, 5, 6],\n",
    "        3: [1, 3, 1, 5, 6],\n",
    "        4: [1, 3, 4, 1, 6],\n",
    "        5: [1, 3, 4, 5, 1]\n",
    "     }\n",
    ")\n",
    "td"
   ],
   "metadata": {
    "collapsed": false,
    "pycharm": {
     "name": "#%%\n",
     "is_executing": false
    }
   }
  },
  {
   "cell_type": "code",
   "execution_count": 42,
   "outputs": [
    {
     "data": {
      "text/plain": "   3  4  5\n0  1  1  1\n1  3  3  3\n2  1  4  4\n3  5  1  5\n4  6  6  1",
      "text/html": "<div>\n<style scoped>\n    .dataframe tbody tr th:only-of-type {\n        vertical-align: middle;\n    }\n\n    .dataframe tbody tr th {\n        vertical-align: top;\n    }\n\n    .dataframe thead th {\n        text-align: right;\n    }\n</style>\n<table border=\"1\" class=\"dataframe\">\n  <thead>\n    <tr style=\"text-align: right;\">\n      <th></th>\n      <th>3</th>\n      <th>4</th>\n      <th>5</th>\n    </tr>\n  </thead>\n  <tbody>\n    <tr>\n      <th>0</th>\n      <td>1</td>\n      <td>1</td>\n      <td>1</td>\n    </tr>\n    <tr>\n      <th>1</th>\n      <td>3</td>\n      <td>3</td>\n      <td>3</td>\n    </tr>\n    <tr>\n      <th>2</th>\n      <td>1</td>\n      <td>4</td>\n      <td>4</td>\n    </tr>\n    <tr>\n      <th>3</th>\n      <td>5</td>\n      <td>1</td>\n      <td>5</td>\n    </tr>\n    <tr>\n      <th>4</th>\n      <td>6</td>\n      <td>6</td>\n      <td>1</td>\n    </tr>\n  </tbody>\n</table>\n</div>"
     },
     "metadata": {},
     "output_type": "execute_result",
     "execution_count": 42
    }
   ],
   "source": [
    "# del td[1, 2]\n",
    "# td\n",
    "\n",
    "td = td.drop([1, 2], axis=1)\n",
    "td"
   ],
   "metadata": {
    "collapsed": false,
    "pycharm": {
     "name": "#%%\n",
     "is_executing": false
    }
   }
  },
  {
   "cell_type": "markdown",
   "source": [
    "(11) code/\n",
    "\n",
    "```\n",
    "import numpy as np\n",
    "\n",
    "def generate_clustered_data(seed=0, n_clusters=3, n_features=2,\n",
    "                            n_samples_per_cluster=20, std=.4):\n",
    "    prng = np.random.RandomState(seed)\n",
    "\n",
    "    # the data is voluntary shifted away from zero to check clustering\n",
    "    # algorithm robustness with regards to non centered data\n",
    "    means = np.array([[1, 1, 1, 0],\n",
    "                      [-1, -1, 0, 1],\n",
    "                      [1, -1, 1, 1],\n",
    "                      [-1, 1, 1, 0],\n",
    "                     ]) + 10\n",
    "    print(means)\n",
    "\n",
    "    X = np.empty((0, n_features))\n",
    "    print(X)\n",
    "\n",
    "    for i in range(n_clusters):\n",
    "        X = np.r_[X, means[i][:n_features]\n",
    "                  + std * prng.randn(n_samples_per_cluster, n_features)]\n",
    "        print(X)\n",
    "    return X\n",
    "generate_clustered_data()\n",
    "```\n",
    "\n",
    "```\n",
    "import numpy as np\n",
    "\n",
    "from sklearn.utils.testing import assert_equal\n",
    "from sklearn.utils.testing import assert_array_equal\n",
    "from sklearn.utils.testing import assert_raises\n",
    "\n",
    "from sklearn.cluster.affinity_propagation_ import AffinityPropagation\n",
    "from sklearn.cluster.affinity_propagation_ import affinity_propagation\n",
    "from sklearn.datasets.samples_generator import make_blobs\n",
    "from sklearn.metrics import euclidean_distances\n",
    "\n",
    "n_clusters = 3\n",
    "centers = np.array([[1, 1], [-1, -1], [1, -1]]) + 10\n",
    "print(centers)\n",
    "\n",
    "X, _ = make_blobs(n_samples=60, n_features=2, centers=centers,\n",
    "                  cluster_std=0.4, shuffle=True, random_state=0)\n",
    "# print(X)\n",
    "\n",
    "\n",
    "def test_affinity_propagation():\n",
    "    # Affinity Propagation algorithm\n",
    "    # Compute similarities\n",
    "    S = -euclidean_distances(X, squared=True)\n",
    "    print(S)\n",
    "\n",
    "    preference = np.median(S) * 10\n",
    "    print(preference)\n",
    "\n",
    "    cluster_centers_indices, labels = affinity_propagation(\n",
    "        S, preference=preference)\n",
    "    print(cluster_centers_indices, labels)\n",
    "\n",
    "    n_clusters_ = len(cluster_centers_indices)\n",
    "\n",
    "    assert_equal(n_clusters, n_clusters_)\n",
    "\n",
    "    af = AffinityPropagation(preference=preference, affinity=\"precomputed\")\n",
    "    labels_precomputed = af.fit(S).labels_\n",
    "    print(labels_precomputed)\n",
    "\n",
    "    af = AffinityPropagation(preference=preference, verbose=True)\n",
    "    labels = af.fit(X).labels_\n",
    "    print(labels)\n",
    "\n",
    "    assert_array_equal(labels, labels_precomputed)\n",
    "\n",
    "    cluster_centers_indices = af.cluster_centers_indices_\n",
    "    print(cluster_centers_indices)\n",
    "\n",
    "    n_clusters_ = len(cluster_centers_indices)\n",
    "    assert_equal(np.unique(labels).size, n_clusters_)\n",
    "    assert_equal(n_clusters, n_clusters_)\n",
    "\n",
    "    # Test also with no copy\n",
    "    _, labels_no_copy = affinity_propagation(S, preference=preference,\n",
    "                                             copy=False)\n",
    "    assert_array_equal(labels, labels_no_copy)\n",
    "\n",
    "    # Test input validation\n",
    "    assert_raises(ValueError, affinity_propagation, S[:, :-1])\n",
    "    assert_raises(ValueError, affinity_propagation, S, damping=0)\n",
    "    af = AffinityPropagation(affinity=\"unknown\")\n",
    "    assert_raises(ValueError, af.fit, X)\n",
    "test_affinity_propagation()\n",
    "\n",
    "\n",
    "def test_affinity_propagation_predict():\n",
    "    # Test AffinityPropagation.predict\n",
    "    af = AffinityPropagation(affinity=\"euclidean\")\n",
    "    labels = af.fit_predict(X)\n",
    "    labels2 = af.predict(X)\n",
    "    assert_array_equal(labels, labels2)\n",
    "\n",
    "\n",
    "def test_affinity_propagation_predict_error():\n",
    "    # Test exception in AffinityPropagation.predict\n",
    "    # Not fitted.\n",
    "    af = AffinityPropagation(affinity=\"euclidean\")\n",
    "    assert_raises(ValueError, af.predict, X)\n",
    "\n",
    "    # Predict not supported when affinity=\"precomputed\".\n",
    "    S = np.dot(X, X.T)\n",
    "    af = AffinityPropagation(affinity=\"precomputed\")\n",
    "    af.fit(S)\n",
    "    assert_raises(ValueError, af.predict, X)\n",
    "```"
   ],
   "metadata": {
    "collapsed": false,
    "pycharm": {
     "name": "#%% md\n"
    }
   }
  },
  {
   "cell_type": "markdown",
   "source": [
    "(12) ks/ \n",
    "\n",
    "TODO:"
   ],
   "metadata": {
    "collapsed": false,
    "pycharm": {
     "name": "#%% md\n"
    }
   }
  },
  {
   "cell_type": "code",
   "execution_count": 43,
   "outputs": [],
   "source": [
    "from scipy.stats import ks_2samp\n",
    "ta=[0, 0, 0, 0, 0, 0, 0, 0, 2, 0, 0, 0, 0, 0, 0, 0, 0, 0, 2, 0, 0, 0, 2, 0, 0, 0, 1, 0, 0, 2, 0, 0, 0, 0, 0, 0, 2, 0,\n",
    "      0, 0, 0, 0, 0, 2, 0, 1, 2, 0, 0, 0, 0, 0, 0, 0, 0, 0, 0, 0, 0, 0, 0, 0, 0, 0, 1, 0]\n",
    "a0=[0, 0, 0, 0, 0, 0, 0, 0, 0, 0, 0, 0, 0, 0, 0, 0, 0, 0, 1, 0, 0, 0, 0, 0, 0, 0, 0, 1, 0, 0, 0, 0, 0, 0, 0, 0, 0, 0,\n",
    "      0, 0, 1, 0, 0, 0, 0, 1, 0, 0, 0, 0, 0, 0, 1, 0, 0, 0, 0, 0, 0, 0, 0, 0, 1, 0, 1, 0]\n",
    "a1=[2, 0, 2, 2, 2, 0, 0, 0, 0, 2, 0, 0, 0, 0, 0, 0, 0, 2, 1, 0, 1, 2, 0, 0, 0, 0, 1, 0, 0, 2, 0, 0, 0, 2, 0, 2, 0, 0,\n",
    "      0, 0, 0, 0, 2, 2, 0, 1, 0, 0, 0, 0, 2, 0, 1, 0, 0, 2, 0, 0, 0, 0, 0, 2, 0, 0, 1, 0]\n",
    "a2=[0, 0, 0, 0, 0, 0, 0, 0, 0, 0, 0, 0, 0, 0, 0, 0, 0, 0, 0, 0, 1, 0, 0, 0, 0, 0, 1, 0, 1, 0, 0, 0, 0, 0, 0, 0, 0, 0,\n",
    "      0, 0, 0, 0, 0, 0, 0, 1, 0, 0, 0, 0, 0, 0, 0, 0, 0, 0, 0, 0, 0, 0, 0, 0, 0, 0, 1, 0]\n",
    "a3=[0, 0, 0, 0, 0, 0, 0, 0, 0, 0, 0, 0, 0, 0, 0, 0, 0, 0, 0, 0, 0, 0, 0, 0, 0, 0, 0, 0, 0, 0, 0, 0, 0, 0, 0, 0, 0, 0,\n",
    "      0, 0, 0, 0, 0, 0, 0, 0, 0, 0, 0, 0, 0, 0, 0, 0, 0, 0, 0, 0, 0, 0, 0, 0, 0, 0, 0, 0]\n",
    "a4=[0, 2, 0, 0, 0, 0, 0, 0, 2, 0, 0, 0, 0, 2, 0, 0, 0, 1, 1, 0, 1, 0, 0, 0, 0, 0, 0, 2, 0, 0, 0, 0, 0, 2, 0, 0, 0, 0,\n",
    "      0, 0, 0, 0, 0, 0, 0, 1, 0, 0, 0, 0, 0, 0, 0, 0, 0, 0, 0, 0, 0, 0, 0, 0, 0, 0, 1, 0]\n",
    "a5=[0, 2, 0, 0, 0, 0, 0, 0, 2, 0, 0, 0, 0, 2, 0, 0, 0, 1, 1, 0, 1, 0, 0, 0, 0, 0, 0, 2, 0, 0, 0, 0, 0, 2, 0, 0, 0, 0,\n",
    "      0, 0, 0, 0, 0, 0, 0, 1, 0, 0, 0, 0, 0, 0, 0, 0, 0, 0, 0, 0, 0, 0, 0, 0, 0, 0, 1, 0]\n",
    "a6=[0, 0, 0, 0, 0, 0, 0, 0, 0, 2, 0, 0, 0, 0, 0, 0, 0, 0, 1, 0, 1, 0, 0, 0, 0, 0, 1, 0, 0, 0, 0, 0, 0, 0, 0, 0, 0, 0,\n",
    "      0, 0, 0, 0, 0, 2, 0, 1, 0, 0, 0, 0, 0, 0, 1, 0, 0, 0, 0, 0, 0, 0, 0, 0, 0, 0, 1, 0]\n",
    "\n",
    "ta = pd.Series(ta)\n",
    "a0 = pd.Series(a0)\n",
    "a1 = pd.Series(a1)\n",
    "a2 = pd.Series(a2)\n",
    "a3 = pd.Series(a3)\n",
    "a4 = pd.Series(a4)\n",
    "a5 = pd.Series(a5)\n",
    "a6 = pd.Series(a6)\n",
    "\n",
    "get_ks = lambda y1, y2: ks_2samp(y1[y2 == y1], y1[y2 != y1]).statistic"
   ],
   "metadata": {
    "collapsed": false,
    "pycharm": {
     "name": "#%%\n",
     "is_executing": false
    }
   }
  },
  {
   "cell_type": "code",
   "execution_count": 44,
   "outputs": [
    {
     "name": "stdout",
     "text": [
      "a0 0.6296296296296295\n",
      "a1 0.2065217391304348\n",
      "a2 0.7777777777777778\n",
      "a3 1.0\n",
      "a4 0.4818577648766328\n",
      "a5 0.4818577648766328\n",
      "a6 0.6491228070175439\n"
     ],
     "output_type": "stream"
    }
   ],
   "source": [
    "print('a0', get_ks(ta, a0))\n",
    "print('a1', get_ks(ta, a1))\n",
    "print('a2', get_ks(ta, a2))\n",
    "print('a3', get_ks(ta, a3))\n",
    "print('a4', get_ks(ta, a4))\n",
    "print('a5', get_ks(ta, a5))\n",
    "print('a6', get_ks(ta, a6))"
   ],
   "metadata": {
    "collapsed": false,
    "pycharm": {
     "name": "#%%\n",
     "is_executing": false
    }
   }
  }
 ],
 "metadata": {
  "kernelspec": {
   "display_name": "Python 3",
   "language": "python",
   "name": "python3"
  },
  "language_info": {
   "codemirror_mode": {
    "name": "ipython",
    "version": 2
   },
   "file_extension": ".py",
   "mimetype": "text/x-python",
   "name": "python",
   "nbconvert_exporter": "python",
   "pygments_lexer": "ipython2",
   "version": "2.7.6"
  },
  "pycharm": {
   "stem_cell": {
    "cell_type": "raw",
    "source": [],
    "metadata": {
     "collapsed": false
    }
   }
  }
 },
 "nbformat": 4,
 "nbformat_minor": 0
}