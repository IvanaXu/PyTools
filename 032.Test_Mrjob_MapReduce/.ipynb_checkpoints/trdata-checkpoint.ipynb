{
 "cells": [
  {
   "cell_type": "code",
   "execution_count": 46,
   "metadata": {},
   "outputs": [],
   "source": [
    "import random\n",
    "p = {\n",
    "    0: \"XXX \",\n",
    "    1: \"YYY \",\n",
    "    2: \"ZZZ \\n\",\n",
    "    3: \"PAN \",\n",
    "    4: \"ZIP \",\n",
    "    5: \"QQQ \",\n",
    "}\n",
    "with open(\"r1_list\", \"w\") as f:\n",
    "    for i in range(1000):\n",
    "        f.write(p[random.randint(0, 5)])"
   ]
  },
  {
   "cell_type": "code",
   "execution_count": 47,
   "metadata": {},
   "outputs": [
    {
     "name": "stdout",
     "output_type": "stream",
     "text": [
      "ZZZ \r\n",
      "PAN PAN YYY PAN ZZZ \r\n",
      "XXX YYY PAN ZZZ \r\n",
      "PAN XXX PAN ZIP PAN ZIP YYY ZZZ \r\n",
      "ZZZ \r\n",
      "XXX YYY ZZZ \r\n",
      "PAN ZIP PAN YYY PAN PAN ZIP XXX ZZZ \r\n",
      "PAN ZZZ \r\n",
      "ZIP ZZZ \r\n",
      "XXX ZIP YYY ZIP PAN PAN XXX PAN ZIP PAN XXX XXX "
     ]
    }
   ],
   "source": [
    "! tail -n 10 r1_list"
   ]
  },
  {
   "cell_type": "code",
   "execution_count": 48,
   "metadata": {},
   "outputs": [
    {
     "name": "stdout",
     "output_type": "stream",
     "text": [
      "No configs found; falling back on auto-configuration\n",
      "No configs specified for inline runner\n",
      "Running step 1 of 1...\n",
      "Creating temp directory /tmp/run.root.20191022.034233.069197\n",
      "job output is in out_r1\n",
      "Removing temp directory /tmp/run.root.20191022.034233.069197...\n"
     ]
    }
   ],
   "source": [
    "! py3 run.py r1_list -o out_r1"
   ]
  },
  {
   "cell_type": "code",
   "execution_count": 49,
   "metadata": {},
   "outputs": [
    {
     "name": "stdout",
     "output_type": "stream",
     "text": [
      "\"PAN\"\t224\r\n",
      "\"XXX\"\t190\r\n",
      "\"YYY\"\t194\r\n",
      "\"ZIP\"\t193\r\n",
      "\"ZZZ\"\t199\r\n"
     ]
    }
   ],
   "source": [
    "! cat out_r1/part-0000*"
   ]
  },
  {
   "cell_type": "code",
   "execution_count": null,
   "metadata": {},
   "outputs": [],
   "source": []
  }
 ],
 "metadata": {
  "kernelspec": {
   "display_name": "Python 3",
   "language": "python",
   "name": "python3"
  },
  "language_info": {
   "codemirror_mode": {
    "name": "ipython",
    "version": 3
   },
   "file_extension": ".py",
   "mimetype": "text/x-python",
   "name": "python",
   "nbconvert_exporter": "python",
   "pygments_lexer": "ipython3",
   "version": "3.6.5"
  }
 },
 "nbformat": 4,
 "nbformat_minor": 2
}
