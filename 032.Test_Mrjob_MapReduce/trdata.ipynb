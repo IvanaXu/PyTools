{
 "cells": [
  {
   "cell_type": "code",
   "execution_count": 1,
   "metadata": {},
   "outputs": [],
   "source": [
    "import random\n",
    "p = {\n",
    "    0: \"XXX \",\n",
    "    1: \"YYY \",\n",
    "    2: \"ZZZ \\n\",\n",
    "    3: \"PAN \",\n",
    "    4: \"ZIP \",\n",
    "    5: \"QQQ \",\n",
    "}\n",
    "n = 1000000\n",
    "with open(\"r1_list\", \"w\") as f:\n",
    "    for i in range(n):\n",
    "        f.write(p[random.randint(0, 5)])\n"
   ]
  },
  {
   "cell_type": "code",
   "execution_count": 2,
   "metadata": {},
   "outputs": [
    {
     "name": "stdout",
     "output_type": "stream",
     "text": [
      "PAN ZZZ \r\n",
      "QQQ YYY XXX QQQ QQQ ZZZ \r\n",
      "YYY XXX ZIP PAN PAN XXX XXX YYY ZZZ \r\n",
      "YYY QQQ PAN XXX ZZZ \r\n",
      "YYY ZZZ \r\n",
      "XXX QQQ QQQ ZZZ \r\n",
      "XXX PAN YYY QQQ ZZZ \r\n",
      "PAN PAN YYY ZZZ \r\n",
      "ZIP XXX PAN ZZZ \r\n",
      "ZIP YYY QQQ YYY ZIP PAN QQQ ZIP ZIP QQQ PAN XXX PAN PAN YYY XXX PAN XXX QQQ PAN QQQ "
     ]
    }
   ],
   "source": [
    "! tail -n 10 r1_list"
   ]
  },
  {
   "cell_type": "code",
   "execution_count": 3,
   "metadata": {},
   "outputs": [
    {
     "name": "stdout",
     "output_type": "stream",
     "text": [
      "No configs found; falling back on auto-configuration\n",
      "No configs specified for inline runner\n",
      "Running step 1 of 1...\n",
      "Creating temp directory /tmp/run.root.20191022.035100.093909\n",
      "job output is in out_r1\n",
      "Removing temp directory /tmp/run.root.20191022.035100.093909...\n"
     ]
    }
   ],
   "source": [
    "! py3 run.py r1_list -o out_r1"
   ]
  },
  {
   "cell_type": "code",
   "execution_count": 4,
   "metadata": {},
   "outputs": [
    {
     "name": "stdout",
     "output_type": "stream",
     "text": [
      "\"PAN\"\t166990\r\n",
      "\"QQQ\"\t166897\r\n",
      "\"XXX\"\t166374\r\n",
      "\"YYY\"\t166436\r\n",
      "\"ZIP\"\t166476\r\n",
      "\"ZZZ\"\t166827\r\n"
     ]
    }
   ],
   "source": [
    "! cat out_r1/part-0000*"
   ]
  },
  {
   "cell_type": "code",
   "execution_count": null,
   "metadata": {},
   "outputs": [],
   "source": []
  }
 ],
 "metadata": {
  "kernelspec": {
   "display_name": "Python 3",
   "language": "python",
   "name": "python3"
  },
  "language_info": {
   "codemirror_mode": {
    "name": "ipython",
    "version": 3
   },
   "file_extension": ".py",
   "mimetype": "text/x-python",
   "name": "python",
   "nbconvert_exporter": "python",
   "pygments_lexer": "ipython3",
   "version": "3.6.5"
  }
 },
 "nbformat": 4,
 "nbformat_minor": 2
}
