{
 "cells": [
  {
   "cell_type": "code",
   "execution_count": 1,
   "metadata": {},
   "outputs": [],
   "source": [
    "import easydbio\n",
    "\n",
    "db = easydbio.DB({\n",
    "    \"database\": \"d6e09f6a-8e4e-4de9-938c-baf79f953399\",\n",
    "    \"token\": \"0cb4c6d7-def4-4187-a56a-27f82e2e2e9f\"\n",
    "})\n"
   ]
  },
  {
   "cell_type": "code",
   "execution_count": 2,
   "metadata": {},
   "outputs": [
    {
     "name": "stdout",
     "output_type": "stream",
     "text": [
      "CPU times: user 17.3 ms, sys: 6.37 ms, total: 23.6 ms\n",
      "Wall time: 2.57 s\n"
     ]
    }
   ],
   "source": [
    "%time db.Put(\"key\", \"8\")"
   ]
  },
  {
   "cell_type": "code",
   "execution_count": 3,
   "metadata": {},
   "outputs": [
    {
     "name": "stdout",
     "output_type": "stream",
     "text": [
      "8\n",
      "CPU times: user 14.2 ms, sys: 2.53 ms, total: 16.7 ms\n",
      "Wall time: 2.15 s\n"
     ]
    }
   ],
   "source": [
    "%time print(db.Get(\"key\"))"
   ]
  },
  {
   "cell_type": "code",
   "execution_count": 4,
   "metadata": {},
   "outputs": [
    {
     "name": "stdout",
     "output_type": "stream",
     "text": [
      "{'key': '8'}\n",
      "CPU times: user 15.1 ms, sys: 2.36 ms, total: 17.4 ms\n",
      "Wall time: 3.06 s\n"
     ]
    }
   ],
   "source": [
    "%time print(db.List())"
   ]
  },
  {
   "cell_type": "code",
   "execution_count": null,
   "metadata": {},
   "outputs": [],
   "source": []
  }
 ],
 "metadata": {
  "kernelspec": {
   "display_name": "Python 3",
   "language": "python",
   "name": "python3"
  },
  "language_info": {
   "codemirror_mode": {
    "name": "ipython",
    "version": 3
   },
   "file_extension": ".py",
   "mimetype": "text/x-python",
   "name": "python",
   "nbconvert_exporter": "python",
   "pygments_lexer": "ipython3",
   "version": "3.7.0"
  }
 },
 "nbformat": 4,
 "nbformat_minor": 2
}
