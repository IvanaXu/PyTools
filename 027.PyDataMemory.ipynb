{
 "cells": [
  {
   "cell_type": "markdown",
   "metadata": {
    "collapsed": true,
    "pycharm": {
     "name": "#%% md\n"
    }
   },
   "source": [
    "```\n",
    "(1) Dict;\n",
    "(2) List;\n",
    "(3) Tuple;\n",
    "(4) Numpy;\n",
    "(5) Pandas;\n",
    "```"
   ]
  },
  {
   "cell_type": "code",
   "execution_count": 1,
   "outputs": [],
   "source": [
    "import sys\n",
    "import numpy as np\n",
    "import pandas as pd\n",
    "n_list = [\n",
    "    int(1e1),\n",
    "    int(1e3),\n",
    "    int(1e6),\n",
    "]"
   ],
   "metadata": {
    "collapsed": false,
    "pycharm": {
     "name": "#%%\n",
     "is_executing": false
    }
   }
  },
  {
   "cell_type": "code",
   "execution_count": 2,
   "outputs": [
    {
     "name": "stdout",
     "text": [
      "10 To 368 byte\n",
      "10 To 192 byte\n",
      "10 To 128 byte\n",
      "10 To 176 byte\n",
      "10 To 184 byte\n",
      "1000 To 36968 byte\n",
      "1000 To 9024 byte\n",
      "1000 To 8048 byte\n",
      "1000 To 8096 byte\n",
      "1000 To 8104 byte\n",
      "1000000 To 41943144 byte\n",
      "1000000 To 8697464 byte\n",
      "1000000 To 8000048 byte\n",
      "1000000 To 8000096 byte\n",
      "1000000 To 8000104 byte\n"
     ],
     "output_type": "stream"
    }
   ],
   "source": [
    "for n in n_list:\n",
    "    try:\n",
    "        # Dict\n",
    "        ob = {}\n",
    "        for i in range(n):\n",
    "            ob[str(i)] = i\n",
    "        \n",
    "        print(\"%d To %d byte\" % (n, sys.getsizeof(ob)))\n",
    "        del ob\n",
    "    except Exception as e:\n",
    "        print(e)\n",
    "    \n",
    "    \n",
    "    try:\n",
    "        # List\n",
    "        ob = []\n",
    "        for i in range(n):\n",
    "            ob.append(i)\n",
    "        \n",
    "        print(\"%d To %d byte\" % (n, sys.getsizeof(ob)))\n",
    "        del ob\n",
    "    except Exception as e:\n",
    "        print(e)\n",
    "    \n",
    "    \n",
    "    try:\n",
    "        # Tuple\n",
    "        ob = []\n",
    "        for i in range(n):\n",
    "            ob.append(i)\n",
    "        ob = tuple(ob)\n",
    "        \n",
    "        print(\"%d To %d byte\" % (n, sys.getsizeof(ob)))\n",
    "        del ob\n",
    "    except Exception as e:\n",
    "        print(e)\n",
    "    \n",
    "    \n",
    "    try:\n",
    "        # Numpy\n",
    "        ob = []\n",
    "        for i in range(n):\n",
    "            ob.append(i)\n",
    "        ob = np.array(ob)\n",
    "        \n",
    "        print(\"%d To %d byte\" % (n, sys.getsizeof(ob)))\n",
    "        del ob\n",
    "    except Exception as e:\n",
    "        print(e)\n",
    "    \n",
    "    \n",
    "    try:\n",
    "        # Pandas\n",
    "        ob = []\n",
    "        for i in range(n):\n",
    "            ob.append(i)\n",
    "        ob = pd.DataFrame(ob)\n",
    "        \n",
    "        print(\"%d To %d byte\" % (n, sys.getsizeof(ob)))\n",
    "        del ob\n",
    "    except Exception as e:\n",
    "        print(e)\n"
   ],
   "metadata": {
    "collapsed": false,
    "pycharm": {
     "name": "#%%\n",
     "is_executing": false
    }
   }
  }
 ],
 "metadata": {
  "kernelspec": {
   "display_name": "Python 3",
   "language": "python",
   "name": "python3"
  },
  "language_info": {
   "codemirror_mode": {
    "name": "ipython",
    "version": 2
   },
   "file_extension": ".py",
   "mimetype": "text/x-python",
   "name": "python",
   "nbconvert_exporter": "python",
   "pygments_lexer": "ipython2",
   "version": "2.7.6"
  },
  "pycharm": {
   "stem_cell": {
    "cell_type": "raw",
    "source": [],
    "metadata": {
     "collapsed": false
    }
   }
  }
 },
 "nbformat": 4,
 "nbformat_minor": 0
}