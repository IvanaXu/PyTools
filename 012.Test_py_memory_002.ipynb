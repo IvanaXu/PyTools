{
 "cells": [
  {
   "cell_type": "code",
   "execution_count": 1,
   "metadata": {},
   "outputs": [
    {
     "data": {
      "text/plain": [
       "'\\npip install memory_profiler\\npip install psutil\\n'"
      ]
     },
     "execution_count": 1,
     "metadata": {},
     "output_type": "execute_result"
    }
   ],
   "source": [
    "\"\"\"\n",
    "pip install memory_profiler\n",
    "pip install psutil\n",
    "\"\"\""
   ]
  },
  {
   "cell_type": "code",
   "execution_count": 2,
   "metadata": {},
   "outputs": [
    {
     "name": "stdout",
     "output_type": "stream",
     "text": [
      "import sys\r\n",
      "n = int(sys.argv[1])\r\n",
      "\r\n",
      "@profile\r\n",
      "def r():\r\n",
      "  import pandas as pd\r\n",
      "  import numpy as np\r\n",
      "  import time\r\n",
      "  N = n\r\n",
      "  data = pd.DataFrame(np.random.uniform(1,9,(N, 38)))\r\n",
      "  data[data[12] > 5]\r\n",
      "  time.sleep(2)\r\n",
      "\r\n",
      "r()"
     ]
    }
   ],
   "source": [
    "! cat 012.Test_py_memory_001.py"
   ]
  },
  {
   "cell_type": "code",
   "execution_count": 3,
   "metadata": {},
   "outputs": [
    {
     "name": "stdout",
     "output_type": "stream",
     "text": [
      "Filename: 012.Test_py_memory_001.py\r\n",
      "\r\n",
      "Line #    Mem usage    Increment   Line Contents\r\n",
      "================================================\r\n",
      "     4   28.727 MiB   28.727 MiB   @profile\r\n",
      "     5                             def r():\r\n",
      "     6   69.566 MiB   40.840 MiB     import pandas as pd\r\n",
      "     7   69.566 MiB    0.000 MiB     import numpy as np\r\n",
      "     8   69.566 MiB    0.000 MiB     import time\r\n",
      "     9   69.566 MiB    0.000 MiB     N = n\r\n",
      "    10   69.566 MiB    0.000 MiB     data = pd.DataFrame(np.random.uniform(1,9,(N, 38)))\r\n",
      "    11   69.805 MiB    0.238 MiB     data[data[12] > 5]\r\n",
      "    12   69.805 MiB    0.000 MiB     time.sleep(2)\r\n",
      "\r\n",
      "\r\n"
     ]
    }
   ],
   "source": [
    "! py3 -m memory_profiler 012.Test_py_memory_001.py 10"
   ]
  },
  {
   "cell_type": "code",
   "execution_count": 4,
   "metadata": {},
   "outputs": [
    {
     "name": "stdout",
     "output_type": "stream",
     "text": [
      "Filename: 012.Test_py_memory_001.py\r\n",
      "\r\n",
      "Line #    Mem usage    Increment   Line Contents\r\n",
      "================================================\r\n",
      "     4   28.730 MiB   28.730 MiB   @profile\r\n",
      "     5                             def r():\r\n",
      "     6   69.570 MiB   40.840 MiB     import pandas as pd\r\n",
      "     7   69.570 MiB    0.000 MiB     import numpy as np\r\n",
      "     8   69.570 MiB    0.000 MiB     import time\r\n",
      "     9   69.570 MiB    0.000 MiB     N = n\r\n",
      "    10   69.570 MiB    0.000 MiB     data = pd.DataFrame(np.random.uniform(1,9,(N, 38)))\r\n",
      "    11   69.809 MiB    0.238 MiB     data[data[12] > 5]\r\n",
      "    12   69.809 MiB    0.000 MiB     time.sleep(2)\r\n",
      "\r\n",
      "\r\n"
     ]
    }
   ],
   "source": [
    "! py3 -m memory_profiler 012.Test_py_memory_001.py 100"
   ]
  },
  {
   "cell_type": "code",
   "execution_count": 5,
   "metadata": {},
   "outputs": [
    {
     "name": "stdout",
     "output_type": "stream",
     "text": [
      "Filename: 012.Test_py_memory_001.py\r\n",
      "\r\n",
      "Line #    Mem usage    Increment   Line Contents\r\n",
      "================================================\r\n",
      "     4   28.730 MiB   28.730 MiB   @profile\r\n",
      "     5                             def r():\r\n",
      "     6   69.574 MiB   40.844 MiB     import pandas as pd\r\n",
      "     7   69.574 MiB    0.000 MiB     import numpy as np\r\n",
      "     8   69.574 MiB    0.000 MiB     import time\r\n",
      "     9   69.574 MiB    0.000 MiB     N = n\r\n",
      "    10   69.816 MiB    0.242 MiB     data = pd.DataFrame(np.random.uniform(1,9,(N, 38)))\r\n",
      "    11   70.324 MiB    0.508 MiB     data[data[12] > 5]\r\n",
      "    12   70.324 MiB    0.000 MiB     time.sleep(2)\r\n",
      "\r\n",
      "\r\n"
     ]
    }
   ],
   "source": [
    "! py3 -m memory_profiler 012.Test_py_memory_001.py 1000"
   ]
  },
  {
   "cell_type": "code",
   "execution_count": 6,
   "metadata": {},
   "outputs": [
    {
     "name": "stdout",
     "output_type": "stream",
     "text": [
      "Filename: 012.Test_py_memory_001.py\r\n",
      "\r\n",
      "Line #    Mem usage    Increment   Line Contents\r\n",
      "================================================\r\n",
      "     4   28.723 MiB   28.723 MiB   @profile\r\n",
      "     5                             def r():\r\n",
      "     6   69.566 MiB   40.844 MiB     import pandas as pd\r\n",
      "     7   69.566 MiB    0.000 MiB     import numpy as np\r\n",
      "     8   69.566 MiB    0.000 MiB     import time\r\n",
      "     9   69.566 MiB    0.000 MiB     N = n\r\n",
      "    10   72.641 MiB    3.074 MiB     data = pd.DataFrame(np.random.uniform(1,9,(N, 38)))\r\n",
      "    11   72.922 MiB    0.281 MiB     data[data[12] > 5]\r\n",
      "    12   72.922 MiB    0.000 MiB     time.sleep(2)\r\n",
      "\r\n",
      "\r\n"
     ]
    }
   ],
   "source": [
    "! py3 -m memory_profiler 012.Test_py_memory_001.py 10000"
   ]
  },
  {
   "cell_type": "code",
   "execution_count": 7,
   "metadata": {},
   "outputs": [
    {
     "name": "stdout",
     "output_type": "stream",
     "text": [
      "Filename: 012.Test_py_memory_001.py\r\n",
      "\r\n",
      "Line #    Mem usage    Increment   Line Contents\r\n",
      "================================================\r\n",
      "     4   28.727 MiB   28.727 MiB   @profile\r\n",
      "     5                             def r():\r\n",
      "     6   69.574 MiB   40.848 MiB     import pandas as pd\r\n",
      "     7   69.574 MiB    0.000 MiB     import numpy as np\r\n",
      "     8   69.574 MiB    0.000 MiB     import time\r\n",
      "     9   69.574 MiB    0.000 MiB     N = n\r\n",
      "    10   98.691 MiB   29.117 MiB     data = pd.DataFrame(np.random.uniform(1,9,(N, 38)))\r\n",
      "    11  100.473 MiB    1.781 MiB     data[data[12] > 5]\r\n",
      "    12  100.473 MiB    0.000 MiB     time.sleep(2)\r\n",
      "\r\n",
      "\r\n"
     ]
    }
   ],
   "source": [
    "! py3 -m memory_profiler 012.Test_py_memory_001.py 100000"
   ]
  },
  {
   "cell_type": "code",
   "execution_count": 8,
   "metadata": {},
   "outputs": [
    {
     "name": "stdout",
     "output_type": "stream",
     "text": [
      "Filename: 012.Test_py_memory_001.py\r\n",
      "\r\n",
      "Line #    Mem usage    Increment   Line Contents\r\n",
      "================================================\r\n",
      "     4   28.723 MiB   28.723 MiB   @profile\r\n",
      "     5                             def r():\r\n",
      "     6   69.574 MiB   40.852 MiB     import pandas as pd\r\n",
      "     7   69.574 MiB    0.000 MiB     import numpy as np\r\n",
      "     8   69.574 MiB    0.000 MiB     import time\r\n",
      "     9   69.574 MiB    0.000 MiB     N = n\r\n",
      "    10  359.598 MiB  290.023 MiB     data = pd.DataFrame(np.random.uniform(1,9,(N, 38)))\r\n",
      "    11  369.070 MiB    9.473 MiB     data[data[12] > 5]\r\n",
      "    12  369.070 MiB    0.000 MiB     time.sleep(2)\r\n",
      "\r\n",
      "\r\n"
     ]
    }
   ],
   "source": [
    "! py3 -m memory_profiler 012.Test_py_memory_001.py 1000000"
   ]
  }
 ],
 "metadata": {
  "kernelspec": {
   "display_name": "Python 3",
   "language": "python",
   "name": "python3"
  },
  "language_info": {
   "codemirror_mode": {
    "name": "ipython",
    "version": 3
   },
   "file_extension": ".py",
   "mimetype": "text/x-python",
   "name": "python",
   "nbconvert_exporter": "python",
   "pygments_lexer": "ipython3",
   "version": "3.6.5"
  }
 },
 "nbformat": 4,
 "nbformat_minor": 2
}
