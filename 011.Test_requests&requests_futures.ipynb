{
 "cells": [
  {
   "cell_type": "code",
   "execution_count": 1,
   "metadata": {},
   "outputs": [],
   "source": [
    "# http://docs.python-requests.org/zh_CN/latest/"
   ]
  },
  {
   "cell_type": "code",
   "execution_count": 2,
   "metadata": {},
   "outputs": [
    {
     "data": {
      "text/plain": [
       "'\\nBlocking Or Non-Blocking?\\nWith the default Transport Adapter in place, \\nRequests does not provide any kind of non-blocking IO. \\nThe Response.content property will block until the entire response has been downloaded. \\nIf you require more granularity, the streaming features of the library (see Streaming Requests) \\nallow you to retrieve smaller quantities of the response at a time. \\nHowever, these calls will still block.\\nIf you are concerned about the use of blocking IO, \\nthere are lots of projects out there that combine Requests with one of Python’s asynchronicity frameworks. \\nSome excellent examples are requests-threads, grequests, and requests-futures.\\n“”“\\n”“”\\n阻塞和非阻塞\\n使用默认的传输适配器，Requests 不提供任何形式的非阻塞 IO。\\nResponse.content 属性会阻塞，直到整个响应下载完成。\\n如果你需要更多精细控制，该库的数据流功能（见流式请求）允许你每次接受少量的一部分响应，不过这些调用依然是阻塞式的。\\n如果你对于阻塞式 IO 有所顾虑，还有很多项目可以供你使用，它们结合了 Requests 和 Python 的某个异步框架。\\n典型的优秀例子是 grequests 和 requests-futures。\\n'"
      ]
     },
     "execution_count": 2,
     "metadata": {},
     "output_type": "execute_result"
    }
   ],
   "source": [
    "\"\"\"\n",
    "Blocking Or Non-Blocking?\n",
    "With the default Transport Adapter in place, \n",
    "Requests does not provide any kind of non-blocking IO. \n",
    "The Response.content property will block until the entire response has been downloaded. \n",
    "If you require more granularity, the streaming features of the library (see Streaming Requests) \n",
    "allow you to retrieve smaller quantities of the response at a time. \n",
    "However, these calls will still block.\n",
    "If you are concerned about the use of blocking IO, \n",
    "there are lots of projects out there that combine Requests with one of Python’s asynchronicity frameworks. \n",
    "Some excellent examples are requests-threads, grequests, and requests-futures.\n",
    "“”“\n",
    "”“”\n",
    "阻塞和非阻塞\n",
    "使用默认的传输适配器，Requests 不提供任何形式的非阻塞 IO。\n",
    "Response.content 属性会阻塞，直到整个响应下载完成。\n",
    "如果你需要更多精细控制，该库的数据流功能（见流式请求）允许你每次接受少量的一部分响应，不过这些调用依然是阻塞式的。\n",
    "如果你对于阻塞式 IO 有所顾虑，还有很多项目可以供你使用，它们结合了 Requests 和 Python 的某个异步框架。\n",
    "典型的优秀例子是 grequests 和 requests-futures。\n",
    "\"\"\""
   ]
  },
  {
   "cell_type": "code",
   "execution_count": 3,
   "metadata": {},
   "outputs": [],
   "source": [
    "N = 5"
   ]
  },
  {
   "cell_type": "code",
   "execution_count": 4,
   "metadata": {},
   "outputs": [
    {
     "name": "stdout",
     "output_type": "stream",
     "text": [
      "CPU times: user 1.88 ms, sys: 3.17 ms, total: 5.05 ms\n",
      "Wall time: 29.2 ms\n",
      "CPU times: user 2.49 ms, sys: 1.06 ms, total: 3.55 ms\n",
      "Wall time: 34.1 ms\n",
      "CPU times: user 1.96 ms, sys: 798 µs, total: 2.76 ms\n",
      "Wall time: 39.5 ms\n",
      "CPU times: user 2.25 ms, sys: 1 µs, total: 2.25 ms\n",
      "Wall time: 23.7 ms\n",
      "CPU times: user 2.27 ms, sys: 0 ns, total: 2.27 ms\n",
      "Wall time: 25.4 ms\n"
     ]
    }
   ],
   "source": [
    "import requests\n",
    "\n",
    "def f():\n",
    "    sess = requests.session()\n",
    "    p = sess.get('http://www.baidu.com')\n",
    "    sess.close()\n",
    "    \n",
    "for i in range(N):\n",
    "    %time f()\n"
   ]
  },
  {
   "cell_type": "code",
   "execution_count": 5,
   "metadata": {},
   "outputs": [
    {
     "name": "stdout",
     "output_type": "stream",
     "text": [
      "CPU times: user 3.56 ms, sys: 106 µs, total: 3.66 ms\n",
      "Wall time: 36.1 ms\n",
      "CPU times: user 1.72 ms, sys: 997 µs, total: 2.71 ms\n",
      "Wall time: 19.7 ms\n",
      "CPU times: user 2.84 ms, sys: 0 ns, total: 2.84 ms\n",
      "Wall time: 18.9 ms\n",
      "CPU times: user 1.19 ms, sys: 970 µs, total: 2.16 ms\n",
      "Wall time: 20.1 ms\n",
      "CPU times: user 2.27 ms, sys: 53 µs, total: 2.32 ms\n",
      "Wall time: 22.1 ms\n"
     ]
    }
   ],
   "source": [
    "import requests\n",
    "sess = requests.session()\n",
    "for i in range(N):\n",
    "    %time p = sess.get('http://www.baidu.com')\n",
    "\n",
    "sess.close()\n"
   ]
  },
  {
   "cell_type": "code",
   "execution_count": 6,
   "metadata": {},
   "outputs": [
    {
     "name": "stdout",
     "output_type": "stream",
     "text": [
      "CPU times: user 3.24 ms, sys: 243 µs, total: 3.48 ms\n",
      "Wall time: 34.4 ms\n",
      "CPU times: user 2.07 ms, sys: 161 µs, total: 2.23 ms\n",
      "Wall time: 18.4 ms\n",
      "CPU times: user 1.95 ms, sys: 140 µs, total: 2.09 ms\n",
      "Wall time: 18.4 ms\n",
      "CPU times: user 2.3 ms, sys: 0 ns, total: 2.3 ms\n",
      "Wall time: 17.9 ms\n",
      "CPU times: user 2.19 ms, sys: 36 µs, total: 2.23 ms\n",
      "Wall time: 18.1 ms\n"
     ]
    }
   ],
   "source": [
    "import requests\n",
    "import json\n",
    "sess = requests.session()\n",
    "for i in range(N):\n",
    "    %time sess.get('http://www.baidu.com')\n",
    "\n",
    "sess.close()\n"
   ]
  },
  {
   "cell_type": "code",
   "execution_count": 7,
   "metadata": {},
   "outputs": [
    {
     "name": "stdout",
     "output_type": "stream",
     "text": [
      "CPU times: user 112 µs, sys: 20 µs, total: 132 µs\n",
      "Wall time: 138 µs\n",
      "CPU times: user 80 µs, sys: 0 ns, total: 80 µs\n",
      "Wall time: 84.2 µs\n",
      "CPU times: user 65 µs, sys: 0 ns, total: 65 µs\n",
      "Wall time: 69.4 µs\n",
      "CPU times: user 67 µs, sys: 0 ns, total: 67 µs\n",
      "Wall time: 70.3 µs\n",
      "CPU times: user 64 µs, sys: 0 ns, total: 64 µs\n",
      "Wall time: 67.9 µs\n"
     ]
    },
    {
     "name": "stderr",
     "output_type": "stream",
     "text": [
      "/data/soft/py3/lib/python3.6/site-packages/grequests.py:21: MonkeyPatchWarning: Monkey-patching ssl after ssl has already been imported may lead to errors, including RecursionError on Python 3.6. Please monkey-patch earlier. See https://github.com/gevent/gevent/issues/1016\n",
      "  curious_george.patch_all(thread=False, select=False)\n"
     ]
    },
    {
     "data": {
      "text/plain": [
       "[]"
      ]
     },
     "execution_count": 7,
     "metadata": {},
     "output_type": "execute_result"
    }
   ],
   "source": [
    "import grequests\n",
    "tasks = []\n",
    "for i in range(N):\n",
    "    %time grequests.get('http://www.baidu.com')\n",
    "\n",
    "grequests.map(tasks, size=4)\n"
   ]
  },
  {
   "cell_type": "code",
   "execution_count": 8,
   "metadata": {},
   "outputs": [
    {
     "name": "stdout",
     "output_type": "stream",
     "text": [
      "CPU times: user 2.96 ms, sys: 0 ns, total: 2.96 ms\n",
      "Wall time: 2.68 ms\n",
      "CPU times: user 1.78 ms, sys: 0 ns, total: 1.78 ms\n",
      "Wall time: 1.64 ms\n",
      "CPU times: user 35 µs, sys: 0 ns, total: 35 µs\n",
      "Wall time: 39.3 µs\n",
      "CPU times: user 23 µs, sys: 4 µs, total: 27 µs\n",
      "Wall time: 31.5 µs\n",
      "CPU times: user 28 µs, sys: 5 µs, total: 33 µs\n",
      "Wall time: 37 µs\n"
     ]
    }
   ],
   "source": [
    "from requests import session\n",
    "from requests_futures.sessions import FuturesSession\n",
    "my_session = session()\n",
    "sess = FuturesSession(session = my_session)\n",
    "\n",
    "for i in range(N):\n",
    "    %time sess.get('http://www.baidu.com')\n",
    "\n",
    "sess.close()\n"
   ]
  },
  {
   "cell_type": "code",
   "execution_count": null,
   "metadata": {},
   "outputs": [],
   "source": []
  }
 ],
 "metadata": {
  "kernelspec": {
   "display_name": "Python 3",
   "language": "python",
   "name": "python3"
  },
  "language_info": {
   "codemirror_mode": {
    "name": "ipython",
    "version": 3
   },
   "file_extension": ".py",
   "mimetype": "text/x-python",
   "name": "python",
   "nbconvert_exporter": "python",
   "pygments_lexer": "ipython3",
   "version": "3.6.5"
  }
 },
 "nbformat": 4,
 "nbformat_minor": 2
}
