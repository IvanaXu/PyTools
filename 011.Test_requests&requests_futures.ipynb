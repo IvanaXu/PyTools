{
 "cells": [
  {
   "cell_type": "code",
   "execution_count": 1,
   "metadata": {},
   "outputs": [],
   "source": [
    "# http://docs.python-requests.org/zh_CN/latest/"
   ]
  },
  {
   "cell_type": "code",
   "execution_count": 2,
   "metadata": {},
   "outputs": [
    {
     "data": {
      "text/plain": [
       "'\\nBlocking Or Non-Blocking?\\nWith the default Transport Adapter in place, \\nRequests does not provide any kind of non-blocking IO. \\nThe Response.content property will block until the entire response has been downloaded. \\nIf you require more granularity, the streaming features of the library (see Streaming Requests) \\nallow you to retrieve smaller quantities of the response at a time. \\nHowever, these calls will still block.\\nIf you are concerned about the use of blocking IO, \\nthere are lots of projects out there that combine Requests with one of Python’s asynchronicity frameworks. \\nSome excellent examples are requests-threads, grequests, and requests-futures.\\n“”“\\n”“”\\n阻塞和非阻塞\\n使用默认的传输适配器，Requests 不提供任何形式的非阻塞 IO。\\nResponse.content 属性会阻塞，直到整个响应下载完成。\\n如果你需要更多精细控制，该库的数据流功能（见流式请求）允许你每次接受少量的一部分响应，不过这些调用依然是阻塞式的。\\n如果你对于阻塞式 IO 有所顾虑，还有很多项目可以供你使用，它们结合了 Requests 和 Python 的某个异步框架。\\n典型的优秀例子是 grequests 和 requests-futures。\\n'"
      ]
     },
     "execution_count": 2,
     "metadata": {},
     "output_type": "execute_result"
    }
   ],
   "source": [
    "\"\"\"\n",
    "Blocking Or Non-Blocking?\n",
    "With the default Transport Adapter in place, \n",
    "Requests does not provide any kind of non-blocking IO. \n",
    "The Response.content property will block until the entire response has been downloaded. \n",
    "If you require more granularity, the streaming features of the library (see Streaming Requests) \n",
    "allow you to retrieve smaller quantities of the response at a time. \n",
    "However, these calls will still block.\n",
    "If you are concerned about the use of blocking IO, \n",
    "there are lots of projects out there that combine Requests with one of Python’s asynchronicity frameworks. \n",
    "Some excellent examples are requests-threads, grequests, and requests-futures.\n",
    "“”“\n",
    "”“”\n",
    "阻塞和非阻塞\n",
    "使用默认的传输适配器，Requests 不提供任何形式的非阻塞 IO。\n",
    "Response.content 属性会阻塞，直到整个响应下载完成。\n",
    "如果你需要更多精细控制，该库的数据流功能（见流式请求）允许你每次接受少量的一部分响应，不过这些调用依然是阻塞式的。\n",
    "如果你对于阻塞式 IO 有所顾虑，还有很多项目可以供你使用，它们结合了 Requests 和 Python 的某个异步框架。\n",
    "典型的优秀例子是 grequests 和 requests-futures。\n",
    "\"\"\""
   ]
  },
  {
   "cell_type": "code",
   "execution_count": 3,
   "metadata": {},
   "outputs": [],
   "source": [
    "N = 5"
   ]
  },
  {
   "cell_type": "code",
   "execution_count": 4,
   "metadata": {},
   "outputs": [
    {
     "name": "stdout",
     "output_type": "stream",
     "text": [
      "CPU times: user 3.97 ms, sys: 994 µs, total: 4.96 ms\n",
      "Wall time: 25.8 ms\n",
      "CPU times: user 2.3 ms, sys: 847 µs, total: 3.15 ms\n",
      "Wall time: 32.5 ms\n",
      "CPU times: user 2.57 ms, sys: 0 ns, total: 2.57 ms\n",
      "Wall time: 32.8 ms\n",
      "CPU times: user 2.75 ms, sys: 0 ns, total: 2.75 ms\n",
      "Wall time: 29.6 ms\n",
      "CPU times: user 2.65 ms, sys: 0 ns, total: 2.65 ms\n",
      "Wall time: 30.6 ms\n"
     ]
    }
   ],
   "source": [
    "import requests\n",
    "\n",
    "def f():\n",
    "    sess = requests.session()\n",
    "    p = sess.get('http://www.baidu.com')\n",
    "    sess.close()\n",
    "    \n",
    "for i in range(N):\n",
    "    %time f()\n"
   ]
  },
  {
   "cell_type": "code",
   "execution_count": 5,
   "metadata": {},
   "outputs": [
    {
     "name": "stdout",
     "output_type": "stream",
     "text": [
      "CPU times: user 2.43 ms, sys: 2.07 ms, total: 4.5 ms\n",
      "Wall time: 32.7 ms\n",
      "CPU times: user 2.99 ms, sys: 0 ns, total: 2.99 ms\n",
      "Wall time: 19.8 ms\n",
      "CPU times: user 2.41 ms, sys: 0 ns, total: 2.41 ms\n",
      "Wall time: 18.3 ms\n",
      "CPU times: user 2.24 ms, sys: 45 µs, total: 2.28 ms\n",
      "Wall time: 18.1 ms\n",
      "CPU times: user 2.38 ms, sys: 0 ns, total: 2.38 ms\n",
      "Wall time: 18.1 ms\n"
     ]
    }
   ],
   "source": [
    "import requests\n",
    "sess = requests.session()\n",
    "for i in range(N):\n",
    "    %time p = sess.get('http://www.baidu.com')\n",
    "\n",
    "sess.close()\n"
   ]
  },
  {
   "cell_type": "code",
   "execution_count": 6,
   "metadata": {},
   "outputs": [
    {
     "name": "stdout",
     "output_type": "stream",
     "text": [
      "CPU times: user 2.67 ms, sys: 1.95 ms, total: 4.62 ms\n",
      "Wall time: 25 ms\n",
      "CPU times: user 2.7 ms, sys: 147 µs, total: 2.85 ms\n",
      "Wall time: 14.6 ms\n",
      "CPU times: user 1.75 ms, sys: 953 µs, total: 2.71 ms\n",
      "Wall time: 15 ms\n",
      "CPU times: user 2.48 ms, sys: 43 µs, total: 2.52 ms\n",
      "Wall time: 14.8 ms\n",
      "CPU times: user 2.18 ms, sys: 279 µs, total: 2.46 ms\n",
      "Wall time: 14.1 ms\n"
     ]
    }
   ],
   "source": [
    "import requests\n",
    "import json\n",
    "sess = requests.session()\n",
    "for i in range(N):\n",
    "    %time sess.get('http://www.baidu.com')\n",
    "\n",
    "sess.close()\n"
   ]
  },
  {
   "cell_type": "code",
   "execution_count": 7,
   "metadata": {},
   "outputs": [
    {
     "name": "stdout",
     "output_type": "stream",
     "text": [
      "CPU times: user 550 µs, sys: 0 ns, total: 550 µs\n",
      "Wall time: 504 µs\n",
      "CPU times: user 0 ns, sys: 692 µs, total: 692 µs\n",
      "Wall time: 589 µs\n",
      "CPU times: user 27 µs, sys: 6 µs, total: 33 µs\n",
      "Wall time: 37 µs\n",
      "CPU times: user 23 µs, sys: 6 µs, total: 29 µs\n",
      "Wall time: 32.9 µs\n",
      "CPU times: user 29 µs, sys: 0 ns, total: 29 µs\n",
      "Wall time: 31.7 µs\n"
     ]
    }
   ],
   "source": [
    "from requests import session\n",
    "from requests_futures.sessions import FuturesSession\n",
    "my_session = session()\n",
    "sess = FuturesSession(session = my_session)\n",
    "\n",
    "for i in range(N):\n",
    "    %time sess.get('http://www.baidu.com')\n",
    "\n",
    "sess.close()\n"
   ]
  },
  {
   "cell_type": "code",
   "execution_count": null,
   "metadata": {},
   "outputs": [],
   "source": []
  }
 ],
 "metadata": {
  "kernelspec": {
   "display_name": "Python 3",
   "language": "python",
   "name": "python3"
  },
  "language_info": {
   "codemirror_mode": {
    "name": "ipython",
    "version": 3
   },
   "file_extension": ".py",
   "mimetype": "text/x-python",
   "name": "python",
   "nbconvert_exporter": "python",
   "pygments_lexer": "ipython3",
   "version": "3.6.5"
  }
 },
 "nbformat": 4,
 "nbformat_minor": 2
}
