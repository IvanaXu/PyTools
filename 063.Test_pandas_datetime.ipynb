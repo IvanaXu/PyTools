{
 "cells": [
  {
   "cell_type": "code",
   "execution_count": 1,
   "metadata": {},
   "outputs": [
    {
     "name": "stdout",
     "output_type": "stream",
     "text": [
      "CPU times: user 35 ms, sys: 293 µs, total: 35.3 ms\n",
      "Wall time: 35.4 ms\n",
      "CPU times: user 13.9 ms, sys: 281 µs, total: 14.2 ms\n",
      "Wall time: 14.3 ms\n",
      "CPU times: user 14.4 ms, sys: 271 µs, total: 14.6 ms\n",
      "Wall time: 14.7 ms\n",
      "CPU times: user 701 µs, sys: 35 µs, total: 736 µs\n",
      "Wall time: 725 µs\n",
      "CPU times: user 771 µs, sys: 50 µs, total: 821 µs\n",
      "Wall time: 768 µs\n",
      "CPU times: user 993 µs, sys: 24 µs, total: 1.02 ms\n",
      "Wall time: 1.01 ms\n",
      "CPU times: user 840 µs, sys: 51 µs, total: 891 µs\n",
      "Wall time: 862 µs\n",
      "CPU times: user 847 µs, sys: 76 µs, total: 923 µs\n",
      "Wall time: 869 µs\n"
     ]
    }
   ],
   "source": [
    "#\n",
    "import time\n",
    "import random\n",
    "import datetime as dt\n",
    "import pandas as pd\n",
    "\n",
    "def my_day(x, y):\n",
    "    x = dt.datetime.strptime(x,'%Y%m%d')\n",
    "    y = dt.datetime.strptime(y,'%Y%m%d')\n",
    "    interval = y-x\n",
    "    return interval.days\n",
    "\n",
    "def get_myday(arrLike, x, y):\n",
    "    x = arrLike[x]\n",
    "    y = arrLike[y]\n",
    "    getinterval = my_day(y.strip(), x.strip())\n",
    "    return getinterval\n",
    "\n",
    "star = time.mktime((2020,1,1,0,0,0,0,0,0))\n",
    "ends = time.mktime((2020,9,1,0,0,0,0,0,0) )\n",
    "strT = lambda: time.strftime(\"%Y%m%d\", time.localtime(random.randint(star, ends)))\n",
    "intT = lambda: int(strT())\n",
    "\n",
    "df = pd.DataFrame([[strT(), strT(), intT()] for _ in range(1000)], columns=list(\"ABC\"))\n",
    "\n",
    "%time df['days1'] = df.apply(get_myday, axis=1, args=(\"A\", \"B\"))\n",
    "%time df['days2'] = [(dt.datetime.strptime(y,'%Y%m%d')-dt.datetime.strptime(str(int(x)),'%Y%m%d')).days for x, y in zip(df['B'], df['A'])]\n",
    "%time df['days3'] = [(dt.datetime.strptime(y,'%Y%m%d')-dt.datetime.strptime(str(int(x)),'%Y%m%d')).days for x, y in zip(df['C'], df['A'])]\n",
    "\n",
    "%time df[\"dtA\"] = pd.to_datetime(df[\"A\"])\n",
    "%time df[\"dtB\"] = pd.to_datetime(df[\"B\"])\n",
    "%time df[\"dtC\"] = pd.to_datetime([str(_) for _ in df[\"C\"]])\n",
    "%time df['days4'] = (df[\"dtA\"]-df[\"dtB\"]).dt.days\n",
    "%time df['days5'] = (df[\"dtA\"]-df[\"dtC\"]).dt.days\n",
    "\n"
   ]
  },
  {
   "cell_type": "code",
   "execution_count": 3,
   "metadata": {},
   "outputs": [
    {
     "name": "stdout",
     "output_type": "stream",
     "text": [
      "CPU times: user 37 s, sys: 217 ms, total: 37.2 s\n",
      "Wall time: 37.5 s\n",
      "CPU times: user 13.2 s, sys: 34 ms, total: 13.3 s\n",
      "Wall time: 13.3 s\n",
      "CPU times: user 13.4 s, sys: 98.9 ms, total: 13.5 s\n",
      "Wall time: 13.6 s\n",
      "CPU times: user 170 ms, sys: 3.17 ms, total: 173 ms\n",
      "Wall time: 174 ms\n",
      "CPU times: user 176 ms, sys: 7.81 ms, total: 183 ms\n",
      "Wall time: 184 ms\n",
      "CPU times: user 442 ms, sys: 12 ms, total: 454 ms\n",
      "Wall time: 457 ms\n",
      "CPU times: user 32.9 ms, sys: 5.89 ms, total: 38.8 ms\n",
      "Wall time: 38.4 ms\n",
      "CPU times: user 36.8 ms, sys: 16.9 ms, total: 53.7 ms\n",
      "Wall time: 53.8 ms\n"
     ]
    }
   ],
   "source": [
    "df = pd.DataFrame([[strT(), strT(), intT()] for _ in range(1000000)], columns=list(\"ABC\"))\n",
    "\n",
    "%time df['days1'] = df.apply(get_myday, axis=1, args=(\"A\", \"B\"))\n",
    "%time df['days2'] = [(dt.datetime.strptime(y,'%Y%m%d')-dt.datetime.strptime(str(int(x)),'%Y%m%d')).days for x, y in zip(df['B'], df['A'])]\n",
    "%time df['days3'] = [(dt.datetime.strptime(y,'%Y%m%d')-dt.datetime.strptime(str(int(x)),'%Y%m%d')).days for x, y in zip(df['C'], df['A'])]\n",
    "\n",
    "%time df[\"dtA\"] = pd.to_datetime(df[\"A\"])\n",
    "%time df[\"dtB\"] = pd.to_datetime(df[\"B\"])\n",
    "%time df[\"dtC\"] = pd.to_datetime([str(_) for _ in df[\"C\"]])\n",
    "%time df['days4'] = (df[\"dtA\"]-df[\"dtB\"]).dt.days\n",
    "%time df['days5'] = (df[\"dtA\"]-df[\"dtC\"]).dt.days"
   ]
  },
  {
   "cell_type": "code",
   "execution_count": null,
   "metadata": {},
   "outputs": [],
   "source": []
  }
 ],
 "metadata": {
  "kernelspec": {
   "display_name": "Python 3",
   "language": "python",
   "name": "python3"
  },
  "language_info": {
   "codemirror_mode": {
    "name": "ipython",
    "version": 3
   },
   "file_extension": ".py",
   "mimetype": "text/x-python",
   "name": "python",
   "nbconvert_exporter": "python",
   "pygments_lexer": "ipython3",
   "version": "3.7.0"
  }
 },
 "nbformat": 4,
 "nbformat_minor": 2
}
