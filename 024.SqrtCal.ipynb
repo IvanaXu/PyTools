{
 "cells": [
  {
   "cell_type": "markdown",
   "metadata": {
    "collapsed": true,
    "pycharm": {
     "name": "#%% md\n"
    }
   },
   "source": [
    "> [base](https://www.cnblogs.com/pkuoliver/archive/2010/10/06/1844725.html?utm_source=wechat_session&utm_medium=social&utm_oi=648897917608398848)\n",
    ">\n",
    "> [sotry-about-sqrt](https://diducoder.com/sotry-about-sqrt.html)\n",
    ">\n",
    "\n",
    "二分法\n",
    "\n",
    "```\n",
    "double eps = 0.00000001;\n",
    "\n",
    "float SqrtByBisection(float n) //用二分法\n",
    "{\n",
    "    if(n<0) //小于0的按照你需要的处理\n",
    "        return n;\n",
    "    float mid,last;\n",
    "    float low,up;\n",
    "    low=0;\n",
    "    up=n;\n",
    "    mid=(low+up)/2;\n",
    "    do\n",
    "    {\n",
    "        if(mid*mid>n)\n",
    "            up=mid;\n",
    "        else\n",
    "            low=mid;\n",
    "        last=mid;\n",
    "        mid=(up+low)/2;\n",
    "    }while(abs(mid-last) > eps);//精度控制\n",
    "    return mid;\n",
    "}\n",
    "```"
   ]
  },
  {
   "cell_type": "code",
   "execution_count": 4,
   "outputs": [],
   "source": [
    "eps = 0.00000001"
   ],
   "metadata": {
    "collapsed": false,
    "pycharm": {
     "name": "#%%\n",
     "is_executing": false
    }
   }
  },
  {
   "cell_type": "code",
   "execution_count": 3,
   "outputs": [
    {
     "name": "stdout",
     "text": [
      "1.4142135605216026\n",
      "6.15 µs ± 1.84 ns per loop (mean ± std. dev. of 7 runs, 100000 loops each)\n"
     ],
     "output_type": "stream"
    }
   ],
   "source": [
    "def sqrt_by_bisection(n):\n",
    "    low, last = 0, 0\n",
    "    up = n\n",
    "    mid = (low + up)/2\n",
    "    while abs(mid - last) > eps:\n",
    "        if mid * mid > n:\n",
    "            up = mid\n",
    "        else:\n",
    "            low = mid\n",
    "        last = mid\n",
    "        mid = (up + low)/2\n",
    "    return mid\n",
    "print(sqrt_by_bisection(2))\n",
    "\n",
    "%timeit sqrt_by_bisection(2)"
   ],
   "metadata": {
    "collapsed": false,
    "pycharm": {
     "name": "#%%\n",
     "is_executing": false
    }
   }
  },
  {
   "cell_type": "markdown",
   "source": [
    "牛顿迭代法\n",
    "\n",
    "```\n",
    "double eps = 0.00000001;\n",
    "\n",
    "float SqrtByNewton(float x)\n",
    "{\n",
    "    float val = x;//最终\n",
    "    float last;//保存上一个计算的值\n",
    "    do\n",
    "    {\n",
    "        last = val;\n",
    "        val =(val + x/val) / 2;\n",
    "    }while(abs(val-last) > eps);\n",
    "    return val;\n",
    "}\n",
    "```"
   ],
   "metadata": {
    "collapsed": false,
    "pycharm": {
     "name": "#%% md\n"
    }
   }
  },
  {
   "cell_type": "code",
   "execution_count": 5,
   "outputs": [
    {
     "name": "stdout",
     "text": [
      "1.414213562373095\n",
      "1.14 µs ± 0.759 ns per loop (mean ± std. dev. of 7 runs, 1000000 loops each)\n"
     ],
     "output_type": "stream"
    }
   ],
   "source": [
    "def sqrt_by_newton(n):\n",
    "    mid = n\n",
    "    last = 0\n",
    "    while abs(mid - last) > eps:\n",
    "        last = mid\n",
    "        mid = (mid + n/mid) / 2\n",
    "    return mid\n",
    "print(sqrt_by_newton(2))\n",
    "\n",
    "%timeit sqrt_by_newton(2)"
   ],
   "metadata": {
    "collapsed": false,
    "pycharm": {
     "name": "#%%\n",
     "is_executing": false
    }
   }
  },
  {
   "cell_type": "markdown",
   "source": [
    "#### TODO\n",
    "\n",
    "```\n",
    "float InvSqrt(float x)\n",
    "{\n",
    "    float xhalf = 0.5f*x;\n",
    "    int i = *(int*)&x; // get bits for floating VALUE\n",
    "    i = 0x5f375a86-(i>>1); // gives initial guess y0\n",
    "    x = *(float*)&i; // convert bits BACK to float\n",
    "    x = x*(1.5f-xhalf*x*x); // Newton step, repeating increases accuracy\n",
    "    x = x*(1.5f-xhalf*x*x); // Newton step, repeating increases accuracy\n",
    "\n",
    "    return 1/x;\n",
    "}\n",
    "```\n"
   ],
   "metadata": {
    "collapsed": false,
    "pycharm": {
     "name": "#%% md\n"
    }
   }
  }
 ],
 "metadata": {
  "kernelspec": {
   "display_name": "Python 3",
   "language": "python",
   "name": "python3"
  },
  "language_info": {
   "codemirror_mode": {
    "name": "ipython",
    "version": 2
   },
   "file_extension": ".py",
   "mimetype": "text/x-python",
   "name": "python",
   "nbconvert_exporter": "python",
   "pygments_lexer": "ipython2",
   "version": "2.7.6"
  },
  "pycharm": {
   "stem_cell": {
    "cell_type": "raw",
    "source": [],
    "metadata": {
     "collapsed": false
    }
   }
  }
 },
 "nbformat": 4,
 "nbformat_minor": 0
}