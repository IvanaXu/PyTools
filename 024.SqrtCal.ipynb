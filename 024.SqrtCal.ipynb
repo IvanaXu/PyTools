{
 "cells": [
  {
   "cell_type": "markdown",
   "metadata": {
    "collapsed": true,
    "pycharm": {
     "name": "#%% md\n"
    }
   },
   "source": [
    ">\n",
    "> [base](https://www.cnblogs.com/pkuoliver/archive/2010/10/06/1844725.html?utm_source=wechat_session&utm_medium=social&utm_oi=648897917608398848)\n",
    ">\n",
    "> [sotry-about-sqrt](https://diducoder.com/sotry-about-sqrt.html)\n",
    ">\n",
    "> [InvSqrt.pdf](http://www.matrix67.com/data/InvSqrt.pdf)\n",
    "> \n",
    "\n",
    "二分法\n",
    "\n",
    "```\n",
    "double eps = 0.00000001;\n",
    "\n",
    "float SqrtByBisection(float n) //用二分法\n",
    "{\n",
    "    if(n<0) //小于0的按照你需要的处理\n",
    "        return n;\n",
    "    float mid,last;\n",
    "    float low,up;\n",
    "    low=0;\n",
    "    up=n;\n",
    "    mid=(low+up)/2;\n",
    "    do\n",
    "    {\n",
    "        if(mid*mid>n)\n",
    "            up=mid;\n",
    "        else\n",
    "            low=mid;\n",
    "        last=mid;\n",
    "        mid=(up+low)/2;\n",
    "    }while(abs(mid-last) > eps);//精度控制\n",
    "    return mid;\n",
    "}\n",
    "```"
   ]
  },
  {
   "cell_type": "code",
   "execution_count": 29,
   "metadata": {
    "pycharm": {
     "is_executing": false,
     "name": "#%%\n"
    }
   },
   "outputs": [],
   "source": [
    "eps = 0.00000001"
   ]
  },
  {
   "cell_type": "code",
   "execution_count": 30,
   "metadata": {
    "pycharm": {
     "is_executing": false,
     "name": "#%%\n"
    }
   },
   "outputs": [
    {
     "name": "stdout",
     "output_type": "stream",
     "text": [
      "1.4142135605216026\n",
      "6.26 µs ± 6.98 ns per loop (mean ± std. dev. of 7 runs, 100000 loops each)\n"
     ]
    }
   ],
   "source": [
    "def sqrt_by_bisection(n):\n",
    "    low, last = 0, 0\n",
    "    up = n\n",
    "    mid = (low + up)/2\n",
    "    while abs(mid - last) > eps:\n",
    "        if mid * mid > n:\n",
    "            up = mid\n",
    "        else:\n",
    "            low = mid\n",
    "        last = mid\n",
    "        mid = (up + low)/2\n",
    "    return mid\n",
    "print(sqrt_by_bisection(2))\n",
    "\n",
    "%timeit sqrt_by_bisection(2)"
   ]
  },
  {
   "cell_type": "markdown",
   "metadata": {
    "pycharm": {
     "name": "#%% md\n"
    }
   },
   "source": [
    "牛顿迭代法, 公式推导：\n",
    "\n",
    "$$ f(x) = x^2-2, 求f(x)=0 $$\n",
    "\n",
    "$$ x_1 = x_0 - \\frac{f(x_0)}{f^`(x_0)} $$\n",
    "\n",
    "$$ x_1 = x_0 - \\frac{x_0^2-2}{2x_0} = (x_0 + 2/x_0)/2 $$\n",
    "\n",
    "```\n",
    "# C\n",
    "double eps = 0.00000001;\n",
    "\n",
    "float SqrtByNewton(float x)\n",
    "{\n",
    "    float val = x;//最终\n",
    "    float last;//保存上一个计算的值\n",
    "    do\n",
    "    {\n",
    "        last = val;\n",
    "        val =(val + x/val) / 2;\n",
    "    }while(abs(val-last) > eps);\n",
    "    return val;\n",
    "}\n",
    "```"
   ]
  },
  {
   "cell_type": "code",
   "execution_count": 31,
   "metadata": {
    "pycharm": {
     "is_executing": false,
     "name": "#%%\n"
    }
   },
   "outputs": [
    {
     "name": "stdout",
     "output_type": "stream",
     "text": [
      "1.414213562373095\n",
      "1.14 µs ± 0.357 ns per loop (mean ± std. dev. of 7 runs, 1000000 loops each)\n"
     ]
    }
   ],
   "source": [
    "def sqrt_by_newton(n):\n",
    "    mid = n\n",
    "    last = 0\n",
    "    while abs(mid - last) > eps:\n",
    "        last = mid\n",
    "        mid = (mid + n/mid) / 2\n",
    "    return mid\n",
    "print(sqrt_by_newton(2))\n",
    "\n",
    "%timeit sqrt_by_newton(2)"
   ]
  },
  {
   "cell_type": "markdown",
   "metadata": {
    "pycharm": {
     "name": "#%% md\n"
    }
   },
   "source": [
    "SAS\n",
    "\n",
    "```\n",
    "%macro fcal(x=,t=,);\n",
    "    data &t.;\n",
    "    &t. = (&x.) ** 2 - 2;\n",
    "    run;\n",
    "%mend;\n",
    "\n",
    "%macro fcal_x(b=,fl=0.000001);\n",
    "    %let bf = 1;\n",
    "\n",
    "    %do i = 0 %to 100;\n",
    "        %fcal(x=&b., t=f);\n",
    "        %fcal(x=&b.-&fl., t=f_0);\n",
    "        %fcal(x=&b.+&fl., t=f_1);\n",
    "\n",
    "        data f_all;\n",
    "        merge f f_0 f_1;\n",
    "        x0 = &b.;\n",
    "        f_ = (f_1 - f_0)/(&fl.*2); # 导函数模拟\n",
    "/*         f_ = 2 * x0; */\n",
    "        x1 = x0 - f/f_;\n",
    "        run;\n",
    "\n",
    "        data _null_;\n",
    "        set f_all;\n",
    "        call symput(\"bb\", x1);\n",
    "        run;\n",
    "        \n",
    "        %fcal(x=&bb., t=f1);\n",
    "\n",
    "        data _null_;\n",
    "        set f1;\n",
    "        f1_ = f1 < 0.01;\n",
    "/*         f1_ = abs(&bb. - &b.) < 0.01; */\n",
    "        call symput(\"brf\", f1);\n",
    "        call symput(\"bf\", f1_);\n",
    "        run;\n",
    "        %put --------------------------- &bb. &brf. &bf.;\n",
    "        \n",
    "        %if &bf. = 1\n",
    "            %then %let i = 100;\n",
    "        %else %let b = &bb.;\n",
    "    %end;\n",
    "%mend;\n",
    "\n",
    "%fcal_x(b=4);\n",
    "\n",
    "# --------------------------- 2.2500000001 3.0625000005            0\n",
    "# --------------------------- 1.5694444446 0.4631558647            0\n",
    "# --------------------------- 1.4218903638 0.0217722067            0\n",
    "# --------------------------- 1.4142342859 0.0000586154            1\n",
    "```\n"
   ]
  },
  {
   "cell_type": "markdown",
   "metadata": {
    "pycharm": {
     "name": "#%% md\n"
    }
   },
   "source": [
    "InvSqrt\n",
    "\n",
    "> [Bit Twiddling Hacks](http://graphics.stanford.edu/~seander/bithacks.html)\n",
    "\n",
    "```\n",
    "float InvSqrt(float x)\n",
    "{\n",
    "    float xhalf = 0.5f*x;\n",
    "    int i = *(int*)&x; // get bits for floating VALUE\n",
    "    i = 0x5f375a86-(i>>1); // gives initial guess y0\n",
    "    x = *(float*)&i; // convert bits BACK to float\n",
    "    x = x*(1.5f-xhalf*x*x); // Newton step, repeating increases accuracy\n",
    "    x = x*(1.5f-xhalf*x*x); // Newton step, repeating increases accuracy\n",
    "\n",
    "    return 1/x;\n",
    "}\n",
    "```"
   ]
  },
  {
   "cell_type": "code",
   "execution_count": 32,
   "metadata": {
    "pycharm": {
     "is_executing": false,
     "name": "#%%\n"
    }
   },
   "outputs": [],
   "source": [
    "# def inv_sqrt(n):\n",
    "#     xhalf = 0.5 * n\n",
    "#     i = n\n",
    "#     i = 0x5f375a86 - (i>>1)\n",
    "#     x = i\n",
    "#     x = x * (1.5 - xhalf*x*x)\n",
    "#     x = x * (1.5 - xhalf*x*x)\n",
    "#     return 1/x\n",
    "# inv_sqrt(2)\n"
   ]
  }
 ],
 "metadata": {
  "kernelspec": {
   "display_name": "Python 3",
   "language": "python",
   "name": "python3"
  },
  "language_info": {
   "codemirror_mode": {
    "name": "ipython",
    "version": 3
   },
   "file_extension": ".py",
   "mimetype": "text/x-python",
   "name": "python",
   "nbconvert_exporter": "python",
   "pygments_lexer": "ipython3",
   "version": "3.7.0"
  },
  "pycharm": {
   "stem_cell": {
    "cell_type": "raw",
    "metadata": {
     "collapsed": false
    },
    "source": []
   }
  }
 },
 "nbformat": 4,
 "nbformat_minor": 1
}
