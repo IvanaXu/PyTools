{
 "cells": [
  {
   "cell_type": "code",
   "execution_count": 1,
   "metadata": {},
   "outputs": [],
   "source": [
    "import pandas as pd\n",
    "import numpy as np\n",
    "import time"
   ]
  },
  {
   "cell_type": "code",
   "execution_count": 2,
   "metadata": {},
   "outputs": [],
   "source": [
    "def f1(a1, a2):\n",
    "    n = 0\n",
    "    for i in a1:\n",
    "        if i in a2:\n",
    "            n += 1\n",
    "    for i in a2:\n",
    "        if i in a1:\n",
    "            n += 1\n",
    "    return n"
   ]
  },
  {
   "cell_type": "code",
   "execution_count": 3,
   "metadata": {},
   "outputs": [],
   "source": [
    "def f3(a1, a2):\n",
    "    n = 0\n",
    "    n = map(lambda x, y: f1(x, y), a1, a2) \n",
    "    return list(n)"
   ]
  },
  {
   "cell_type": "code",
   "execution_count": 4,
   "metadata": {},
   "outputs": [
    {
     "name": "stdout",
     "output_type": "stream",
     "text": [
      "222 µs ± 726 ns per loop (mean ± std. dev. of 7 runs, 1000 loops each)\n",
      "712 µs ± 3.24 µs per loop (mean ± std. dev. of 7 runs, 1000 loops each)\n",
      "36.9 µs ± 198 ns per loop (mean ± std. dev. of 7 runs, 10000 loops each)\n",
      "36.5 µs ± 71 ns per loop (mean ± std. dev. of 7 runs, 10000 loops each)\n",
      "17.3 µs ± 30.9 ns per loop (mean ± std. dev. of 7 runs, 100000 loops each)\n"
     ]
    }
   ],
   "source": [
    "N = 5\n",
    "data = pd.DataFrame(np.random.uniform(1,9,(N,2)), columns=['A', 'B'], dtype=str)\n",
    "%timeit data1 = data['A'].combine(data['B'], f1)\n",
    "%timeit data1 = data.apply(lambda x: f1(x['A'], x['B']), axis=1)\n",
    "%timeit data1 = f3(data['A'], data['B'])\n",
    "%timeit data1 = [f1(x, y) for x, y in zip(data['A'], data['B'])]\n",
    "%timeit data1 = f3(data['A'].values, data['B'].values)"
   ]
  },
  {
   "cell_type": "code",
   "execution_count": 5,
   "metadata": {},
   "outputs": [
    {
     "name": "stdout",
     "output_type": "stream",
     "text": [
      "13.4 ms ± 115 µs per loop (mean ± std. dev. of 7 runs, 100 loops each)\n",
      "11.5 ms ± 97.8 µs per loop (mean ± std. dev. of 7 runs, 100 loops each)\n",
      "1.02 ms ± 3.49 µs per loop (mean ± std. dev. of 7 runs, 1000 loops each)\n",
      "996 µs ± 1.27 µs per loop (mean ± std. dev. of 7 runs, 1000 loops each)\n",
      "1.01 ms ± 1.65 µs per loop (mean ± std. dev. of 7 runs, 1000 loops each)\n"
     ]
    }
   ],
   "source": [
    "N = 500\n",
    "data = pd.DataFrame(np.random.uniform(1,9,(N,2)), columns=['A', 'B'], dtype=str)\n",
    "%timeit data1 = data['A'].combine(data['B'], f1)\n",
    "%timeit data1 = data.apply(lambda x: f1(x['A'], x['B']), axis=1)\n",
    "%timeit data1 = f3(data['A'], data['B'])\n",
    "%timeit data1 = [f1(x, y) for x, y in zip(data['A'], data['B'])]\n",
    "%timeit data1 = f3(data['A'].values, data['B'].values)"
   ]
  },
  {
   "cell_type": "code",
   "execution_count": 6,
   "metadata": {},
   "outputs": [
    {
     "name": "stdout",
     "output_type": "stream",
     "text": [
      "1.32 s ± 5.1 ms per loop (mean ± std. dev. of 7 runs, 1 loop each)\n",
      "1.07 s ± 4.87 ms per loop (mean ± std. dev. of 7 runs, 1 loop each)\n",
      "101 ms ± 363 µs per loop (mean ± std. dev. of 7 runs, 10 loops each)\n",
      "97.9 ms ± 239 µs per loop (mean ± std. dev. of 7 runs, 10 loops each)\n",
      "100 ms ± 281 µs per loop (mean ± std. dev. of 7 runs, 10 loops each)\n"
     ]
    }
   ],
   "source": [
    "N = 50000\n",
    "data = pd.DataFrame(np.random.uniform(1,9,(N,2)), columns=['A', 'B'], dtype=str)\n",
    "%timeit data1 = data['A'].combine(data['B'], f1)\n",
    "%timeit data1 = data.apply(lambda x: f1(x['A'], x['B']), axis=1)\n",
    "%timeit data1 = f3(data['A'], data['B'])\n",
    "%timeit data1 = [f1(x, y) for x, y in zip(data['A'], data['B'])]\n",
    "%timeit data1 = f3(data['A'].values, data['B'].values)"
   ]
  }
 ],
 "metadata": {
  "kernelspec": {
   "display_name": "Python 3",
   "language": "python",
   "name": "python3"
  },
  "language_info": {
   "codemirror_mode": {
    "name": "ipython",
    "version": 3
   },
   "file_extension": ".py",
   "mimetype": "text/x-python",
   "name": "python",
   "nbconvert_exporter": "python",
   "pygments_lexer": "ipython3",
   "version": "3.6.5"
  }
 },
 "nbformat": 4,
 "nbformat_minor": 2
}
