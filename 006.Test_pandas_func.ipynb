{
 "cells": [
  {
   "cell_type": "code",
   "execution_count": 1,
   "metadata": {
    "pycharm": {}
   },
   "outputs": [],
   "source": [
    "import pandas as pd\n",
    "import numpy as np"
   ]
  },
  {
   "cell_type": "code",
   "execution_count": 2,
   "metadata": {
    "pycharm": {}
   },
   "outputs": [],
   "source": [
    "def f1(a1, a2):\n",
    "    n = 0\n",
    "    for i in a1:\n",
    "        if i in a2:\n",
    "            n += 1\n",
    "    for i in a2:\n",
    "        if i in a1:\n",
    "            n += 1\n",
    "    return n"
   ]
  },
  {
   "cell_type": "code",
   "execution_count": 3,
   "metadata": {
    "pycharm": {}
   },
   "outputs": [],
   "source": [
    "def f3(a1, a2):\n",
    "    n = 0\n",
    "    n = map(lambda x, y: f1(x, y), a1, a2) \n",
    "    return list(n)"
   ]
  },
  {
   "cell_type": "code",
   "execution_count": 4,
   "metadata": {
    "pycharm": {}
   },
   "outputs": [
    {
     "name": "stdout",
     "output_type": "stream",
     "text": [
      "218 µs ± 4.19 µs per loop (mean ± std. dev. of 7 runs, 1000 loops each)\n",
      "698 µs ± 1.07 µs per loop (mean ± std. dev. of 7 runs, 1000 loops each)\n",
      "37 µs ± 20.5 ns per loop (mean ± std. dev. of 7 runs, 10000 loops each)\n",
      "36.5 µs ± 26.5 ns per loop (mean ± std. dev. of 7 runs, 10000 loops each)\n",
      "16.9 µs ± 15.3 ns per loop (mean ± std. dev. of 7 runs, 100000 loops each)\n"
     ]
    }
   ],
   "source": [
    "N = 5\n",
    "data = pd.DataFrame(np.random.uniform(1,9,(N,2)), columns=['A', 'B'], dtype=str)\n",
    "%timeit data1 = data['A'].combine(data['B'], f1)\n",
    "%timeit data1 = data.apply(lambda x: f1(x['A'], x['B']), axis=1)\n",
    "%timeit data1 = f3(data['A'], data['B'])\n",
    "%timeit data1 = [f1(x, y) for x, y in zip(data['A'], data['B'])]\n",
    "%timeit data1 = f3(data['A'].values, data['B'].values)"
   ]
  },
  {
   "cell_type": "code",
   "execution_count": 5,
   "metadata": {
    "pycharm": {}
   },
   "outputs": [
    {
     "name": "stdout",
     "output_type": "stream",
     "text": [
      "13 ms ± 11.7 µs per loop (mean ± std. dev. of 7 runs, 100 loops each)\n",
      "11.2 ms ± 18.8 µs per loop (mean ± std. dev. of 7 runs, 100 loops each)\n",
      "1.02 ms ± 1.47 µs per loop (mean ± std. dev. of 7 runs, 1000 loops each)\n",
      "982 µs ± 733 ns per loop (mean ± std. dev. of 7 runs, 1000 loops each)\n",
      "1.01 ms ± 1 µs per loop (mean ± std. dev. of 7 runs, 1000 loops each)\n"
     ]
    }
   ],
   "source": [
    "N = 500\n",
    "data = pd.DataFrame(np.random.uniform(1,9,(N,2)), columns=['A', 'B'], dtype=str)\n",
    "%timeit data1 = data['A'].combine(data['B'], f1)\n",
    "%timeit data1 = data.apply(lambda x: f1(x['A'], x['B']), axis=1)\n",
    "%timeit data1 = f3(data['A'], data['B'])\n",
    "%timeit data1 = [f1(x, y) for x, y in zip(data['A'], data['B'])]\n",
    "%timeit data1 = f3(data['A'].values, data['B'].values)"
   ]
  },
  {
   "cell_type": "code",
   "execution_count": null,
   "metadata": {
    "pycharm": {}
   },
   "outputs": [
    {
     "name": "stdout",
     "output_type": "stream",
     "text": [
      "1.29 s ± 3.74 ms per loop (mean ± std. dev. of 7 runs, 1 loop each)\n",
      "1.04 s ± 2.83 ms per loop (mean ± std. dev. of 7 runs, 1 loop each)\n",
      "99.6 ms ± 58.6 µs per loop (mean ± std. dev. of 7 runs, 10 loops each)\n",
      "96.7 ms ± 121 µs per loop (mean ± std. dev. of 7 runs, 10 loops each)\n"
     ]
    }
   ],
   "source": [
    "N = 50000\n",
    "data = pd.DataFrame(np.random.uniform(1,9,(N,2)), columns=['A', 'B'], dtype=str)\n",
    "%timeit data1 = data['A'].combine(data['B'], f1)\n",
    "%timeit data1 = data.apply(lambda x: f1(x['A'], x['B']), axis=1)\n",
    "%timeit data1 = f3(data['A'], data['B'])\n",
    "%timeit data1 = [f1(x, y) for x, y in zip(data['A'], data['B'])]\n",
    "%timeit data1 = f3(data['A'].values, data['B'].values)"
   ]
  },
  {
   "cell_type": "code",
   "execution_count": null,
   "metadata": {},
   "outputs": [],
   "source": []
  }
 ],
 "metadata": {
  "kernelspec": {
   "display_name": "Python 3",
   "language": "python",
   "name": "python3"
  },
  "language_info": {
   "codemirror_mode": {
    "name": "ipython",
    "version": 3
   },
   "file_extension": ".py",
   "mimetype": "text/x-python",
   "name": "python",
   "nbconvert_exporter": "python",
   "pygments_lexer": "ipython3",
   "version": "3.6.5"
  }
 },
 "nbformat": 4,
 "nbformat_minor": 2
}
