{
 "cells": [
  {
   "cell_type": "code",
   "execution_count": 1,
   "metadata": {},
   "outputs": [
    {
     "data": {
      "text/plain": [
       "'\\n{[]} {[]}\\n{[]} {[]}\\n\\n(None, None)\\n'"
      ]
     },
     "execution_count": 1,
     "metadata": {},
     "output_type": "execute_result"
    }
   ],
   "source": [
    "class S:\n",
    "    def a(self, s: str) -> bool:\n",
    "        s1 = s\n",
    "        print(s1, s)\n",
    "\n",
    "# jupyter\n",
    "# %time S().a('{[]}'), S().a(\"{[]}\")\n",
    "\"\"\"\n",
    "[] []\n",
    "[] []\n",
    "CPU times: user 695 µs, sys: 212 µs, total: 907 µs\n",
    "Wall time: 528 µs\n",
    "\n",
    "(None, None)\n",
    "\"\"\"\n",
    "\n",
    "# jupyter\n",
    "# S().a('{[]}'), S().a(\"{[]}\")\n",
    "\"\"\"\n",
    "{[]} {[]}\n",
    "{[]} {[]}\n",
    "\n",
    "(None, None)\n",
    "\"\"\""
   ]
  },
  {
   "cell_type": "code",
   "execution_count": 2,
   "metadata": {},
   "outputs": [],
   "source": [
    "class S:\n",
    "    def a(self, s: str) -> bool:\n",
    "        s1 = s\n",
    "        print(s1, s)"
   ]
  },
  {
   "cell_type": "code",
   "execution_count": 3,
   "metadata": {},
   "outputs": [
    {
     "name": "stdout",
     "output_type": "stream",
     "text": [
      "[] []\n",
      "[] []\n",
      "CPU times: user 2.83 ms, sys: 970 µs, total: 3.8 ms\n",
      "Wall time: 2.16 ms\n"
     ]
    },
    {
     "data": {
      "text/plain": [
       "(None, None)"
      ]
     },
     "execution_count": 3,
     "metadata": {},
     "output_type": "execute_result"
    }
   ],
   "source": [
    "%time S().a('{[]}'), S().a(\"{[]}\")"
   ]
  },
  {
   "cell_type": "code",
   "execution_count": 4,
   "metadata": {},
   "outputs": [
    {
     "name": "stdout",
     "output_type": "stream",
     "text": [
      "{[]} {[]}\n",
      "{[]} {[]}\n"
     ]
    },
    {
     "data": {
      "text/plain": [
       "(None, None)"
      ]
     },
     "execution_count": 4,
     "metadata": {},
     "output_type": "execute_result"
    }
   ],
   "source": [
    "S().a('{[]}'), S().a(\"{[]}\")"
   ]
  },
  {
   "cell_type": "code",
   "execution_count": null,
   "metadata": {},
   "outputs": [],
   "source": []
  }
 ],
 "metadata": {
  "kernelspec": {
   "display_name": "Python 3",
   "language": "python",
   "name": "python3"
  },
  "language_info": {
   "codemirror_mode": {
    "name": "ipython",
    "version": 3
   },
   "file_extension": ".py",
   "mimetype": "text/x-python",
   "name": "python",
   "nbconvert_exporter": "python",
   "pygments_lexer": "ipython3",
   "version": "3.6.5"
  }
 },
 "nbformat": 4,
 "nbformat_minor": 2
}
